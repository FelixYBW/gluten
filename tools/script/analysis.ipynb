{
 "cells": [
  {
   "cell_type": "markdown",
   "id": "413971f1",
   "metadata": {},
   "source": [
    "# Initialize"
   ]
  },
  {
   "cell_type": "code",
   "execution_count": null,
   "id": "ef49f1d6",
   "metadata": {},
   "outputs": [],
   "source": [
    "import findspark\n",
    "findspark.init(\"/usr/lib/spark-3.2/\")"
   ]
  },
  {
   "cell_type": "code",
   "execution_count": null,
   "id": "21f1372c",
   "metadata": {},
   "outputs": [],
   "source": [
    "import math\n",
    "import time"
   ]
  },
  {
   "cell_type": "code",
   "execution_count": null,
   "id": "534a9649",
   "metadata": {},
   "outputs": [],
   "source": []
  },
  {
   "cell_type": "code",
   "execution_count": null,
   "id": "b9ba35bc",
   "metadata": {
    "tags": [
     "parameters"
    ]
   },
   "outputs": [],
   "source": [
    "qid='s072'\n",
    "appid='s072_application_1710358003975_2151'\n",
    "vanilla_appid='s072_application_1710358003975_2152'"
   ]
  },
  {
   "cell_type": "code",
   "execution_count": null,
   "id": "46472ff6",
   "metadata": {},
   "outputs": [],
   "source": []
  },
  {
   "cell_type": "code",
   "execution_count": null,
   "id": "e2e152a4",
   "metadata": {},
   "outputs": [],
   "source": []
  },
  {
   "cell_type": "code",
   "execution_count": null,
   "id": "69536af1",
   "metadata": {},
   "outputs": [],
   "source": [
    "import os\n",
    "os.environ['PYSPARK_PYTHON'] = \"./jupyter_env/bin/python\""
   ]
  },
  {
   "cell_type": "code",
   "execution_count": null,
   "id": "46ecb84d",
   "metadata": {
    "code_folding": [],
    "scrolled": true
   },
   "outputs": [],
   "source": [
    "executors_per_node = 5\n",
    "nodes=2\n",
    "cores_per_executor=4\n",
    "task_per_core=4\n",
    "\n",
    "\n",
    "cache_size=20\n",
    "total_size=100000\n",
    "print('executor per node: {:d}\\nparallelism: {:d}\\nmemory: {:d}m\\noffheap:{:d}m'.format(executors_per_node,nodes*executors_per_node*cores_per_executor*task_per_core,int(math.floor(nodes*total_size/(nodes*executors_per_node)))-1024-int(math.floor(cache_size*1024/(nodes*executors_per_node))),int(math.floor(cache_size*1024/(nodes*executors_per_node)))))\n",
    "\n",
    "from pyspark import SparkConf, SparkContext\n",
    "from pyspark.sql import SQLContext\n",
    "conf = (SparkConf()\n",
    "    .set(\"spark.default.parallelism\", \"{:d}\".format(nodes*executors_per_node))\n",
    "    .set('spark.executor.instances', '{:d}'.format(nodes*executors_per_node))\n",
    "    .set('spark.sql.files.maxPartitionBytes', '256m')\n",
    "    .set('spark.app.name', f'{qid}_process')\n",
    "    .set('spark.rdd.compress', 'False')\n",
    "    .set('spark.serializer','org.apache.spark.serializer.KryoSerializer')    \n",
    "    .set('spark.executor.cores','{:d}'.format(cores_per_executor))\n",
    "    .set('spark.sql.adaptive.coalescePartitions.initialPartitionNum','{:d}'.format(nodes*executors_per_node*cores_per_executor*task_per_core))\n",
    "    .set('spark.sql.adaptive.enabled',True)\n",
    "    .set('spark.sql.adaptive.advisoryPartitionSizeInBytes', '256m')\n",
    "    .set('spark.executor.memory', '{:d}m'.format(int(math.floor(nodes*total_size/(nodes*executors_per_node)))-1024-int(math.floor(cache_size*1024/(nodes*executors_per_node)))))\n",
    "    .set('spark.task.cpus','1')\n",
    "    .set('spark.driver.memory','128g')\n",
    "    .set('spark.sql.inMemoryColumnarStorage.compressed','False')\n",
    "    .set('spark.sql.inMemoryColumnarStorage.batchSize','100000')\n",
    "#    .set('spark.memory.storageFraction','0.8')\n",
    "#    .set('spark.memory.fraction','0.7')\n",
    "        \n",
    "    .set('spark.sql.execution.arrow.fallback.enabled','True')\n",
    "    .set('spark.sql.execution.arrow.enabled','True')\n",
    "    .set('spark.sql.execution.arrow.maxRecordsPerBatch','100000')\n",
    "    .set(\"spark.sql.repl.eagerEval.enabled\", True)\n",
    "        \n",
    "    .set('spark.memory.offHeap.enabled','True')\n",
    "    .set('spark.memory.offHeap.size','{:d}m'.format(int(math.floor(cache_size*1024/(nodes*executors_per_node)))))\n",
    "    .set('spark.executor.memoryOverhead','{:d}m'.format(int(math.floor(cache_size*1024/(nodes*executors_per_node)))+3000))\n",
    "    .set('spark.sql.join.preferSortMergeJoin','False')\n",
    "#    .set('spark.executor.extraJavaOptions',\n",
    "#          '-XX:+UseG1GC -XX:+PrintFlagsFinal -XX:+PrintReferenceGC -verbose:gc -XX:+PrintGCDetails -XX:+PrintGCTimeStamps -XX:InitiatingHeapOccupancyPercent=35')\n",
    "    .set('spark.executor.extraJavaOptions',\n",
    "          '-XX:+UseParallelGC -XX:+UseParallelOldGC -verbose:gc -XX:+PrintGCDetails -XX:+PrintGCTimeStamps')\n",
    "    .set('spark.dynamicAllocation.enabled', 'False')\n",
    "    .set('spark.shuffle.service.enabled', 'False')\n",
    "    .set('spark.dynamicAllocation.shuffleTracking.enabled', 'Falze')\n",
    "    .set(\"spark.sql.legacy.timeParserPolicy\",\"LEGACY\")\n",
    "    .set(\"spark.kryoserializer.buffer.max\",\"1024m\")\n",
    "    .set('spark.sql.autoBroadcastJoinThreshold', '-1')\n",
    "\n",
    "        \n",
    "#    .set(\"spark.sql.session.timeZone\", \"PST\")\n",
    "     .set(\"spark.sql.session.timeZone\", \"Etc/GMT-0\")\n",
    "#     .set(\"spark.driver.extraJavaOptions\",\"-Duser.timezone=UTC+8\")\n",
    "    .set('spark.yarn.dist.archives', \"/home/binweiyang/jupyter_env.tar.gz#jupyter_env\")\n",
    "       )\n",
    "\n",
    "sc = SparkContext(conf=conf,master='yarn')\n",
    "sc.setLogLevel(\"ERROR\")\n",
    "spark = SQLContext(sc)\n",
    "time.sleep(10)\n"
   ]
  },
  {
   "cell_type": "code",
   "execution_count": null,
   "id": "cb0672cb",
   "metadata": {},
   "outputs": [],
   "source": [
    "%run /home/binweiyang/ipython/spark_log_pinterest.ipynb"
   ]
  },
  {
   "cell_type": "code",
   "execution_count": null,
   "id": "0ebbc298",
   "metadata": {},
   "outputs": [],
   "source": []
  },
  {
   "cell_type": "code",
   "execution_count": null,
   "id": "b5681a19",
   "metadata": {},
   "outputs": [],
   "source": []
  },
  {
   "cell_type": "markdown",
   "id": "1c201e01",
   "metadata": {},
   "source": [
    "# analysis"
   ]
  },
  {
   "cell_type": "code",
   "execution_count": null,
   "id": "caec3c96",
   "metadata": {},
   "outputs": [],
   "source": [
    "app=Application_Run(appid,basedir=\"profile\")\n",
    "appals=app.analysis['app']['als']"
   ]
  },
  {
   "cell_type": "code",
   "execution_count": null,
   "id": "15d4f624",
   "metadata": {
    "scrolled": true
   },
   "outputs": [],
   "source": [
    "appals.get_basic_state()"
   ]
  },
  {
   "cell_type": "code",
   "execution_count": null,
   "id": "35d42124",
   "metadata": {
    "scrolled": false
   },
   "outputs": [],
   "source": [
    "summary=app.get_summary(disk_prefix=[\"'nvme1n1'\",\"'nvme2n1'\"],nic_prefix=[\"'eth0'\"])\n",
    "display(summary.style)"
   ]
  },
  {
   "cell_type": "code",
   "execution_count": null,
   "id": "04ac4a44",
   "metadata": {
    "scrolled": false
   },
   "outputs": [],
   "source": [
    "app.generate_trace_view(disk_prefix=[\"'nvme1n1'\",\"'nvme2n1'\"],nic_prefix=[\"'eth0'\"])"
   ]
  },
  {
   "cell_type": "code",
   "execution_count": null,
   "id": "0b1a8786",
   "metadata": {},
   "outputs": [],
   "source": [
    "bkd=appals.show_critical_path_time_breakdown()"
   ]
  },
  {
   "cell_type": "code",
   "execution_count": null,
   "id": "096df0bb",
   "metadata": {},
   "outputs": [],
   "source": [
    "bkd.to_dict()"
   ]
  },
  {
   "cell_type": "code",
   "execution_count": null,
   "id": "05a0ece7",
   "metadata": {},
   "outputs": [],
   "source": [
    "qtime=appals.get_query_time()"
   ]
  },
  {
   "cell_type": "code",
   "execution_count": null,
   "id": "477d3db1",
   "metadata": {},
   "outputs": [],
   "source": [
    "for qid,time in dict(qtime[\"runtime\"]).items():\n",
    "    if time>100:\n",
    "        appals.get_query_plan(queryid=qid,show_simple_string=True)"
   ]
  },
  {
   "cell_type": "code",
   "execution_count": null,
   "id": "d4fb281b",
   "metadata": {},
   "outputs": [],
   "source": [
    "app_base=Application_Run(vanilla_appid,basedir=\"profile\")\n",
    "for qid,time in dict(qtime[\"runtime\"]).items():\n",
    "    if time>100:\n",
    "        app.show_queryplan_diff(qid,rapp=app_base)\n"
   ]
  },
  {
   "cell_type": "code",
   "execution_count": null,
   "id": "d5033f93",
   "metadata": {},
   "outputs": [],
   "source": [
    "t=appals.get_hottest_stages()\n"
   ]
  },
  {
   "cell_type": "code",
   "execution_count": null,
   "id": "9fd98b93",
   "metadata": {},
   "outputs": [],
   "source": [
    "app_base=Application_Run(vanilla_appid,basedir=\"profile\")\n",
    "t=app_base.analysis['app']['als'].get_hottest_stages()"
   ]
  },
  {
   "cell_type": "code",
   "execution_count": null,
   "id": "2a6a8ed2",
   "metadata": {},
   "outputs": [],
   "source": []
  },
  {
   "cell_type": "code",
   "execution_count": null,
   "id": "7706737a",
   "metadata": {},
   "outputs": [],
   "source": []
  },
  {
   "cell_type": "code",
   "execution_count": 20,
   "id": "bc4a56e4",
   "metadata": {},
   "outputs": [],
   "source": [
    "sc.stop()"
   ]
  },
  {
   "cell_type": "code",
   "execution_count": null,
   "id": "1a0defea",
   "metadata": {},
   "outputs": [],
   "source": []
  },
  {
   "cell_type": "code",
   "execution_count": null,
   "id": "2b2ccc5f",
   "metadata": {},
   "outputs": [],
   "source": []
  },
  {
   "cell_type": "code",
   "execution_count": null,
   "id": "10f966c7",
   "metadata": {},
   "outputs": [],
   "source": []
  },
  {
   "cell_type": "code",
   "execution_count": null,
   "id": "16263fd8",
   "metadata": {},
   "outputs": [],
   "source": []
  },
  {
   "cell_type": "code",
   "execution_count": null,
   "id": "292cc5f5",
   "metadata": {},
   "outputs": [],
   "source": []
  },
  {
   "cell_type": "code",
   "execution_count": null,
   "id": "ef54a2c9",
   "metadata": {},
   "outputs": [],
   "source": []
  }
 ],
 "metadata": {
  "celltoolbar": "Tags",
  "hide_input": false,
  "kernelspec": {
   "display_name": "Python 3 (ipykernel)",
   "language": "python",
   "name": "python3"
  },
  "language_info": {
   "codemirror_mode": {
    "name": "ipython",
    "version": 3
   },
   "file_extension": ".py",
   "mimetype": "text/x-python",
   "name": "python",
   "nbconvert_exporter": "python",
   "pygments_lexer": "ipython3",
   "version": "3.7.13"
  },
  "nbTranslate": {
   "displayLangs": [
    "*"
   ],
   "hotkey": "alt-t",
   "langInMainMenu": true,
   "sourceLang": "en",
   "targetLang": "fr",
   "useGoogleTranslate": true
  },
  "toc": {
   "base_numbering": 1,
   "nav_menu": {},
   "number_sections": true,
   "sideBar": true,
   "skip_h1_title": false,
   "title_cell": "Table of Contents",
   "title_sidebar": "Contents",
   "toc_cell": false,
   "toc_position": {},
   "toc_section_display": true,
   "toc_window_display": false
  },
  "varInspector": {
   "cols": {
    "lenName": 16,
    "lenType": 16,
    "lenVar": 40
   },
   "kernels_config": {
    "python": {
     "delete_cmd_postfix": "",
     "delete_cmd_prefix": "del ",
     "library": "var_list.py",
     "varRefreshCmd": "print(var_dic_list())"
    },
    "r": {
     "delete_cmd_postfix": ") ",
     "delete_cmd_prefix": "rm(",
     "library": "var_list.r",
     "varRefreshCmd": "cat(var_dic_list()) "
    }
   },
   "types_to_exclude": [
    "module",
    "function",
    "builtin_function_or_method",
    "instance",
    "_Feature"
   ],
   "window_display": false
  }
 },
 "nbformat": 4,
 "nbformat_minor": 5
}
