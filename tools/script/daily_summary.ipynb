{
 "cells": [
  {
   "cell_type": "code",
   "execution_count": null,
   "id": "0a3979d8",
   "metadata": {},
   "outputs": [],
   "source": [
    "import pandas"
   ]
  },
  {
   "cell_type": "code",
   "execution_count": null,
   "id": "50054908",
   "metadata": {},
   "outputs": [],
   "source": [
    "from github import Github"
   ]
  },
  {
   "cell_type": "code",
   "execution_count": null,
   "id": "fe182a36",
   "metadata": {},
   "outputs": [],
   "source": [
    "from IPython.display import HTML"
   ]
  },
  {
   "cell_type": "code",
   "execution_count": null,
   "id": "b899936e",
   "metadata": {},
   "outputs": [],
   "source": [
    "from github import Auth"
   ]
  },
  {
   "cell_type": "code",
   "execution_count": null,
   "id": "f26ac231",
   "metadata": {},
   "outputs": [],
   "source": [
    "auth = Auth.Token(\"\")"
   ]
  },
  {
   "cell_type": "code",
   "execution_count": null,
   "id": "80e2c838",
   "metadata": {},
   "outputs": [],
   "source": [
    "g = Github(auth=auth)"
   ]
  },
  {
   "cell_type": "code",
   "execution_count": null,
   "id": "b695e86c",
   "metadata": {},
   "outputs": [],
   "source": [
    "import os\n",
    "os.environ['http_proxy']=''\n",
    "os.environ['https_proxy']=''"
   ]
  },
  {
   "cell_type": "markdown",
   "id": "c1e39566",
   "metadata": {},
   "source": [
    "# IDs"
   ]
  },
  {
   "cell_type": "code",
   "execution_count": null,
   "id": "6464453e",
   "metadata": {
    "hide_input": false,
    "scrolled": true
   },
   "outputs": [],
   "source": [
    "githubids='''\n",
    "\n",
    "Intel Gluten:\n",
    "zhztheplayer\n",
    "rui-mo\n",
    "marin-ma\n",
    "PHILO-HE\n",
    "JkSelf\n",
    "jinchengchenghh\n",
    "zhouyuan\n",
    "zhejiangxiaomai\n",
    "FelixYBW\n",
    "yma11\n",
    "weiting-chen\n",
    "lviiii\n",
    "zhixingheyi-tian\n",
    "xieqi\n",
    "PZD-CHINA\n",
    "Ma-Jian1\n",
    "winningsix\n",
    "\n",
    "'''.split(\"\\n\")\n",
    "\n",
    "#unknown:\n",
    "#Surbhi-Vijay\n",
    "#asvyatet\n",
    "#HannanKan\n",
    "#zheniantoushipashi\n",
    "#izchen\n",
    "#j7nhai\n",
    "#QiangCai\n",
    "#CLTFOREVER\n",
    "#wang-zhun\n",
    "#zbbkeepgoing\n",
    "#XorSum\n",
    "#cambyzju\n",
    "#unigof\n",
    "#chong0929\n",
    "#tomscut\n",
    "#ychris78\n",
    "#guhaiyan0221\n",
    "#z123\n",
    "#zhangnew\n",
    "#kevincmchen\n",
    "#donvi\n",
    "#wangyum\n",
    "#stenicholas"
   ]
  },
  {
   "cell_type": "code",
   "execution_count": null,
   "id": "88295610",
   "metadata": {},
   "outputs": [],
   "source": [
    "company_to_id={}\n",
    "id_to_company={}\n",
    "\n",
    "company=\"\"\n",
    "for i in githubids:\n",
    "    i=i.strip().lower()\n",
    "    if i.endswith(\":\"):\n",
    "        company=i[:-1]\n",
    "        company_to_id[company]=[]\n",
    "    elif len(i)>0:\n",
    "        company_to_id[company].append(i)\n",
    "        id_to_company[i]=company"
   ]
  },
  {
   "cell_type": "code",
   "execution_count": null,
   "id": "30762e29",
   "metadata": {},
   "outputs": [],
   "source": [
    "from datetime import date\n",
    "import datetime\n",
    "\n",
    "today = date.today()\n",
    "now = datetime.datetime.now()\n",
    "d=datetime.timedelta(days = 1)\n",
    "todaynow = now - d\n",
    "d=datetime.timedelta(days = 7)\n",
    "weekago = today - d\n",
    "monthago = today - datetime.timedelta(days = 30)"
   ]
  },
  {
   "cell_type": "markdown",
   "id": "3638d494",
   "metadata": {},
   "source": [
    "# functions"
   ]
  },
  {
   "cell_type": "code",
   "execution_count": null,
   "id": "216d69f0",
   "metadata": {},
   "outputs": [],
   "source": [
    "def get_issue_pull(issues):\n",
    "    list_issues_day=[]\n",
    "    list_pulls_day=[]\n",
    "    list_issues_week=[]\n",
    "    list_pulls_week=[]\n",
    "    \n",
    "    for l in issues:\n",
    "        # Timezone info of your timezone aware variable\n",
    "        timezone = l.created_at.tzinfo\n",
    "        # Current datetime for the timezone of your variable\n",
    "        todaynow = datetime.datetime.now(timezone) - datetime.timedelta(days = 1)\n",
    "\n",
    "        if l.created_at>=todaynow :\n",
    "            if l.pull_request is None:\n",
    "                list_issues_day.append({\"id\":l.number,\"author\":l.user.login,\"company\":id_to_company[l.user.login.lower()] if l.user.login.lower() in id_to_company else \"unknown\",\"title\":l.title,\"url\":l.html_url})\n",
    "            else:\n",
    "                list_pulls_day.append({\"id\":l.number,\"author\":l.user.login,\"company\":id_to_company[l.user.login.lower()] if l.user.login.lower() in id_to_company else \"unknown\",\"title\":l.title,\"url\":l.html_url})\n",
    "        elif l.updated_at.date()>=weekago and \"[CH]\" not in l.title:\n",
    "            if l.pull_request is None:\n",
    "                list_issues_week.append({\"id\":l.number,\"author\":l.user.login,\"company\":id_to_company[l.user.login.lower()] if l.user.login.lower() in id_to_company else \"unknown\",\"title\":l.title,\"url\":l.html_url,\"date\":l.updated_at.date()})\n",
    "            else:\n",
    "                list_pulls_week.append({\"id\":l.number,\"author\":l.user.login,\"company\":id_to_company[l.user.login.lower()] if l.user.login.lower() in id_to_company else \"unknown\",\"title\":l.title,\"url\":l.html_url,\"date\":l.updated_at.date()})\n",
    "            \n",
    "    list_issues_week=sorted(list_issues_week, key=lambda l: (l['company'],today-l['date']))\n",
    "    list_pulls_week=sorted(list_pulls_week, key=lambda l: (l['company'],today-l['date']))\n",
    "    list_issues_day=sorted(list_issues_day, key=lambda l: l['company'])\n",
    "    list_pulls_day=sorted(list_pulls_day, key=lambda l: l['company'])\n",
    "    return (list_issues_day,list_pulls_day,list_issues_week,list_pulls_week)"
   ]
  },
  {
   "cell_type": "code",
   "execution_count": null,
   "id": "b801053a",
   "metadata": {},
   "outputs": [],
   "source": []
  },
  {
   "cell_type": "code",
   "execution_count": null,
   "id": "eea63211",
   "metadata": {},
   "outputs": [],
   "source": []
  },
  {
   "cell_type": "code",
   "execution_count": null,
   "id": "d1aa00f9",
   "metadata": {},
   "outputs": [],
   "source": []
  },
  {
   "cell_type": "code",
   "execution_count": null,
   "id": "728dd5b8",
   "metadata": {},
   "outputs": [],
   "source": []
  },
  {
   "cell_type": "code",
   "execution_count": null,
   "id": "03b8ef9e",
   "metadata": {},
   "outputs": [],
   "source": [
    "def append_day(list_issues,tbltype):\n",
    "    tbl='''<tr>\n",
    "\t\t\t<td style=\"width:1083px\">\n",
    "\t\t\t<p style=\"text-align:center\"><span style=\"color:#c0392b\"><strong>''' + tbltype + '''created on '''+today.isoformat()+'''</strong></span></p>\n",
    "\t\t\t</td>\n",
    "\t\t</tr>\n",
    "\t\t<tr>\n",
    "\t\t\t<td style=\"width:1083px\">\n",
    "\t\t\t<table align=\"left\" border=\"1\" cellpadding=\"0\" cellspacing=\"0\" style=\"width:1061px\">\n",
    "\t\t\t\t\t<tr>\n",
    "\t\t\t\t\t\t<td style=\"width:52px\"><strong>id</strong></td>\n",
    "\t\t\t\t\t\t<td style=\"width:106px\"><strong>author</strong></td>\n",
    "\t\t\t\t\t\t<td style=\"width:115px\"><strong>company</strong></td>\n",
    "\t\t\t\t\t\t<td style=\"width:775px\"><strong>title</strong></td>\n",
    "\t\t\t\t\t</tr>'''\n",
    "    for l in list_issues:\n",
    "        tbl+=\"<tr>\"\n",
    "        tbl+=f'''<td>{l['id']}</td>'''\n",
    "        tbl+=f'''<td>{l['author']}</td>'''\n",
    "        tbl+=f'''<td>{l['company']}</td>'''\n",
    "        tbl+=f'''<td><a href={l['url']}>{l['title']}</a></td>'''\n",
    "        tbl+=\"</tr>\"\n",
    "    tbl+='''</table>\n",
    "            </td>\n",
    "        </tr>'''\n",
    "    return tbl"
   ]
  },
  {
   "cell_type": "code",
   "execution_count": null,
   "id": "0c177e9a",
   "metadata": {},
   "outputs": [],
   "source": [
    "def append_week(list_issues,tbltype):\n",
    "    tblweek='''\n",
    "\t\t<tr>\n",
    "\t\t\t<td style=\"width:1083px\">\n",
    "\t\t\t<p style=\"text-align:center\"><span style=\"color:#c0392b\"><strong>''' + tbltype + ''' updated since '''+weekago.isoformat()+'''</strong></span></p>\n",
    "\t\t\t</td>\n",
    "\t\t</tr>\n",
    "\t\t<tr>\n",
    "\t\t\t<td style=\"width:1083px\">\n",
    "\t\t\t<table align=\"left\" border=\"1\" cellpadding=\"0\" cellspacing=\"0\" style=\"width:1061px\">\n",
    "\t\t\t\t\t<tr>\n",
    "\t\t\t\t\t\t<td style=\"width:52px\"><strong>id</strong></td>\n",
    "\t\t\t\t\t\t<td style=\"width:106px\"><strong>author</strong></td>\n",
    "\t\t\t\t\t\t<td style=\"width:115px\"><strong>company</strong></td>\n",
    "\t\t\t\t\t\t<td style=\"width:115px\"><strong>date</strong></td>\n",
    "\t\t\t\t\t\t<td style=\"width:775px\"><strong>title</strong></td>\n",
    "\t\t\t\t\t</tr>'''\n",
    "    for l in list_issues:\n",
    "        tblweek+=\"<tr>\"\n",
    "        tblweek+=f'''<td>{l['id']}</td>'''\n",
    "        tblweek+=f'''<td>{l['author']}</td>'''\n",
    "        tblweek+=f'''<td>{l['company']}</td>'''\n",
    "        tblweek+=f'''<td>{l['date']}</td>'''\n",
    "        tblweek+=f'''<td><a href={l['url']}>{l['title']}</a></td>'''\n",
    "        tblweek+=\"</tr>\"\n",
    "    tblweek+='''</table>\n",
    "    </td>\n",
    "            </tr>'''\n",
    "    return tblweek"
   ]
  },
  {
   "cell_type": "code",
   "execution_count": null,
   "id": "93d09e33",
   "metadata": {},
   "outputs": [],
   "source": [
    "def append_month(list_issues,tbltype):\n",
    "    tblweek='''\n",
    "\t\t<tr>\n",
    "\t\t\t<td style=\"width:1083px\">\n",
    "\t\t\t<p style=\"text-align:center\"><span style=\"color:#c0392b\"><strong>''' + tbltype + ''' updated since '''+monthago.isoformat()+'''</strong></span></p>\n",
    "\t\t\t</td>\n",
    "\t\t</tr>\n",
    "\t\t<tr>\n",
    "\t\t\t<td style=\"width:1083px\">\n",
    "\t\t\t<table align=\"left\" border=\"1\" cellpadding=\"0\" cellspacing=\"0\" style=\"width:1061px\">\n",
    "\t\t\t\t\t<tr>\n",
    "\t\t\t\t\t\t<td style=\"width:52px\"><strong>id</strong></td>\n",
    "\t\t\t\t\t\t<td style=\"width:106px\"><strong>author</strong></td>\n",
    "\t\t\t\t\t\t<td style=\"width:115px\"><strong>company</strong></td>\n",
    "\t\t\t\t\t\t<td style=\"width:115px\"><strong>date</strong></td>\n",
    "                        <td style=\"width:115px\"><strong>state</strong></td>\n",
    "\t\t\t\t\t\t<td style=\"width:775px\"><strong>title</strong></td>\n",
    "\t\t\t\t\t</tr>'''\n",
    "    for l in list_issues:\n",
    "        tblweek+=\"<tr>\"\n",
    "        tblweek+=f'''<td>{l['id']}</td>'''\n",
    "        tblweek+=f'''<td>{l['author']}</td>'''\n",
    "        tblweek+=f'''<td>{l['company']}</td>'''\n",
    "        tblweek+=f'''<td>{l['date']}</td>'''\n",
    "        if l['state']==\"open\":\n",
    "            tblweek+=f'''<td><font color=red>{l['state']}</font></td>'''\n",
    "        else:\n",
    "            tblweek+=f'''<td><font color=#006400>{l['state']}</font></td>'''\n",
    "\n",
    "        tblweek+=f'''<td><a href={l['url']}>{l['title']}</a></td>'''\n",
    "        tblweek+=\"</tr>\"\n",
    "    tblweek+='''</table>\n",
    "    </td>\n",
    "            </tr>'''\n",
    "    return tblweek"
   ]
  },
  {
   "cell_type": "code",
   "execution_count": null,
   "id": "08f2ed7f",
   "metadata": {},
   "outputs": [],
   "source": []
  },
  {
   "cell_type": "code",
   "execution_count": null,
   "id": "ea8bea38",
   "metadata": {},
   "outputs": [],
   "source": [
    "def get_summary(issue,parquet, tbltype, activate_unkonw_contributor):\n",
    "    closed_pr_details=pandas.read_parquet(\"/home/sparkuser/ipython/\"+parquet).T.to_dict()\n",
    "    for l in issue:\n",
    "        if l.number in closed_pr_details:\n",
    "            break\n",
    "        if l.merged or next((l for l in l.get_labels() if l.name == \"Merged\"),None) is not None:\n",
    "            company=id_to_company[l.user.login.lower()] if l.user.login.lower() in id_to_company else \"unknown\"\n",
    "            closed_pr_details[l.number]={'title':l.title,'user':l.user.login,'company':company,'create':l.created_at.date().isoformat(),'update':l.updated_at.date().isoformat()}\n",
    "        \n",
    "    gluten_allpr=pandas.DataFrame(closed_pr_details).T\n",
    "    gluten_allpr.to_parquet(\"/home/sparkuser/ipython/\"+parquet)\n",
    "    \n",
    "    company_pr={}\n",
    "    for k,v in closed_pr_details.items():\n",
    "        v['user']=v['user'].lower()\n",
    "        company=id_to_company[v['user'].lower()] if v['user'].lower() in id_to_company else \"unknown\"\n",
    "        v['company']=company\n",
    "        if v['company'] not in company_pr:\n",
    "            company_pr[v['company']]={\"last_month\":0,\"total\":0}\n",
    "        company_pr[v['company']]['total']+=1\n",
    "        if v['update']>=monthago.isoformat():\n",
    "            company_pr[v['company']]['last_month']+=1\n",
    "            if activate_unkonw_contributor is not None:\n",
    "                if v['user'] not in id_to_company:\n",
    "                    if  v['user'] not in activate_unkonw_contributor:\n",
    "                        activate_unkonw_contributor[v['user']]=0\n",
    "                    activate_unkonw_contributor[v['user']]+=1\n",
    "                \n",
    "    company_pr=sorted(company_pr.items(),key=lambda l: -l[1]['last_month'])\n",
    "    \n",
    "    tbl='''<tr>\n",
    "\t\t\t<td style=\"width:1083px\">\n",
    "\t\t\t<p style=\"text-align:center\"><span style=\"color:#c0392b\"><strong>''' + tbltype + '''</strong></span></p>\n",
    "\t\t\t</td>\n",
    "\t\t</tr>\n",
    "\t\t<tr>\n",
    "\t\t\t<td style=\"width:1083px\">\n",
    "\t\t\t<table align=\"left\" border=\"1\" cellpadding=\"0\" cellspacing=\"0\" style=\"width:1061px\">\n",
    "\t\t\t\t\t<tr>\n",
    "\t\t\t\t\t\t<td style=\"width:115px\"><strong>company</strong></td>\n",
    "\t\t\t\t\t\t<td style=\"width:52px\"><strong>last_month</strong></td>\n",
    "                        <td style=\"width:52px\"><strong>total</strong></td>\n",
    "\t\t\t\t\t</tr>'''\n",
    "    for l in company_pr:\n",
    "        tbl+=\"<tr>\"\n",
    "        tbl+=f'''<td>{l[0]}</td>'''\n",
    "        tbl+=f'''<td>{l[1]['last_month']}</td>'''\n",
    "        tbl+=f'''<td>{l[1]['total']}</td>'''\n",
    "        tbl+=\"</tr>\"\n",
    "    tbl+='''</table>\n",
    "            </td>\n",
    "        </tr>'''\n",
    "    return tbl"
   ]
  },
  {
   "cell_type": "markdown",
   "id": "6ca5e002",
   "metadata": {},
   "source": [
    "# Gluten"
   ]
  },
  {
   "cell_type": "code",
   "execution_count": null,
   "id": "348e98c1",
   "metadata": {
    "scrolled": true
   },
   "outputs": [],
   "source": [
    "gluten_repo = g.get_repo(\"oap-project/gluten\")"
   ]
  },
  {
   "cell_type": "code",
   "execution_count": null,
   "id": "02ab1ff2",
   "metadata": {},
   "outputs": [],
   "source": [
    "issues=gluten_repo.get_issues()"
   ]
  },
  {
   "cell_type": "code",
   "execution_count": null,
   "id": "8767ff65",
   "metadata": {},
   "outputs": [],
   "source": [
    "list_issues_day,list_pulls_day,list_issues_week,list_pulls_week=get_issue_pull(issues)"
   ]
  },
  {
   "cell_type": "code",
   "execution_count": null,
   "id": "bb86e89e",
   "metadata": {},
   "outputs": [],
   "source": []
  },
  {
   "cell_type": "code",
   "execution_count": null,
   "id": "66190c32",
   "metadata": {},
   "outputs": [],
   "source": [
    "tbl='''<table border=\"0\" cellpadding=\"0\" cellspacing=\"0\" style=\"width:1089px\">'''"
   ]
  },
  {
   "cell_type": "code",
   "execution_count": null,
   "id": "854cd1e8",
   "metadata": {},
   "outputs": [],
   "source": [
    "tbl+=append_day(list_issues_day, \"gluten open issues \")\n",
    "tbl+=append_day(list_pulls_day, \"gluten open pulls \")"
   ]
  },
  {
   "cell_type": "code",
   "execution_count": null,
   "id": "08b4f81c",
   "metadata": {},
   "outputs": [],
   "source": []
  },
  {
   "cell_type": "code",
   "execution_count": null,
   "id": "44512deb",
   "metadata": {},
   "outputs": [],
   "source": [
    "tblweek='''<table border=\"0\" cellpadding=\"0\" cellspacing=\"0\" style=\"width:1089px\">'''"
   ]
  },
  {
   "cell_type": "code",
   "execution_count": null,
   "id": "4da6a0e3",
   "metadata": {},
   "outputs": [],
   "source": [
    "tblweek+=append_week(list_issues_week,\"gluten open issues (excluding CH) \")\n",
    "tblweek+=append_week(list_pulls_week,\"gluten open pulls (excluding CH) \")"
   ]
  },
  {
   "cell_type": "code",
   "execution_count": null,
   "id": "c57bdbd9",
   "metadata": {},
   "outputs": [],
   "source": []
  },
  {
   "cell_type": "code",
   "execution_count": null,
   "id": "1230b429",
   "metadata": {},
   "outputs": [],
   "source": []
  },
  {
   "cell_type": "code",
   "execution_count": null,
   "id": "1720abc2",
   "metadata": {},
   "outputs": [],
   "source": [
    "activate_unkonw_contributor={}"
   ]
  },
  {
   "cell_type": "code",
   "execution_count": null,
   "id": "2fc09a89",
   "metadata": {},
   "outputs": [],
   "source": [
    "gluten_pulls=gluten_repo.get_pulls(state=\"closed\")"
   ]
  },
  {
   "cell_type": "code",
   "execution_count": null,
   "id": "de14ee20",
   "metadata": {},
   "outputs": [],
   "source": [
    "tblsummary='''<table border=\"0\" cellpadding=\"0\" cellspacing=\"0\" style=\"width:1089px\">'''"
   ]
  },
  {
   "cell_type": "code",
   "execution_count": null,
   "id": "2b08d8fd",
   "metadata": {},
   "outputs": [],
   "source": [
    "tblsummary+=get_summary(gluten_pulls,\"gluten_allpr.parquet\",\"gluten closed PR summary\",activate_unkonw_contributor)"
   ]
  },
  {
   "cell_type": "code",
   "execution_count": null,
   "id": "a7dcdd34",
   "metadata": {},
   "outputs": [],
   "source": [
    "activate_unkonw_contributor"
   ]
  },
  {
   "cell_type": "code",
   "execution_count": null,
   "id": "e95ac2c9",
   "metadata": {},
   "outputs": [],
   "source": []
  },
  {
   "cell_type": "code",
   "execution_count": null,
   "id": "ea468f04",
   "metadata": {},
   "outputs": [],
   "source": [
    "issues=gluten_repo.get_issues(state=\"all\")"
   ]
  },
  {
   "cell_type": "code",
   "execution_count": null,
   "id": "44d81422",
   "metadata": {},
   "outputs": [],
   "source": [
    "list_issues_month=[]\n",
    "companysummary={}\n",
    "\n",
    "for l in issues:\n",
    "    if l.updated_at.date()>=monthago:\n",
    "        if l.pull_request is None and \"[CH]\" not in l.title:\n",
    "            company=id_to_company[l.user.login.lower()] if l.user.login.lower() in id_to_company else \"unknown\"\n",
    "            if company not in companysummary:\n",
    "                companysummary[company]=[0,0]\n",
    "            if l.state==\"open\":\n",
    "                companysummary[company][0]+=1\n",
    "            else:\n",
    "                companysummary[company][1]+=1\n",
    "            \n",
    "            list_issues_month.append({\"id\":l.number,\"author\":l.user.login,\"company\":company,\"title\":l.title,\"url\":l.html_url,\"date\":l.updated_at.date(),\"state\":l.state})\n",
    "\n",
    "list_issues_month=sorted(list_issues_month, key=lambda l: (l['company'],today-l['date']))"
   ]
  },
  {
   "cell_type": "code",
   "execution_count": null,
   "id": "1168be67",
   "metadata": {},
   "outputs": [],
   "source": [
    "tblmonth='''<table border=\"1\" cellpadding=\"0\" cellspacing=\"0\" style=\"width:1089px\">'''"
   ]
  },
  {
   "cell_type": "code",
   "execution_count": null,
   "id": "ca9812d7",
   "metadata": {},
   "outputs": [],
   "source": [
    "tblmonth+=append_month(list_issues_month,\"gluten issues \")"
   ]
  },
  {
   "cell_type": "code",
   "execution_count": null,
   "id": "b378c1f6",
   "metadata": {},
   "outputs": [],
   "source": [
    "tblmonth+=\"</table>\""
   ]
  },
  {
   "cell_type": "code",
   "execution_count": null,
   "id": "39ce260a",
   "metadata": {},
   "outputs": [],
   "source": [
    "tblmonth+='''<table border=\"1\" cellpadding=\"0\" cellspacing=\"0\" >\n",
    "    <tr>\n",
    "    <td>company</td><td>open</td><td>closed</td>\n",
    "    </tr>'''\n",
    "for c,v in companysummary.items():\n",
    "    tblmonth+=f'''<tr>\n",
    "    <td>{c}</td>\n",
    "    \n",
    "    <td>{v[0]}</td>\n",
    "    <td>{v[1]}</td>\n",
    "    </tr>'''\n",
    "tblmonth+=\"</table>\""
   ]
  },
  {
   "cell_type": "code",
   "execution_count": null,
   "id": "5733e511",
   "metadata": {},
   "outputs": [],
   "source": []
  },
  {
   "cell_type": "code",
   "execution_count": null,
   "id": "e7783aff",
   "metadata": {
    "scrolled": true
   },
   "outputs": [],
   "source": [
    "display(HTML(tblmonth))"
   ]
  },
  {
   "cell_type": "code",
   "execution_count": null,
   "id": "2281505b",
   "metadata": {},
   "outputs": [],
   "source": []
  },
  {
   "cell_type": "code",
   "execution_count": null,
   "id": "0b95db9d",
   "metadata": {},
   "outputs": [],
   "source": []
  },
  {
   "cell_type": "code",
   "execution_count": null,
   "id": "e469b60c",
   "metadata": {},
   "outputs": [],
   "source": []
  },
  {
   "cell_type": "markdown",
   "id": "d0638232",
   "metadata": {},
   "source": [
    "# velox"
   ]
  },
  {
   "cell_type": "code",
   "execution_count": null,
   "id": "483f48ea",
   "metadata": {},
   "outputs": [],
   "source": [
    "velox_repo = g.get_repo(\"facebookincubator/velox\")"
   ]
  },
  {
   "cell_type": "code",
   "execution_count": null,
   "id": "0d3eb14f",
   "metadata": {},
   "outputs": [],
   "source": [
    "velox_issues=velox_repo.get_issues()"
   ]
  },
  {
   "cell_type": "code",
   "execution_count": null,
   "id": "2a1fa8b6",
   "metadata": {},
   "outputs": [],
   "source": [
    "list_issues_day,list_pulls_day,list_issues_week,list_pulls_week=get_issue_pull(velox_issues)"
   ]
  },
  {
   "cell_type": "code",
   "execution_count": null,
   "id": "87063f8e",
   "metadata": {},
   "outputs": [],
   "source": [
    "tbl+=append_day(list_issues_day, \"velox open issues \")\n",
    "tbl+=append_day(list_pulls_day, \"velox open pulls \")"
   ]
  },
  {
   "cell_type": "code",
   "execution_count": null,
   "id": "5bdcc441",
   "metadata": {},
   "outputs": [],
   "source": [
    "tblweek+=append_week(list_issues_week,\"velox open issues \")\n",
    "tblweek+=append_week(list_pulls_week,\"velox open pulls \")"
   ]
  },
  {
   "cell_type": "code",
   "execution_count": null,
   "id": "bc305493",
   "metadata": {},
   "outputs": [],
   "source": []
  },
  {
   "cell_type": "code",
   "execution_count": null,
   "id": "50d1fcad",
   "metadata": {},
   "outputs": [],
   "source": [
    "tbl+='''</table>\\n'''\n",
    "tblweek+='''</table>\\n'''"
   ]
  },
  {
   "cell_type": "code",
   "execution_count": null,
   "id": "221005ea",
   "metadata": {
    "scrolled": true
   },
   "outputs": [],
   "source": [
    "display(HTML(tbl))"
   ]
  },
  {
   "cell_type": "code",
   "execution_count": null,
   "id": "363a46b9",
   "metadata": {
    "scrolled": true
   },
   "outputs": [],
   "source": [
    "display(HTML(tblweek))"
   ]
  },
  {
   "cell_type": "code",
   "execution_count": null,
   "id": "e9123ac3",
   "metadata": {},
   "outputs": [],
   "source": []
  },
  {
   "cell_type": "code",
   "execution_count": null,
   "id": "d70047f2",
   "metadata": {},
   "outputs": [],
   "source": [
    "velox_pulls=velox_repo.get_pulls(state=\"closed\")"
   ]
  },
  {
   "cell_type": "code",
   "execution_count": null,
   "id": "caaa3285",
   "metadata": {},
   "outputs": [],
   "source": [
    "tblsummary+=get_summary(velox_pulls,\"velox_allpr.parquet\",\"velox closed PR summary \",None)"
   ]
  },
  {
   "cell_type": "code",
   "execution_count": null,
   "id": "6a922197",
   "metadata": {},
   "outputs": [],
   "source": [
    "tblsummary+=\"</table>\""
   ]
  },
  {
   "cell_type": "code",
   "execution_count": null,
   "id": "ba1db11d",
   "metadata": {
    "scrolled": true
   },
   "outputs": [],
   "source": [
    "display(HTML(tblsummary))"
   ]
  },
  {
   "cell_type": "markdown",
   "id": "e0047701",
   "metadata": {},
   "source": [
    "# unknown contributor"
   ]
  },
  {
   "cell_type": "code",
   "execution_count": null,
   "id": "abbdf574",
   "metadata": {},
   "outputs": [],
   "source": [
    "uknow_cont='''<table border=\"1\" cellpadding=\"0\" cellspacing=\"0\" >\n",
    "<tr><td>unknown contributor in last month</td><td>PR closed</td></tr>'''\n",
    "for c,v in activate_unkonw_contributor.items():\n",
    "    uknow_cont+=f\"<tr><td>{c}</td><td>{v}</td></tr>\"\n",
    "uknow_cont+=\"</table>\""
   ]
  },
  {
   "cell_type": "code",
   "execution_count": null,
   "id": "d0cc4315",
   "metadata": {},
   "outputs": [],
   "source": []
  },
  {
   "cell_type": "code",
   "execution_count": null,
   "id": "1c32108c",
   "metadata": {},
   "outputs": [],
   "source": []
  },
  {
   "cell_type": "markdown",
   "id": "36d62bdc",
   "metadata": {},
   "source": [
    "# write to html"
   ]
  },
  {
   "cell_type": "code",
   "execution_count": null,
   "id": "37607202",
   "metadata": {},
   "outputs": [],
   "source": [
    "tbl=f'<a href=\"http://10.165.55.42:8181/{today.isoformat()}.html\"> summary of {today.isoformat()}</a><hr style=\"height:10px\">'+ tbl"
   ]
  },
  {
   "cell_type": "code",
   "execution_count": null,
   "id": "d06efa5d",
   "metadata": {},
   "outputs": [],
   "source": [
    "with open(\"/home/sparkuser/issue_track/\"+today.isoformat()+\".html\",\"w\") as f:\n",
    "    f.write(tbl)\n",
    "    f.write('<hr style=\"height:10px\" id=\"1\"><a href=\"#1\">¶</a>')\n",
    "    f.write(tblweek)\n",
    "    f.write('<hr style=\"height:10px\" id=\"2\"><a href=\"#2\">¶</a>')\n",
    "    f.write(tblsummary)\n",
    "    f.write('<hr style=\"height:10px\" id=\"3\"><a href=\"#3\">¶</a>')\n",
    "    f.write(tblmonth)\n",
    "    f.write('<hr style=\"height:10px\" id=\"4\"><a href=\"#4\">¶</a>')\n",
    "    f.write(uknow_cont)"
   ]
  },
  {
   "cell_type": "markdown",
   "id": "61dc4743",
   "metadata": {},
   "source": [
    "# send mail"
   ]
  },
  {
   "cell_type": "code",
   "execution_count": null,
   "id": "fc6bd962",
   "metadata": {},
   "outputs": [],
   "source": []
  },
  {
   "cell_type": "code",
   "execution_count": null,
   "id": "c41e0097",
   "metadata": {},
   "outputs": [],
   "source": [
    "import smtplib\n",
    "sender_email = '5542@aa.com'\n",
    "receiver_email = []\n"
   ]
  },
  {
   "cell_type": "code",
   "execution_count": null,
   "id": "311f4b5e",
   "metadata": {},
   "outputs": [],
   "source": [
    "from email.mime.text import MIMEText\n",
    "from email.mime.multipart import MIMEMultipart"
   ]
  },
  {
   "cell_type": "code",
   "execution_count": null,
   "id": "04ede40a",
   "metadata": {
    "scrolled": true
   },
   "outputs": [],
   "source": [
    "message = MIMEMultipart(\"alternative\")\n",
    "message[\"Subject\"] = \"Gluten/Velox summary on \" + today.isoformat()\n",
    "message[\"From\"] = sender_email\n",
    "message[\"To\"] = \",\".join(receiver_email)\n",
    "\n",
    "# write the text/plain part\n",
    "text = \"\"\" no html \"\"\"\n",
    "\n",
    "# write the HTML part\n",
    "html = tbl\n",
    "\n",
    "# convert both parts to MIMEText objects and add them to the MIMEMultipart message\n",
    "part1 = MIMEText(text, \"plain\")\n",
    "part2 = MIMEText(html, \"html\")\n",
    "message.attach(part1)\n",
    "message.attach(part2)\n",
    "\n",
    "# send your email\n",
    "with smtplib.SMTP(\"localhost\") as server:\n",
    "    server.sendmail(\n",
    "        sender_email, receiver_email, message.as_string()\n",
    "    )\n",
    "\n",
    "print('Sent')"
   ]
  },
  {
   "cell_type": "code",
   "execution_count": null,
   "id": "4ca6ac55",
   "metadata": {},
   "outputs": [],
   "source": []
  },
  {
   "cell_type": "code",
   "execution_count": null,
   "id": "2ac3f65f",
   "metadata": {},
   "outputs": [],
   "source": []
  }
 ],
 "metadata": {
  "hide_input": false,
  "kernelspec": {
   "display_name": "Python 3 (ipykernel)",
   "language": "python",
   "name": "python3"
  },
  "language_info": {
   "codemirror_mode": {
    "name": "ipython",
    "version": 3
   },
   "file_extension": ".py",
   "mimetype": "text/x-python",
   "name": "python",
   "nbconvert_exporter": "python",
   "pygments_lexer": "ipython3",
   "version": "3.10.12"
  },
  "nbTranslate": {
   "displayLangs": [
    "*"
   ],
   "hotkey": "alt-t",
   "langInMainMenu": true,
   "sourceLang": "en",
   "targetLang": "fr",
   "useGoogleTranslate": true
  },
  "toc": {
   "base_numbering": 1,
   "nav_menu": {},
   "number_sections": true,
   "sideBar": true,
   "skip_h1_title": false,
   "title_cell": "Table of Contents",
   "title_sidebar": "Contents",
   "toc_cell": false,
   "toc_position": {},
   "toc_section_display": true,
   "toc_window_display": false
  },
  "varInspector": {
   "cols": {
    "lenName": 16,
    "lenType": 16,
    "lenVar": 40
   },
   "kernels_config": {
    "python": {
     "delete_cmd_postfix": "",
     "delete_cmd_prefix": "del ",
     "library": "var_list.py",
     "varRefreshCmd": "print(var_dic_list())"
    },
    "r": {
     "delete_cmd_postfix": ") ",
     "delete_cmd_prefix": "rm(",
     "library": "var_list.r",
     "varRefreshCmd": "cat(var_dic_list()) "
    }
   },
   "types_to_exclude": [
    "module",
    "function",
    "builtin_function_or_method",
    "instance",
    "_Feature"
   ],
   "window_display": false
  }
 },
 "nbformat": 4,
 "nbformat_minor": 5
}
