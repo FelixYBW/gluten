{
 "cells": [
  {
   "cell_type": "markdown",
   "metadata": {},
   "source": [
    "# Imports"
   ]
  },
  {
   "cell_type": "code",
   "execution_count": null,
   "metadata": {
    "execution": {
     "iopub.execute_input": "2024-07-03T17:50:43.254047Z",
     "iopub.status.busy": "2024-07-03T17:50:43.253495Z",
     "iopub.status.idle": "2024-07-03T17:50:43.278431Z",
     "shell.execute_reply": "2024-07-03T17:50:43.277541Z"
    }
   },
   "outputs": [],
   "source": [
    "from __future__ import nested_scopes\n",
    "from IPython.core.display import display, HTML\n",
    "display(HTML(\"<style>.container { width:100% !important; }</style>\"))\n",
    "display(HTML('<style>.CodeMirror{font-family: \"Courier New\";font-size: 12pt;}</style>'))"
   ]
  },
  {
   "cell_type": "code",
   "execution_count": null,
   "metadata": {
    "execution": {
     "iopub.execute_input": "2024-07-03T17:50:43.332248Z",
     "iopub.status.busy": "2024-07-03T17:50:43.331018Z",
     "iopub.status.idle": "2024-07-03T17:50:43.338736Z",
     "shell.execute_reply": "2024-07-03T17:50:43.337230Z"
    }
   },
   "outputs": [],
   "source": [
    "import logging\n",
    "logger = logging.getLogger()\n",
    "logger.setLevel(logging.ERROR)\n",
    "\n",
    "import warnings\n",
    "warnings.filterwarnings('ignore')"
   ]
  },
  {
   "cell_type": "code",
   "execution_count": null,
   "metadata": {
    "execution": {
     "iopub.execute_input": "2024-07-03T17:50:43.343307Z",
     "iopub.status.busy": "2024-07-03T17:50:43.342069Z",
     "iopub.status.idle": "2024-07-03T17:50:43.349876Z",
     "shell.execute_reply": "2024-07-03T17:50:43.348412Z"
    }
   },
   "outputs": [],
   "source": [
    "import findspark\n",
    "findspark.init()"
   ]
  },
  {
   "cell_type": "code",
   "execution_count": null,
   "metadata": {
    "execution": {
     "iopub.execute_input": "2024-07-03T17:50:43.354821Z",
     "iopub.status.busy": "2024-07-03T17:50:43.353664Z",
     "iopub.status.idle": "2024-07-03T17:50:44.379551Z",
     "shell.execute_reply": "2024-07-03T17:50:44.378488Z"
    }
   },
   "outputs": [],
   "source": [
    "import re\n",
    "import os\n",
    "import pandas\n",
    "pandas.set_option('display.max_rows', None)\n",
    "\n",
    "import matplotlib\n",
    "%matplotlib inline\n",
    "import matplotlib.pyplot as plt\n",
    "import matplotlib.ticker as mtick\n",
    "from matplotlib import colors\n",
    "from matplotlib import rcParams\n",
    "rcParams['font.sans-serif'] =  'Courier New'\n",
    "rcParams['font.family'] = 'Courier New'\n",
    "rcParams['font.size'] = '12'\n",
    "%matplotlib inline\n",
    "\n",
    "from IPython.display import display,HTML\n",
    "import threading\n",
    "import collections\n",
    "\n",
    "from IPython.display import display\n",
    "from ipywidgets import IntProgress,Layout\n",
    "import time\n",
    "import threading\n",
    "import gzip\n",
    "import pyspark\n",
    "import pyspark.sql\n",
    "from pyspark.sql import SparkSession\n",
    "from pyspark.sql.types import (StructType, StructField, DateType,\n",
    "    TimestampType, StringType, LongType, IntegerType, DoubleType,FloatType)\n",
    "from pyspark.sql.functions import to_date, floor\n",
    "from pyspark.ml.feature import StringIndexer, VectorAssembler\n",
    "from pyspark.ml import Pipeline\n",
    "from pyspark.sql.functions import lit\n",
    "import datetime\n",
    "import time\n",
    "from pyspark.storagelevel import StorageLevel\n",
    "from pyspark.sql.window import Window\n",
    "from pyspark.sql.functions import rank, col\n",
    "from pyspark.ml import Pipeline\n",
    "import pandas\n",
    "import numpy\n",
    "\n",
    "\n",
    "import re\n",
    "import math\n",
    "from functools import reduce\n",
    "import json\n",
    "\n",
    "\n",
    "from pyspark.sql.types import *\n",
    "from pyspark.sql import functions as F\n",
    "from datetime import date"
   ]
  },
  {
   "cell_type": "code",
   "execution_count": null,
   "metadata": {
    "execution": {
     "iopub.execute_input": "2024-07-03T17:50:44.384752Z",
     "iopub.status.busy": "2024-07-03T17:50:44.384463Z",
     "iopub.status.idle": "2024-07-03T17:50:44.389208Z",
     "shell.execute_reply": "2024-07-03T17:50:44.388431Z"
    }
   },
   "outputs": [],
   "source": [
    "import os\n",
    "\n",
    "def get_py4jzip():\n",
    "    spark_home=os.environ['SPARK_HOME']\n",
    "    py4jzip = !ls {spark_home}/python/lib/py4j*.zip\n",
    "    return py4jzip[0]"
   ]
  },
  {
   "cell_type": "markdown",
   "metadata": {},
   "source": [
    "# start analysis cluster and run"
   ]
  },
  {
   "cell_type": "code",
   "execution_count": null,
   "metadata": {
    "code_folding": [],
    "execution": {
     "iopub.execute_input": "2024-07-03T17:50:44.394698Z",
     "iopub.status.busy": "2024-07-03T17:50:44.394360Z",
     "iopub.status.idle": "2024-07-03T17:51:16.067942Z",
     "shell.execute_reply": "2024-07-03T17:51:16.066137Z"
    }
   },
   "outputs": [],
   "source": [
    "executors_per_node = 5\n",
    "nodes=3\n",
    "cores_per_executor=4\n",
    "task_per_core=4\n",
    "\n",
    "\n",
    "cache_size=20\n",
    "total_size=100000\n",
    "print('executor per node: {:d}\\nparallelism: {:d}\\nmemory: {:d}m\\noffheap:{:d}m'.format(executors_per_node,nodes*executors_per_node*cores_per_executor*task_per_core,int(math.floor(nodes*total_size/(nodes*executors_per_node)))-1024-int(math.floor(cache_size*1024/(nodes*executors_per_node))),int(math.floor(cache_size*1024/(nodes*executors_per_node)))))\n",
    "\n",
    "from pyspark import SparkConf, SparkContext\n",
    "from pyspark.sql import SQLContext\n",
    "conf = (SparkConf()\n",
    "    .set(\"spark.default.parallelism\", \"{:d}\".format(nodes*executors_per_node))\n",
    "    .set('spark.executor.instances', '{:d}'.format(nodes*executors_per_node))\n",
    "    .set('spark.sql.files.maxPartitionBytes', '256m')\n",
    "    .set('spark.app.name', 'pyspark_final')\n",
    "    .set('spark.rdd.compress', 'False')\n",
    "    .set('spark.serializer','org.apache.spark.serializer.KryoSerializer')    \n",
    "    .set('spark.executor.cores','{:d}'.format(cores_per_executor))\n",
    "    .set('spark.sql.adaptive.coalescePartitions.initialPartitionNum','{:d}'.format(nodes*executors_per_node*cores_per_executor*task_per_core))\n",
    "    .set('spark.sql.adaptive.enabled',True)\n",
    "    .set('spark.sql.adaptive.advisoryPartitionSizeInBytes', '256m')\n",
    "    .set('spark.executor.memory', '{:d}m'.format(int(math.floor(nodes*total_size/(nodes*executors_per_node)))-1024-int(math.floor(cache_size*1024/(nodes*executors_per_node)))))\n",
    "    .set('spark.task.cpus','1')\n",
    "    .set('spark.driver.memory','128g')\n",
    "    .set('spark.sql.inMemoryColumnarStorage.compressed','False')\n",
    "    .set('spark.sql.inMemoryColumnarStorage.batchSize','100000')\n",
    "#    .set('spark.memory.storageFraction','0.8')\n",
    "#    .set('spark.memory.fraction','0.7')\n",
    "        \n",
    "    .set('spark.sql.execution.arrow.fallback.enabled','True')\n",
    "    .set('spark.sql.execution.arrow.enabled','True')\n",
    "    .set('spark.sql.execution.arrow.maxRecordsPerBatch','100000')\n",
    "    .set(\"spark.sql.repl.eagerEval.enabled\", True)\n",
    "        \n",
    "    .set('spark.memory.offHeap.enabled','True')\n",
    "    .set('spark.memory.offHeap.size','{:d}m'.format(int(math.floor(cache_size*1024/(nodes*executors_per_node)))))\n",
    "    .set('spark.executor.memoryOverhead','{:d}m'.format(int(math.floor(cache_size*1024/(nodes*executors_per_node)))+3000))\n",
    "    .set('spark.sql.join.preferSortMergeJoin','False')\n",
    "#    .set('spark.executor.extraJavaOptions',\n",
    "#          '-XX:+UseG1GC -XX:+PrintFlagsFinal -XX:+PrintReferenceGC -verbose:gc -XX:+PrintGCDetails -XX:+PrintGCTimeStamps -XX:InitiatingHeapOccupancyPercent=35')\n",
    "    .set('spark.executor.extraJavaOptions',\n",
    "          '-XX:+UseParallelGC -XX:+UseParallelOldGC -verbose:gc -XX:+PrintGCDetails -XX:+PrintGCTimeStamps')\n",
    "    .set('spark.dynamicAllocation.enabled', 'False')\n",
    "    .set('spark.shuffle.service.enabled', 'False')\n",
    "    .set('spark.dynamicAllocation.shuffleTracking.enabled', 'Falze')\n",
    "    .set(\"spark.sql.legacy.timeParserPolicy\",\"LEGACY\")\n",
    "    .set('spark.executorEnv.PYTHONPATH',f\"{os.environ['SPARK_HOME']}/python:{get_py4jzip()}\")        \n",
    "#    .set(\"spark.sql.session.timeZone\", \"PST\")\n",
    "     .set(\"spark.sql.session.timeZone\", \"Etc/GMT+7\")\n",
    "#     .set(\"spark.driver.extraJavaOptions\",\"-Duser.timezone=UTC+8\")\n",
    "    \n",
    "       )\n",
    "\n",
    "sc = SparkContext(conf=conf,master='yarn')\n",
    "sc.setLogLevel(\"ERROR\")\n",
    "spark = SQLContext(sc)\n",
    "time.sleep(10)\n"
   ]
  },
  {
   "cell_type": "code",
   "execution_count": null,
   "metadata": {
    "execution": {
     "iopub.execute_input": "2024-07-03T17:51:16.075437Z",
     "iopub.status.busy": "2024-07-03T17:51:16.074802Z",
     "iopub.status.idle": "2024-07-03T17:51:16.086214Z",
     "shell.execute_reply": "2024-07-03T17:51:16.084787Z"
    }
   },
   "outputs": [],
   "source": [
    "%%html\n",
    "<style>\n",
    "div.output_stderr {\n",
    "background: #ffdd;\n",
    "display: none;\n",
    "}\n",
    "</style>"
   ]
  },
  {
   "cell_type": "code",
   "execution_count": null,
   "metadata": {},
   "outputs": [],
   "source": []
  },
  {
   "cell_type": "markdown",
   "metadata": {},
   "source": [
    "# Sparklog"
   ]
  },
  {
   "cell_type": "code",
   "execution_count": null,
   "metadata": {
    "execution": {
     "iopub.execute_input": "2024-07-03T17:51:16.093023Z",
     "iopub.status.busy": "2024-07-03T17:51:16.092138Z",
     "iopub.status.idle": "2024-07-03T17:51:18.232133Z",
     "shell.execute_reply": "2024-07-03T17:51:18.231247Z"
    }
   },
   "outputs": [],
   "source": [
    "%run ../sparklog.ipynb"
   ]
  },
  {
   "cell_type": "code",
   "execution_count": null,
   "metadata": {
    "execution": {
     "iopub.execute_input": "2024-07-03T17:51:18.237704Z",
     "iopub.status.busy": "2024-07-03T17:51:18.237382Z",
     "iopub.status.idle": "2024-07-03T17:51:18.241309Z",
     "shell.execute_reply": "2024-07-03T17:51:18.240545Z"
    }
   },
   "outputs": [],
   "source": [
    "os.environ[\"https_proxy\"] = \"http://10.239.44.250:8080\"\n",
    "os.environ[\"http_proxy\"] = \"http://10.239.44.250:8080\""
   ]
  },
  {
   "cell_type": "code",
   "execution_count": null,
   "metadata": {
    "execution": {
     "iopub.execute_input": "2024-07-03T17:51:18.246336Z",
     "iopub.status.busy": "2024-07-03T17:51:18.246086Z",
     "iopub.status.idle": "2024-07-03T17:51:18.250862Z",
     "shell.execute_reply": "2024-07-03T17:51:18.250050Z"
    }
   },
   "outputs": [],
   "source": [
    "emonmetric=['emon_cpuutil',\n",
    "            'emon_cpufreq',\n",
    "            'emon_instr_retired',\n",
    "            'emon_ipc',\n",
    "            'emon_L3 stall',\n",
    "            'emon_mem stall',\n",
    "            'emon_uop issue stall',\n",
    "            'emon_mem_bw',\n",
    "            'emon_remote ratio',\n",
    "            'emon_local lat',\n",
    "            'emon_remote lat',\n",
    "            'emon_l3 load miss',\n",
    "            'emon_l3 read miss bw',\n",
    "            'emon_l3 miss',\n",
    "            'emon_l2 miss',\n",
    "            'emon_pcie_bw',\n",
    "           'emon_cha ia bw',\n",
    "           'emon_wpq lat',\n",
    "           'emon_rpq lat',\n",
    "           'emon_iio comp lat',\n",
    "           'emon_ocr l3 lat',\n",
    "           'emon_ocr l2 lat']"
   ]
  },
  {
   "cell_type": "code",
   "execution_count": null,
   "metadata": {
    "execution": {
     "iopub.execute_input": "2024-07-03T17:51:18.255849Z",
     "iopub.status.busy": "2024-07-03T17:51:18.255388Z",
     "iopub.status.idle": "2024-07-03T17:51:18.259863Z",
     "shell.execute_reply": "2024-07-03T17:51:18.258950Z"
    }
   },
   "outputs": [],
   "source": [
    "import warnings\n",
    "warnings.filterwarnings('ignore')"
   ]
  },
  {
   "cell_type": "code",
   "execution_count": null,
   "metadata": {},
   "outputs": [],
   "source": []
  },
  {
   "cell_type": "code",
   "execution_count": null,
   "metadata": {},
   "outputs": [],
   "source": []
  },
  {
   "cell_type": "code",
   "execution_count": null,
   "metadata": {
    "execution": {
     "iopub.execute_input": "2024-07-03T17:51:18.265390Z",
     "iopub.status.busy": "2024-07-03T17:51:18.264697Z",
     "iopub.status.idle": "2024-07-03T17:51:18.270852Z",
     "shell.execute_reply": "2024-07-03T17:51:18.269765Z"
    }
   },
   "outputs": [],
   "source": [
    "basedir=\"gluten/2024_07_03\"\n",
    "appid=\"application_1713747609775_0279\"\n",
    "\n",
    "last_basedir=\"gluten/2024_07_02\"\n",
    "last_appid=\"application_1713747609775_0277\"\n",
    "\n",
    "#snappy\n",
    "vanilla_basedif=\"gluten/vanilla/tpch_spark322_sf3t\"\n",
    "vanilla_appid=\"application_1713747609775_0192\"\n",
    "\n",
    "#gzip\n",
    "#vanilla_basedif=\"gluten/vanilla/tpch_spark322_sf3t\"\n",
    "#vanilla_appid=\"application_1713747609775_0192\"\n"
   ]
  },
  {
   "cell_type": "code",
   "execution_count": null,
   "metadata": {
    "execution": {
     "iopub.execute_input": "2024-07-03T17:51:18.277126Z",
     "iopub.status.busy": "2024-07-03T17:51:18.276019Z",
     "iopub.status.idle": "2024-07-03T17:51:18.293063Z",
     "shell.execute_reply": "2024-07-03T17:51:18.291926Z"
    }
   },
   "outputs": [],
   "source": [
    "display(HTML(f'<font size=4><b>Vanilla Traceview</b></font><br><a href=http://sr219:1088/tracing_examples/trace_viewer.html#/tracing/test_data/{vanilla_appid}.json> http://sr219:1088/tracing_examples/trace_viewer.html#/tracing/test_data/{vanilla_appid}.json</a>'))\n",
    "display(HTML(f'<font size=4><b>last run traceview</b></font><br><a href=http://sr219:1088/tracing_examples/trace_viewer.html#/tracing/test_data/{last_appid}.json> http://sr219:1088/tracing_examples/trace_viewer.html#/tracing/test_data/{last_appid}.json</a>'))\n",
    "\n",
    "display(HTML(f'<font size=4><b>vanilla spark UI</b></font><br><a href=http://sr219:18080/history/{vanilla_appid}/jobs/> http://sr219:18080/history/{vanilla_appid}/jobs/</a>'))\n",
    "display(HTML(f'<font size=4><b>last run spark ui</b></font><br><a href=http://sr219:18080/history/{last_appid}/jobs/> http://sr219:18080/history/{last_appid}/jobs/</a>'))\n"
   ]
  },
  {
   "cell_type": "code",
   "execution_count": null,
   "metadata": {
    "execution": {
     "iopub.execute_input": "2024-07-03T17:51:18.298962Z",
     "iopub.status.busy": "2024-07-03T17:51:18.297831Z",
     "iopub.status.idle": "2024-07-03T17:51:18.315739Z",
     "shell.execute_reply": "2024-07-03T17:51:18.314670Z"
    }
   },
   "outputs": [],
   "source": [
    "display(HTML('<a href=#native,-partition-table> 4  native, partition table</a>'))\n",
    "display(HTML('<a href=#APP-info> 5  APP info</a>'))\n",
    "display(HTML('<a href=#Compare-to-Last-Run> 6  Compare to Last Run</a>'))\n",
    "display(HTML('<a href=#Compare-to-Baseline> 7  Compare to Baseline</a>'))\n",
    "display(HTML('<a href=#config-compare> 8  config compare</a>'))\n",
    "\n"
   ]
  },
  {
   "cell_type": "code",
   "execution_count": null,
   "metadata": {},
   "outputs": [],
   "source": []
  },
  {
   "cell_type": "code",
   "execution_count": null,
   "metadata": {},
   "outputs": [],
   "source": []
  },
  {
   "cell_type": "code",
   "execution_count": null,
   "metadata": {
    "execution": {
     "iopub.execute_input": "2024-07-03T17:51:18.321229Z",
     "iopub.status.busy": "2024-07-03T17:51:18.320208Z",
     "iopub.status.idle": "2024-07-03T17:51:18.326251Z",
     "shell.execute_reply": "2024-07-03T17:51:18.325037Z"
    }
   },
   "outputs": [],
   "source": [
    "disk_prefix=[\"'nvme0n1'\",\"'nvme1n1'\",\"'nvme2n1'\",\"'nvme3n1'\",\"'nvme4n1'\",\"'nvme5n1'\",\"'nvme6n1'\",\"'nvme7n1'\"]\n",
    "nic_prefix=[\"'enx0a17179c0c10'\",\"'vethd048c87'\",\"'veth18c3379'\"]"
   ]
  },
  {
   "cell_type": "markdown",
   "metadata": {},
   "source": [
    "# native, partition table"
   ]
  },
  {
   "cell_type": "code",
   "execution_count": null,
   "metadata": {
    "execution": {
     "iopub.execute_input": "2024-07-03T17:51:18.331698Z",
     "iopub.status.busy": "2024-07-03T17:51:18.330563Z",
     "iopub.status.idle": "2024-07-03T17:51:18.471945Z",
     "shell.execute_reply": "2024-07-03T17:51:18.470641Z"
    }
   },
   "outputs": [],
   "source": [
    "app=Application_Run(appid,basedir=basedir)\n",
    "appals=app.analysis['app']['als']"
   ]
  },
  {
   "cell_type": "code",
   "execution_count": null,
   "metadata": {
    "execution": {
     "iopub.execute_input": "2024-07-03T17:51:18.478897Z",
     "iopub.status.busy": "2024-07-03T17:51:18.477858Z",
     "iopub.status.idle": "2024-07-03T17:52:02.393924Z",
     "shell.execute_reply": "2024-07-03T17:52:02.392365Z"
    }
   },
   "outputs": [],
   "source": [
    "appals.get_basic_state()"
   ]
  },
  {
   "cell_type": "code",
   "execution_count": null,
   "metadata": {
    "execution": {
     "iopub.execute_input": "2024-07-03T17:52:02.401671Z",
     "iopub.status.busy": "2024-07-03T17:52:02.401090Z",
     "iopub.status.idle": "2024-07-03T17:53:38.977606Z",
     "shell.execute_reply": "2024-07-03T17:53:38.976128Z"
    }
   },
   "outputs": [],
   "source": [
    "summary=app.get_summary(show_metric=emonmetric,disk_prefix=disk_prefix,nic_prefix=nic_prefix)\n",
    "display(summary.style)"
   ]
  },
  {
   "cell_type": "code",
   "execution_count": null,
   "metadata": {
    "execution": {
     "iopub.execute_input": "2024-07-03T17:53:38.984202Z",
     "iopub.status.busy": "2024-07-03T17:53:38.983681Z",
     "iopub.status.idle": "2024-07-03T17:53:42.905083Z",
     "shell.execute_reply": "2024-07-03T17:53:42.903745Z"
    }
   },
   "outputs": [],
   "source": [
    "appals.get_app_name()"
   ]
  },
  {
   "cell_type": "code",
   "execution_count": null,
   "metadata": {
    "execution": {
     "iopub.execute_input": "2024-07-03T17:53:42.911839Z",
     "iopub.status.busy": "2024-07-03T17:53:42.911220Z",
     "iopub.status.idle": "2024-07-03T17:54:32.066024Z",
     "shell.execute_reply": "2024-07-03T17:54:32.064470Z"
    }
   },
   "outputs": [],
   "source": [
    "shuffle_df, dfx=appals.get_shuffle_stat()"
   ]
  },
  {
   "cell_type": "markdown",
   "metadata": {},
   "source": [
    "# APP info"
   ]
  },
  {
   "cell_type": "code",
   "execution_count": null,
   "metadata": {
    "execution": {
     "iopub.execute_input": "2024-07-03T17:54:32.073335Z",
     "iopub.status.busy": "2024-07-03T17:54:32.072490Z",
     "iopub.status.idle": "2024-07-03T17:55:59.705195Z",
     "shell.execute_reply": "2024-07-03T17:55:59.704081Z"
    }
   },
   "outputs": [],
   "source": [
    "app.generate_trace_view(showemon=True,show_metric=emonmetric,disk_prefix=disk_prefix,nic_prefix=nic_prefix)"
   ]
  },
  {
   "cell_type": "code",
   "execution_count": null,
   "metadata": {
    "execution": {
     "iopub.execute_input": "2024-07-03T17:55:59.710788Z",
     "iopub.status.busy": "2024-07-03T17:55:59.710556Z",
     "iopub.status.idle": "2024-07-03T17:55:59.715419Z",
     "shell.execute_reply": "2024-07-03T17:55:59.714585Z"
    }
   },
   "outputs": [],
   "source": [
    "appals=app.analysis['app']['als']"
   ]
  },
  {
   "cell_type": "code",
   "execution_count": null,
   "metadata": {
    "execution": {
     "iopub.execute_input": "2024-07-03T17:55:59.720294Z",
     "iopub.status.busy": "2024-07-03T17:55:59.719977Z",
     "iopub.status.idle": "2024-07-03T17:56:45.731575Z",
     "shell.execute_reply": "2024-07-03T17:56:45.730655Z"
    }
   },
   "outputs": [],
   "source": [
    "appals.get_app_info(disk_prefix=disk_prefix,nic_prefix=nic_prefix)"
   ]
  },
  {
   "cell_type": "code",
   "execution_count": null,
   "metadata": {
    "execution": {
     "iopub.execute_input": "2024-07-03T17:56:45.741590Z",
     "iopub.status.busy": "2024-07-03T17:56:45.741334Z",
     "iopub.status.idle": "2024-07-03T17:56:58.893553Z",
     "shell.execute_reply": "2024-07-03T17:56:58.892602Z"
    }
   },
   "outputs": [],
   "source": [
    "appals.show_critical_path_time_breakdown()"
   ]
  },
  {
   "cell_type": "code",
   "execution_count": null,
   "metadata": {},
   "outputs": [],
   "source": []
  },
  {
   "cell_type": "markdown",
   "metadata": {},
   "source": [
    "# Compare to Last Run"
   ]
  },
  {
   "cell_type": "code",
   "execution_count": null,
   "metadata": {
    "execution": {
     "iopub.execute_input": "2024-07-03T17:56:58.902492Z",
     "iopub.status.busy": "2024-07-03T17:56:58.902241Z",
     "iopub.status.idle": "2024-07-03T18:00:59.327079Z",
     "shell.execute_reply": "2024-07-03T18:00:59.325536Z"
    }
   },
   "outputs": [],
   "source": [
    "if not last_basedir.startswith(\"LAST\"):\n",
    "    lastapp=Application_Run(last_appid,basedir=last_basedir)\n",
    "    output_last=app.compare_app(rapp=lastapp,show_metric=emonmetric,show_queryplan_diff=False,disk_prefix=disk_prefix,nic_prefix=nic_prefix)\n",
    "    display(HTML(output_last))"
   ]
  },
  {
   "cell_type": "code",
   "execution_count": null,
   "metadata": {},
   "outputs": [],
   "source": []
  },
  {
   "cell_type": "code",
   "execution_count": null,
   "metadata": {},
   "outputs": [],
   "source": []
  },
  {
   "cell_type": "code",
   "execution_count": null,
   "metadata": {},
   "outputs": [],
   "source": []
  },
  {
   "cell_type": "markdown",
   "metadata": {},
   "source": [
    "# Compare to Baseline"
   ]
  },
  {
   "cell_type": "code",
   "execution_count": null,
   "metadata": {
    "execution": {
     "iopub.execute_input": "2024-07-03T18:00:59.336232Z",
     "iopub.status.busy": "2024-07-03T18:00:59.335985Z",
     "iopub.status.idle": "2024-07-03T18:15:29.937461Z",
     "shell.execute_reply": "2024-07-03T18:15:29.936528Z"
    }
   },
   "outputs": [],
   "source": [
    "if vanilla_basedif!=\"VANILLA_BASEDIR\":\n",
    "    app_base=Application_Run(vanilla_appid,basedir=vanilla_basedif)\n",
    "    output_base=app.compare_app(rapp=app_base,show_metric=emonmetric,show_queryplan_diff=True,disk_prefix=disk_prefix,nic_prefix=nic_prefix)\n",
    "    display(HTML(output_base))\n"
   ]
  },
  {
   "cell_type": "code",
   "execution_count": null,
   "metadata": {},
   "outputs": [],
   "source": []
  },
  {
   "cell_type": "code",
   "execution_count": null,
   "metadata": {},
   "outputs": [],
   "source": []
  },
  {
   "cell_type": "code",
   "execution_count": null,
   "metadata": {},
   "outputs": [],
   "source": []
  },
  {
   "cell_type": "code",
   "execution_count": null,
   "metadata": {},
   "outputs": [],
   "source": []
  },
  {
   "cell_type": "code",
   "execution_count": null,
   "metadata": {},
   "outputs": [],
   "source": []
  },
  {
   "cell_type": "code",
   "execution_count": null,
   "metadata": {},
   "outputs": [],
   "source": []
  },
  {
   "cell_type": "code",
   "execution_count": null,
   "metadata": {},
   "outputs": [],
   "source": []
  },
  {
   "cell_type": "markdown",
   "metadata": {},
   "source": [
    "# config compare"
   ]
  },
  {
   "cell_type": "code",
   "execution_count": null,
   "metadata": {
    "execution": {
     "iopub.execute_input": "2024-07-03T18:15:29.947262Z",
     "iopub.status.busy": "2024-07-03T18:15:29.947015Z",
     "iopub.status.idle": "2024-07-03T18:15:35.963875Z",
     "shell.execute_reply": "2024-07-03T18:15:35.962475Z"
    }
   },
   "outputs": [],
   "source": [
    "if  not last_basedir.startswith(\"LAST\"):\n",
    "    display(comp_spark_conf(app.analysis['app']['als'],lastapp.analysis['app']['als']))"
   ]
  },
  {
   "cell_type": "code",
   "execution_count": null,
   "metadata": {},
   "outputs": [],
   "source": []
  },
  {
   "cell_type": "markdown",
   "metadata": {},
   "source": [
    "# convert to HTML"
   ]
  },
  {
   "cell_type": "code",
   "execution_count": null,
   "metadata": {
    "execution": {
     "iopub.execute_input": "2024-07-03T18:15:35.970500Z",
     "iopub.status.busy": "2024-07-03T18:15:35.969901Z",
     "iopub.status.idle": "2024-07-03T18:15:35.975828Z",
     "shell.execute_reply": "2024-07-03T18:15:35.974537Z"
    }
   },
   "outputs": [],
   "source": [
    "#%%javascript\n",
    "#IPython.notebook.kernel.execute('nb_name = \"' + IPython.notebook.notebook_name + '\"')"
   ]
  },
  {
   "cell_type": "code",
   "execution_count": null,
   "metadata": {
    "execution": {
     "iopub.execute_input": "2024-07-03T18:15:35.981930Z",
     "iopub.status.busy": "2024-07-03T18:15:35.981360Z",
     "iopub.status.idle": "2024-07-03T18:15:35.987525Z",
     "shell.execute_reply": "2024-07-03T18:15:35.986071Z"
    }
   },
   "outputs": [],
   "source": [
    "#htmlname=nb_name.replace(\"ipynb\",\"html\")"
   ]
  },
  {
   "cell_type": "code",
   "execution_count": null,
   "metadata": {
    "execution": {
     "iopub.execute_input": "2024-07-03T18:15:35.993659Z",
     "iopub.status.busy": "2024-07-03T18:15:35.993095Z",
     "iopub.status.idle": "2024-07-03T18:15:35.998798Z",
     "shell.execute_reply": "2024-07-03T18:15:35.997566Z"
    }
   },
   "outputs": [],
   "source": [
    "#!jupyter nbconvert --to html ./{nb_name} --output html/{htmlname} --template classic"
   ]
  },
  {
   "cell_type": "code",
   "execution_count": null,
   "metadata": {
    "execution": {
     "iopub.execute_input": "2024-07-03T18:15:36.004694Z",
     "iopub.status.busy": "2024-07-03T18:15:36.004104Z",
     "iopub.status.idle": "2024-07-03T18:15:36.321837Z",
     "shell.execute_reply": "2024-07-03T18:15:36.320426Z"
    }
   },
   "outputs": [],
   "source": [
    "sc.stop()"
   ]
  },
  {
   "cell_type": "code",
   "execution_count": null,
   "metadata": {},
   "outputs": [],
   "source": []
  },
  {
   "cell_type": "code",
   "execution_count": null,
   "metadata": {},
   "outputs": [],
   "source": []
  },
  {
   "cell_type": "code",
   "execution_count": null,
   "metadata": {},
   "outputs": [],
   "source": []
  }
 ],
 "metadata": {
  "hide_input": false,
  "kernelspec": {
   "display_name": "Python 3 (ipykernel)",
   "language": "python",
   "name": "python3"
  },
  "language_info": {
   "codemirror_mode": {
    "name": "ipython",
    "version": 3
   },
   "file_extension": ".py",
   "mimetype": "text/x-python",
   "name": "python",
   "nbconvert_exporter": "python",
   "pygments_lexer": "ipython3",
   "version": "3.10.12"
  },
  "nbTranslate": {
   "displayLangs": [
    "*"
   ],
   "hotkey": "alt-t",
   "langInMainMenu": true,
   "sourceLang": "en",
   "targetLang": "fr",
   "useGoogleTranslate": true
  },
  "toc": {
   "base_numbering": 1,
   "nav_menu": {},
   "number_sections": true,
   "sideBar": false,
   "skip_h1_title": false,
   "title_cell": "Table of Contents",
   "title_sidebar": "Contents",
   "toc_cell": false,
   "toc_position": {
    "height": "197px",
    "left": "2188px",
    "top": "111px",
    "width": "269px"
   },
   "toc_section_display": true,
   "toc_window_display": true
  },
  "varInspector": {
   "cols": {
    "lenName": 16,
    "lenType": 16,
    "lenVar": 40
   },
   "kernels_config": {
    "python": {
     "delete_cmd_postfix": "",
     "delete_cmd_prefix": "del ",
     "library": "var_list.py",
     "varRefreshCmd": "print(var_dic_list())"
    },
    "r": {
     "delete_cmd_postfix": ") ",
     "delete_cmd_prefix": "rm(",
     "library": "var_list.r",
     "varRefreshCmd": "cat(var_dic_list()) "
    }
   },
   "types_to_exclude": [
    "module",
    "function",
    "builtin_function_or_method",
    "instance",
    "_Feature"
   ],
   "window_display": false
  }
 },
 "nbformat": 4,
 "nbformat_minor": 2
}
