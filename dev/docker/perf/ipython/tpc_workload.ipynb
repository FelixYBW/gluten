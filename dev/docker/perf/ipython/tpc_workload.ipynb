{
 "cells": [
  {
   "cell_type": "markdown",
   "metadata": {},
   "source": [
    "# initialization"
   ]
  },
  {
   "cell_type": "code",
   "execution_count": 1,
   "metadata": {},
   "outputs": [
    {
     "name": "stdout",
     "output_type": "stream",
     "text": [
      "env: PYSPARK_SUBMIT_ARGS=--driver-java-options -Dio.netty.tryReflectionSetAccessible=true --conf spark.executor.extraJavaOptions=-Dio.netty.tryReflectionSetAccessible=true pyspark-shell\n"
     ]
    }
   ],
   "source": [
    "%env PYSPARK_SUBMIT_ARGS=--driver-java-options -Dio.netty.tryReflectionSetAccessible=true --conf spark.executor.extraJavaOptions=-Dio.netty.tryReflectionSetAccessible=true pyspark-shell"
   ]
  },
  {
   "cell_type": "code",
   "execution_count": 2,
   "metadata": {
    "tags": [
     "parameters"
    ]
   },
   "outputs": [],
   "source": [
    "# Local path to gluten jar.\n",
    "gluten_target_jar='/opt/gluten/jars/gluten-velox-bundle-spark3.5_2.12-linux_amd64-1.5.0-SNAPSHOT.jar'\n",
    "\n",
    "# Select workload. Can be either 'tpch' or 'tpcds'.\n",
    "workload='tpch'\n",
    "\n",
    "# Run with gluten. If False, run Spark.\n",
    "run_gluten=True\n",
    "\n",
    "# TPC tables\n",
    "#tpch_tabledir='/opt/spark/database/tpch_sf10_parquet_zstd'\n",
    "#tpcds_tabledir='/opt/spark/database/tpch_sf10_parquet_zstd'\n",
    "\n",
    "tabledir = '/opt/spark/database/tpch_sf10_parquet_zstd'\n",
    "\n",
    "# TPC queries\n",
    "#tpch_query_path='/opt/spark/tpch-queries'\n",
    "#tpcds_query_path='/opt/spark/tpcds-queries'\n",
    "\n",
    "tpc_query_path = '/opt/spark/tpch-queries/'\n",
    "\n",
    "# Parallelism\n",
    "executors_per_node=2\n",
    "\n",
    "#gluten_tpch_task_per_core=2\n",
    "#gluten_tpcds_task_per_core=4\n",
    "#spark_tpch_task_per_core=8\n",
    "#spark_tpcds_task_per_core=8\n",
    "\n",
    "task_per_core=2\n",
    "\n",
    "# Offheap ratio. 0 to disable offheap for Spark.\n",
    "# onheap:offheap = 1:2\n",
    "#spark_offheap_ratio=2.0\n",
    "# onheap:offheap = 1:7\n",
    "#gluten_offheap_ratio=7.0\n",
    "\n",
    "offheap_ratio = 7.0\n",
    "\n",
    "# spark.io.compression.codec\n",
    "spark_codec='lz4'\n",
    "# spark.gluten.sql.columnar.shuffle.codec\n",
    "gluten_codec='lz4'"
   ]
  },
  {
   "cell_type": "code",
   "execution_count": 3,
   "metadata": {
    "scrolled": true
   },
   "outputs": [
    {
     "name": "stdout",
     "output_type": "stream",
     "text": [
      "home: /home/spark\n",
      "cwd: /opt/spark/work-dir/ipython/benchmark_velox\n"
     ]
    },
    {
     "data": {
      "text/html": [
       "<div>\n",
       "<style scoped>\n",
       "    .dataframe tbody tr th:only-of-type {\n",
       "        vertical-align: middle;\n",
       "    }\n",
       "\n",
       "    .dataframe tbody tr th {\n",
       "        vertical-align: top;\n",
       "    }\n",
       "\n",
       "    .dataframe thead th {\n",
       "        text-align: right;\n",
       "    }\n",
       "</style>\n",
       "<table border=\"1\" class=\"dataframe\">\n",
       "  <thead>\n",
       "    <tr style=\"text-align: right;\">\n",
       "      <th></th>\n",
       "      <th>Environment Variable</th>\n",
       "      <th>Value</th>\n",
       "    </tr>\n",
       "  </thead>\n",
       "  <tbody>\n",
       "    <tr>\n",
       "      <th>0</th>\n",
       "      <td>HOSTNAME</td>\n",
       "      <td>ccdev31.fyre.ibm.com</td>\n",
       "    </tr>\n",
       "    <tr>\n",
       "      <th>1</th>\n",
       "      <td>SPARK_NO_DAEMONIZE</td>\n",
       "      <td>true</td>\n",
       "    </tr>\n",
       "    <tr>\n",
       "      <th>2</th>\n",
       "      <td>SHARED_LIBS</td>\n",
       "      <td>/shared-libs</td>\n",
       "    </tr>\n",
       "    <tr>\n",
       "      <th>3</th>\n",
       "      <td>PWD</td>\n",
       "      <td>/opt/spark/work-dir</td>\n",
       "    </tr>\n",
       "    <tr>\n",
       "      <th>4</th>\n",
       "      <td>HOME</td>\n",
       "      <td>/home/spark</td>\n",
       "    </tr>\n",
       "    <tr>\n",
       "      <th>5</th>\n",
       "      <td>LANG</td>\n",
       "      <td>C.utf8</td>\n",
       "    </tr>\n",
       "    <tr>\n",
       "      <th>6</th>\n",
       "      <td>TERM</td>\n",
       "      <td>xterm-color</td>\n",
       "    </tr>\n",
       "    <tr>\n",
       "      <th>7</th>\n",
       "      <td>LESSOPEN</td>\n",
       "      <td>||/usr/bin/lesspipe.sh %s</td>\n",
       "    </tr>\n",
       "    <tr>\n",
       "      <th>8</th>\n",
       "      <td>SHLVL</td>\n",
       "      <td>0</td>\n",
       "    </tr>\n",
       "    <tr>\n",
       "      <th>9</th>\n",
       "      <td>SPARK_HOME</td>\n",
       "      <td>/opt/spark</td>\n",
       "    </tr>\n",
       "    <tr>\n",
       "      <th>10</th>\n",
       "      <td>which_declare</td>\n",
       "      <td>declare -f</td>\n",
       "    </tr>\n",
       "    <tr>\n",
       "      <th>11</th>\n",
       "      <td>XDG_DATA_DIRS</td>\n",
       "      <td>/home/spark/.local/share/flatpak/exports/share...</td>\n",
       "    </tr>\n",
       "    <tr>\n",
       "      <th>12</th>\n",
       "      <td>PATH</td>\n",
       "      <td>/home/spark/.local/bin:/home/spark/bin:/opt/sp...</td>\n",
       "    </tr>\n",
       "    <tr>\n",
       "      <th>13</th>\n",
       "      <td>BASH_FUNC_which%%</td>\n",
       "      <td>() {  ( alias;\\n eval ${which_declare} ) | /us...</td>\n",
       "    </tr>\n",
       "    <tr>\n",
       "      <th>14</th>\n",
       "      <td>_</td>\n",
       "      <td>/bin/nohup</td>\n",
       "    </tr>\n",
       "    <tr>\n",
       "      <th>15</th>\n",
       "      <td>JPY_PARENT_PID</td>\n",
       "      <td>270</td>\n",
       "    </tr>\n",
       "    <tr>\n",
       "      <th>16</th>\n",
       "      <td>PYDEVD_USE_FRAME_EVAL</td>\n",
       "      <td>NO</td>\n",
       "    </tr>\n",
       "    <tr>\n",
       "      <th>17</th>\n",
       "      <td>CLICOLOR</td>\n",
       "      <td>1</td>\n",
       "    </tr>\n",
       "    <tr>\n",
       "      <th>18</th>\n",
       "      <td>FORCE_COLOR</td>\n",
       "      <td>1</td>\n",
       "    </tr>\n",
       "    <tr>\n",
       "      <th>19</th>\n",
       "      <td>CLICOLOR_FORCE</td>\n",
       "      <td>1</td>\n",
       "    </tr>\n",
       "    <tr>\n",
       "      <th>20</th>\n",
       "      <td>PAGER</td>\n",
       "      <td>cat</td>\n",
       "    </tr>\n",
       "    <tr>\n",
       "      <th>21</th>\n",
       "      <td>GIT_PAGER</td>\n",
       "      <td>cat</td>\n",
       "    </tr>\n",
       "    <tr>\n",
       "      <th>22</th>\n",
       "      <td>MPLBACKEND</td>\n",
       "      <td>module://matplotlib_inline.backend_inline</td>\n",
       "    </tr>\n",
       "    <tr>\n",
       "      <th>23</th>\n",
       "      <td>PYSPARK_SUBMIT_ARGS</td>\n",
       "      <td>--driver-java-options -Dio.netty.tryReflection...</td>\n",
       "    </tr>\n",
       "  </tbody>\n",
       "</table>\n",
       "</div>"
      ],
      "text/plain": [
       "     Environment Variable                                              Value\n",
       "0                HOSTNAME                               ccdev31.fyre.ibm.com\n",
       "1      SPARK_NO_DAEMONIZE                                               true\n",
       "2             SHARED_LIBS                                       /shared-libs\n",
       "3                     PWD                                /opt/spark/work-dir\n",
       "4                    HOME                                        /home/spark\n",
       "5                    LANG                                             C.utf8\n",
       "6                    TERM                                        xterm-color\n",
       "7                LESSOPEN                          ||/usr/bin/lesspipe.sh %s\n",
       "8                   SHLVL                                                  0\n",
       "9              SPARK_HOME                                         /opt/spark\n",
       "10          which_declare                                         declare -f\n",
       "11          XDG_DATA_DIRS  /home/spark/.local/share/flatpak/exports/share...\n",
       "12                   PATH  /home/spark/.local/bin:/home/spark/bin:/opt/sp...\n",
       "13      BASH_FUNC_which%%  () {  ( alias;\\n eval ${which_declare} ) | /us...\n",
       "14                      _                                         /bin/nohup\n",
       "15         JPY_PARENT_PID                                                270\n",
       "16  PYDEVD_USE_FRAME_EVAL                                                 NO\n",
       "17               CLICOLOR                                                  1\n",
       "18            FORCE_COLOR                                                  1\n",
       "19         CLICOLOR_FORCE                                                  1\n",
       "20                  PAGER                                                cat\n",
       "21              GIT_PAGER                                                cat\n",
       "22             MPLBACKEND          module://matplotlib_inline.backend_inline\n",
       "23    PYSPARK_SUBMIT_ARGS  --driver-java-options -Dio.netty.tryReflection..."
      ]
     },
     "metadata": {},
     "output_type": "display_data"
    },
    {
     "name": "stdout",
     "output_type": "stream",
     "text": [
      "localhost: ccdev31.fyre.ibm.com\n",
      "ip: 10.51.5.211\n",
      "Spark version from SPARK_HOME: 3.5.2\n"
     ]
    }
   ],
   "source": [
    "%run ./native_sql_initialize.ipynb"
   ]
  },
  {
   "cell_type": "markdown",
   "metadata": {},
   "source": [
    "# Application Level Configuration"
   ]
  },
  {
   "cell_type": "code",
   "execution_count": 4,
   "metadata": {},
   "outputs": [],
   "source": [
    "if run_gluten:\n",
    "    sct=GlutenSparkContext(executors_per_node, task_per_core, gluten_target_jar, offheap_ratio)\n",
    "    sct.conf.set('spark.gluten.sql.columnar.shuffle.codec', gluten_codec)\n",
    "else:\n",
    "    sct=VanillaSparkContext(executors_per_node, task_per_core, gluten_target_jar, offheap_ratio)\n",
    "    sct.conf.set('spark.io.compression.codec', spark_codec)"
   ]
  },
  {
   "cell_type": "code",
   "execution_count": 5,
   "metadata": {
    "scrolled": true
   },
   "outputs": [
    {
     "name": "stdout",
     "output_type": "stream",
     "text": [
      "\n",
      "            executors per node: 2\n",
      "            parallelism: 32\n",
      "            executor memory: 2283m\n",
      "            offheap memory: 15984m\n",
      "        \n",
      "spark.serializer:  org.apache.spark.serializer.KryoSerializer\n",
      "master:  spark://ccdev31.fyre.ibm.com:7077\n"
     ]
    },
    {
     "name": "stderr",
     "output_type": "stream",
     "text": [
      "Setting default log level to \"WARN\".\n",
      "To adjust logging level use sc.setLogLevel(newLevel). For SparkR, use setLogLevel(newLevel).\n",
      "25/04/08 23:24:59 WARN NativeCodeLoader: Unable to load native-hadoop library for your platform... using builtin-java classes where applicable\n",
      "25/04/08 23:25:01 WARN VeloxListenerApi: Memory overhead is set to 3072MiB which is smaller than the recommended size 4795MiB. This may cause OOM.\n",
      "W20250408 23:25:03.618028   409 MemoryArbitrator.cpp:84] Query memory capacity[2.25GB] is set for NOOP arbitrator which has no capacity enforcement\n",
      "/opt/spark/python/pyspark/sql/context.py:113: FutureWarning: Deprecated in 3.0.0. Use SparkSession.builder.getOrCreate() instead.\n",
      "  warnings.warn(\n"
     ]
    },
    {
     "name": "stdout",
     "output_type": "stream",
     "text": [
      "appid:  app-20250408232504-0000\n",
      "SparkConf:\n"
     ]
    },
    {
     "data": {
      "text/html": [
       "<div>\n",
       "<style scoped>\n",
       "    .dataframe tbody tr th:only-of-type {\n",
       "        vertical-align: middle;\n",
       "    }\n",
       "\n",
       "    .dataframe tbody tr th {\n",
       "        vertical-align: top;\n",
       "    }\n",
       "\n",
       "    .dataframe thead th {\n",
       "        text-align: right;\n",
       "    }\n",
       "</style>\n",
       "<table border=\"1\" class=\"dataframe\">\n",
       "  <thead>\n",
       "    <tr style=\"text-align: right;\">\n",
       "      <th></th>\n",
       "      <th>key</th>\n",
       "      <th>value</th>\n",
       "    </tr>\n",
       "  </thead>\n",
       "  <tbody>\n",
       "    <tr>\n",
       "      <th>0</th>\n",
       "      <td>spark.eventLog.enabled</td>\n",
       "      <td>true</td>\n",
       "    </tr>\n",
       "    <tr>\n",
       "      <th>1</th>\n",
       "      <td>spark.app.id</td>\n",
       "      <td>app-20250408232504-0000</td>\n",
       "    </tr>\n",
       "    <tr>\n",
       "      <th>2</th>\n",
       "      <td>spark.app.startTime</td>\n",
       "      <td>1744154699178</td>\n",
       "    </tr>\n",
       "    <tr>\n",
       "      <th>3</th>\n",
       "      <td>spark.hadoop.fs.s3a.endpoint</td>\n",
       "      <td>https://s3.us-east-1.amazonaws.com</td>\n",
       "    </tr>\n",
       "    <tr>\n",
       "      <th>4</th>\n",
       "      <td>spark.gluten.sql.columnar.shuffle.codec</td>\n",
       "      <td>lz4</td>\n",
       "    </tr>\n",
       "    <tr>\n",
       "      <th>5</th>\n",
       "      <td>spark.executor.extraJavaOptions</td>\n",
       "      <td>-Djava.net.preferIPv6Addresses=false -XX:+Igno...</td>\n",
       "    </tr>\n",
       "    <tr>\n",
       "      <th>6</th>\n",
       "      <td>spark.cleaner.periodicGC.interval</td>\n",
       "      <td>10s</td>\n",
       "    </tr>\n",
       "    <tr>\n",
       "      <th>7</th>\n",
       "      <td>spark.serializer</td>\n",
       "      <td>org.apache.spark.serializer.KryoSerializer</td>\n",
       "    </tr>\n",
       "    <tr>\n",
       "      <th>8</th>\n",
       "      <td>spark.gluten.sql.session.timeZone.default</td>\n",
       "      <td>Etc/UTC</td>\n",
       "    </tr>\n",
       "    <tr>\n",
       "      <th>9</th>\n",
       "      <td>spark.driver.host</td>\n",
       "      <td>ccdev31.fyre.ibm.com</td>\n",
       "    </tr>\n",
       "    <tr>\n",
       "      <th>10</th>\n",
       "      <td>spark.master</td>\n",
       "      <td>spark://ccdev31.fyre.ibm.com:7077</td>\n",
       "    </tr>\n",
       "    <tr>\n",
       "      <th>11</th>\n",
       "      <td>spark.driver.port</td>\n",
       "      <td>39519</td>\n",
       "    </tr>\n",
       "    <tr>\n",
       "      <th>12</th>\n",
       "      <td>spark.eventLog.dir</td>\n",
       "      <td>/opt/spark/events</td>\n",
       "    </tr>\n",
       "    <tr>\n",
       "      <th>13</th>\n",
       "      <td>spark.executorEnv.PYTHONPATH</td>\n",
       "      <td>/opt/sparkpython:/opt/spark/python/lib/py4j-0....</td>\n",
       "    </tr>\n",
       "    <tr>\n",
       "      <th>14</th>\n",
       "      <td>spark.hadoop.fs.s3a.aws.credentials.provider</td>\n",
       "      <td>org.apache.hadoop.fs.s3a.auth.IAMInstanceCrede...</td>\n",
       "    </tr>\n",
       "    <tr>\n",
       "      <th>15</th>\n",
       "      <td>spark.executor.id</td>\n",
       "      <td>driver</td>\n",
       "    </tr>\n",
       "    <tr>\n",
       "      <th>16</th>\n",
       "      <td>spark.sql.extensions</td>\n",
       "      <td>org.apache.gluten.extension.GlutenSessionExten...</td>\n",
       "    </tr>\n",
       "    <tr>\n",
       "      <th>17</th>\n",
       "      <td>spark.gluten.numTaskSlotsPerExecutor</td>\n",
       "      <td>8</td>\n",
       "    </tr>\n",
       "    <tr>\n",
       "      <th>18</th>\n",
       "      <td>spark.gluten.memory.conservative.task.offHeap....</td>\n",
       "      <td>1047527424</td>\n",
       "    </tr>\n",
       "    <tr>\n",
       "      <th>19</th>\n",
       "      <td>spark.executorEnv.LD_PRELOAD</td>\n",
       "      <td>line</td>\n",
       "    </tr>\n",
       "    <tr>\n",
       "      <th>20</th>\n",
       "      <td>spark.executor.memoryOverhead</td>\n",
       "      <td>3072m</td>\n",
       "    </tr>\n",
       "    <tr>\n",
       "      <th>21</th>\n",
       "      <td>spark.sql.catalogImplementation</td>\n",
       "      <td>hive</td>\n",
       "    </tr>\n",
       "    <tr>\n",
       "      <th>22</th>\n",
       "      <td>spark.gluten.sql.columnar.coalesce.batches</td>\n",
       "      <td>true</td>\n",
       "    </tr>\n",
       "    <tr>\n",
       "      <th>23</th>\n",
       "      <td>spark.gluten.memory.dynamic.offHeap.sizing.ena...</td>\n",
       "      <td>false</td>\n",
       "    </tr>\n",
       "    <tr>\n",
       "      <th>24</th>\n",
       "      <td>spark.gluten.memory.overAcquiredMemoryRatio</td>\n",
       "      <td>0</td>\n",
       "    </tr>\n",
       "    <tr>\n",
       "      <th>25</th>\n",
       "      <td>spark.driver.maxResultSize</td>\n",
       "      <td>4g</td>\n",
       "    </tr>\n",
       "    <tr>\n",
       "      <th>26</th>\n",
       "      <td>spark.gluten.memory.task.offHeap.size.in.bytes</td>\n",
       "      <td>2095054848</td>\n",
       "    </tr>\n",
       "    <tr>\n",
       "      <th>27</th>\n",
       "      <td>spark.executor.memory</td>\n",
       "      <td>2283m</td>\n",
       "    </tr>\n",
       "    <tr>\n",
       "      <th>28</th>\n",
       "      <td>spark.plugins</td>\n",
       "      <td>org.apache.gluten.GlutenPlugin</td>\n",
       "    </tr>\n",
       "    <tr>\n",
       "      <th>29</th>\n",
       "      <td>spark.kryoserializer.buffer.max</td>\n",
       "      <td>512m</td>\n",
       "    </tr>\n",
       "    <tr>\n",
       "      <th>30</th>\n",
       "      <td>spark.sql.files.maxPartitionBytes</td>\n",
       "      <td>4g</td>\n",
       "    </tr>\n",
       "    <tr>\n",
       "      <th>31</th>\n",
       "      <td>spark.sql.adaptive.enabled</td>\n",
       "      <td>True</td>\n",
       "    </tr>\n",
       "    <tr>\n",
       "      <th>32</th>\n",
       "      <td>spark.hadoop.fs.s3a.connection.ssl.enabled</td>\n",
       "      <td>true</td>\n",
       "    </tr>\n",
       "    <tr>\n",
       "      <th>33</th>\n",
       "      <td>spark.sql.shuffle.partitions</td>\n",
       "      <td>32</td>\n",
       "    </tr>\n",
       "    <tr>\n",
       "      <th>34</th>\n",
       "      <td>spark.executor.instances</td>\n",
       "      <td>2</td>\n",
       "    </tr>\n",
       "    <tr>\n",
       "      <th>35</th>\n",
       "      <td>spark.executor.extraClassPath</td>\n",
       "      <td>/opt/gluten/jars/gluten-velox-bundle-spark3.5_...</td>\n",
       "    </tr>\n",
       "    <tr>\n",
       "      <th>36</th>\n",
       "      <td>spark.gluten.sql.columnar.forceShuffledHashJoin</td>\n",
       "      <td>True</td>\n",
       "    </tr>\n",
       "    <tr>\n",
       "      <th>37</th>\n",
       "      <td>spark.sql.autoBroadcastJoinThreshold</td>\n",
       "      <td>10m</td>\n",
       "    </tr>\n",
       "    <tr>\n",
       "      <th>38</th>\n",
       "      <td>spark.serializer.objectStreamReset</td>\n",
       "      <td>100</td>\n",
       "    </tr>\n",
       "    <tr>\n",
       "      <th>39</th>\n",
       "      <td>spark.history.fs.logDirectory</td>\n",
       "      <td>/opt/spark/events</td>\n",
       "    </tr>\n",
       "    <tr>\n",
       "      <th>40</th>\n",
       "      <td>spark.driver.extraClassPath</td>\n",
       "      <td>/opt/gluten/jars/gluten-velox-bundle-spark3.5_...</td>\n",
       "    </tr>\n",
       "    <tr>\n",
       "      <th>41</th>\n",
       "      <td>spark.submit.deployMode</td>\n",
       "      <td>client</td>\n",
       "    </tr>\n",
       "    <tr>\n",
       "      <th>42</th>\n",
       "      <td>spark.memory.offHeap.enabled</td>\n",
       "      <td>True</td>\n",
       "    </tr>\n",
       "    <tr>\n",
       "      <th>43</th>\n",
       "      <td>spark.executor.cores</td>\n",
       "      <td>8</td>\n",
       "    </tr>\n",
       "    <tr>\n",
       "      <th>44</th>\n",
       "      <td>spark.hadoop.fs.s3a.use.instance.credentials</td>\n",
       "      <td>true</td>\n",
       "    </tr>\n",
       "    <tr>\n",
       "      <th>45</th>\n",
       "      <td>spark.sql.optimizer.dynamicPartitionPruning.en...</td>\n",
       "      <td>True</td>\n",
       "    </tr>\n",
       "    <tr>\n",
       "      <th>46</th>\n",
       "      <td>spark.shuffle.manager</td>\n",
       "      <td>org.apache.spark.shuffle.sort.ColumnarShuffleM...</td>\n",
       "    </tr>\n",
       "    <tr>\n",
       "      <th>47</th>\n",
       "      <td>spark.gluten.sql.columnar.backend.lib</td>\n",
       "      <td>velox</td>\n",
       "    </tr>\n",
       "    <tr>\n",
       "      <th>48</th>\n",
       "      <td>spark.driver.extraJavaOptions</td>\n",
       "      <td>-Djava.net.preferIPv6Addresses=false -XX:+Igno...</td>\n",
       "    </tr>\n",
       "    <tr>\n",
       "      <th>49</th>\n",
       "      <td>spark.driver.memory</td>\n",
       "      <td>1024m</td>\n",
       "    </tr>\n",
       "    <tr>\n",
       "      <th>50</th>\n",
       "      <td>spark.gluten.sql.columnar.maxBatchSize</td>\n",
       "      <td>4096</td>\n",
       "    </tr>\n",
       "    <tr>\n",
       "      <th>51</th>\n",
       "      <td>spark.app.submitTime</td>\n",
       "      <td>1744154698822</td>\n",
       "    </tr>\n",
       "    <tr>\n",
       "      <th>52</th>\n",
       "      <td>spark.gluten.memory.offHeap.size.in.bytes</td>\n",
       "      <td>16760438784</td>\n",
       "    </tr>\n",
       "    <tr>\n",
       "      <th>53</th>\n",
       "      <td>spark.app.name</td>\n",
       "      <td>gluten_tpch_spark352</td>\n",
       "    </tr>\n",
       "    <tr>\n",
       "      <th>54</th>\n",
       "      <td>spark.memory.offHeap.size</td>\n",
       "      <td>16760438784</td>\n",
       "    </tr>\n",
       "    <tr>\n",
       "      <th>55</th>\n",
       "      <td>spark.rdd.compress</td>\n",
       "      <td>True</td>\n",
       "    </tr>\n",
       "    <tr>\n",
       "      <th>56</th>\n",
       "      <td>spark.sql.broadcastTimeout</td>\n",
       "      <td>4800</td>\n",
       "    </tr>\n",
       "    <tr>\n",
       "      <th>57</th>\n",
       "      <td>spark.task.cpus</td>\n",
       "      <td>1</td>\n",
       "    </tr>\n",
       "    <tr>\n",
       "      <th>58</th>\n",
       "      <td>spark.sql.adaptive.customCostEvaluatorClass</td>\n",
       "      <td>org.apache.spark.sql.execution.adaptive.Gluten...</td>\n",
       "    </tr>\n",
       "    <tr>\n",
       "      <th>59</th>\n",
       "      <td>spark.submit.pyFiles</td>\n",
       "      <td></td>\n",
       "    </tr>\n",
       "    <tr>\n",
       "      <th>60</th>\n",
       "      <td>spark.kryo.unsafe</td>\n",
       "      <td>False</td>\n",
       "    </tr>\n",
       "    <tr>\n",
       "      <th>61</th>\n",
       "      <td>spark.gluten.memoryOverhead.size.in.bytes</td>\n",
       "      <td>3221225472</td>\n",
       "    </tr>\n",
       "    <tr>\n",
       "      <th>62</th>\n",
       "      <td>spark.ui.showConsoleProgress</td>\n",
       "      <td>true</td>\n",
       "    </tr>\n",
       "  </tbody>\n",
       "</table>\n",
       "</div>"
      ],
      "text/plain": [
       "                                                  key  \\\n",
       "0                              spark.eventLog.enabled   \n",
       "1                                        spark.app.id   \n",
       "2                                 spark.app.startTime   \n",
       "3                        spark.hadoop.fs.s3a.endpoint   \n",
       "4             spark.gluten.sql.columnar.shuffle.codec   \n",
       "5                     spark.executor.extraJavaOptions   \n",
       "6                   spark.cleaner.periodicGC.interval   \n",
       "7                                    spark.serializer   \n",
       "8           spark.gluten.sql.session.timeZone.default   \n",
       "9                                   spark.driver.host   \n",
       "10                                       spark.master   \n",
       "11                                  spark.driver.port   \n",
       "12                                 spark.eventLog.dir   \n",
       "13                       spark.executorEnv.PYTHONPATH   \n",
       "14       spark.hadoop.fs.s3a.aws.credentials.provider   \n",
       "15                                  spark.executor.id   \n",
       "16                               spark.sql.extensions   \n",
       "17               spark.gluten.numTaskSlotsPerExecutor   \n",
       "18  spark.gluten.memory.conservative.task.offHeap....   \n",
       "19                       spark.executorEnv.LD_PRELOAD   \n",
       "20                      spark.executor.memoryOverhead   \n",
       "21                    spark.sql.catalogImplementation   \n",
       "22         spark.gluten.sql.columnar.coalesce.batches   \n",
       "23  spark.gluten.memory.dynamic.offHeap.sizing.ena...   \n",
       "24        spark.gluten.memory.overAcquiredMemoryRatio   \n",
       "25                         spark.driver.maxResultSize   \n",
       "26     spark.gluten.memory.task.offHeap.size.in.bytes   \n",
       "27                              spark.executor.memory   \n",
       "28                                      spark.plugins   \n",
       "29                    spark.kryoserializer.buffer.max   \n",
       "30                  spark.sql.files.maxPartitionBytes   \n",
       "31                         spark.sql.adaptive.enabled   \n",
       "32         spark.hadoop.fs.s3a.connection.ssl.enabled   \n",
       "33                       spark.sql.shuffle.partitions   \n",
       "34                           spark.executor.instances   \n",
       "35                      spark.executor.extraClassPath   \n",
       "36    spark.gluten.sql.columnar.forceShuffledHashJoin   \n",
       "37               spark.sql.autoBroadcastJoinThreshold   \n",
       "38                 spark.serializer.objectStreamReset   \n",
       "39                      spark.history.fs.logDirectory   \n",
       "40                        spark.driver.extraClassPath   \n",
       "41                            spark.submit.deployMode   \n",
       "42                       spark.memory.offHeap.enabled   \n",
       "43                               spark.executor.cores   \n",
       "44       spark.hadoop.fs.s3a.use.instance.credentials   \n",
       "45  spark.sql.optimizer.dynamicPartitionPruning.en...   \n",
       "46                              spark.shuffle.manager   \n",
       "47              spark.gluten.sql.columnar.backend.lib   \n",
       "48                      spark.driver.extraJavaOptions   \n",
       "49                                spark.driver.memory   \n",
       "50             spark.gluten.sql.columnar.maxBatchSize   \n",
       "51                               spark.app.submitTime   \n",
       "52          spark.gluten.memory.offHeap.size.in.bytes   \n",
       "53                                     spark.app.name   \n",
       "54                          spark.memory.offHeap.size   \n",
       "55                                 spark.rdd.compress   \n",
       "56                         spark.sql.broadcastTimeout   \n",
       "57                                    spark.task.cpus   \n",
       "58        spark.sql.adaptive.customCostEvaluatorClass   \n",
       "59                               spark.submit.pyFiles   \n",
       "60                                  spark.kryo.unsafe   \n",
       "61          spark.gluten.memoryOverhead.size.in.bytes   \n",
       "62                       spark.ui.showConsoleProgress   \n",
       "\n",
       "                                                value  \n",
       "0                                                true  \n",
       "1                             app-20250408232504-0000  \n",
       "2                                       1744154699178  \n",
       "3                  https://s3.us-east-1.amazonaws.com  \n",
       "4                                                 lz4  \n",
       "5   -Djava.net.preferIPv6Addresses=false -XX:+Igno...  \n",
       "6                                                 10s  \n",
       "7          org.apache.spark.serializer.KryoSerializer  \n",
       "8                                             Etc/UTC  \n",
       "9                                ccdev31.fyre.ibm.com  \n",
       "10                  spark://ccdev31.fyre.ibm.com:7077  \n",
       "11                                              39519  \n",
       "12                                  /opt/spark/events  \n",
       "13  /opt/sparkpython:/opt/spark/python/lib/py4j-0....  \n",
       "14  org.apache.hadoop.fs.s3a.auth.IAMInstanceCrede...  \n",
       "15                                             driver  \n",
       "16  org.apache.gluten.extension.GlutenSessionExten...  \n",
       "17                                                  8  \n",
       "18                                         1047527424  \n",
       "19                                               line  \n",
       "20                                              3072m  \n",
       "21                                               hive  \n",
       "22                                               true  \n",
       "23                                              false  \n",
       "24                                                  0  \n",
       "25                                                 4g  \n",
       "26                                         2095054848  \n",
       "27                                              2283m  \n",
       "28                     org.apache.gluten.GlutenPlugin  \n",
       "29                                               512m  \n",
       "30                                                 4g  \n",
       "31                                               True  \n",
       "32                                               true  \n",
       "33                                                 32  \n",
       "34                                                  2  \n",
       "35  /opt/gluten/jars/gluten-velox-bundle-spark3.5_...  \n",
       "36                                               True  \n",
       "37                                                10m  \n",
       "38                                                100  \n",
       "39                                  /opt/spark/events  \n",
       "40  /opt/gluten/jars/gluten-velox-bundle-spark3.5_...  \n",
       "41                                             client  \n",
       "42                                               True  \n",
       "43                                                  8  \n",
       "44                                               true  \n",
       "45                                               True  \n",
       "46  org.apache.spark.shuffle.sort.ColumnarShuffleM...  \n",
       "47                                              velox  \n",
       "48  -Djava.net.preferIPv6Addresses=false -XX:+Igno...  \n",
       "49                                              1024m  \n",
       "50                                               4096  \n",
       "51                                      1744154698822  \n",
       "52                                        16760438784  \n",
       "53                               gluten_tpch_spark352  \n",
       "54                                        16760438784  \n",
       "55                                               True  \n",
       "56                                               4800  \n",
       "57                                                  1  \n",
       "58  org.apache.spark.sql.execution.adaptive.Gluten...  \n",
       "59                                                     \n",
       "60                                              False  \n",
       "61                                         3221225472  \n",
       "62                                               true  "
      ]
     },
     "metadata": {},
     "output_type": "display_data"
    },
    {
     "name": "stdout",
     "output_type": "stream",
     "text": [
      "start run:  app-20250408232504-0000\n",
      "http://10.51.5.211:18080/history/app-20250408232504-0000/jobs/\n"
     ]
    }
   ],
   "source": [
    "if workload.lower()==\"tpch\":\n",
    "    bm=TPCHBenchmark(sct, tabledir, 'parquet', tpc_query_path)\n",
    "else:\n",
    "    bm=TPCDSBenchmark(sct, tabledir, 'parquet', tpc_query_path)\n",
    "bm.initialize()"
   ]
  },
  {
   "cell_type": "code",
   "execution_count": null,
   "metadata": {},
   "outputs": [],
   "source": []
  },
  {
   "cell_type": "markdown",
   "metadata": {},
   "source": [
    "# Run Workload"
   ]
  },
  {
   "cell_type": "code",
   "execution_count": null,
   "metadata": {
    "scrolled": true
   },
   "outputs": [
    {
     "name": "stdout",
     "output_type": "stream",
     "text": [
      "Loading all tables: ['customer', 'lineitem', 'nation', 'orders', 'part', 'partsupp', 'region', 'supplier']\n"
     ]
    },
    {
     "name": "stderr",
     "output_type": "stream",
     "text": [
      "                                                                                \r"
     ]
    },
    {
     "name": "stdout",
     "output_type": "stream",
     "text": [
      "start query q1, application id app-20250408232504-0000\n",
      "Start time : 3157642.993387116\n"
     ]
    },
    {
     "name": "stderr",
     "output_type": "stream",
     "text": [
      "                                                                                \r"
     ]
    },
    {
     "data": {
      "text/html": [
       "Completed Query. Time(sec): <font size=6pt color=red>9.579473</font>"
      ],
      "text/plain": [
       "<IPython.core.display.HTML object>"
      ]
     },
     "metadata": {},
     "output_type": "display_data"
    },
    {
     "name": "stdout",
     "output_type": "stream",
     "text": [
      "start query q2, application id app-20250408232504-0000\n",
      "Start time : 3157652.887261534\n"
     ]
    },
    {
     "name": "stderr",
     "output_type": "stream",
     "text": [
      "                                                                                \r"
     ]
    },
    {
     "data": {
      "text/html": [
       "Completed Query. Time(sec): <font size=6pt color=red>7.913998</font>"
      ],
      "text/plain": [
       "<IPython.core.display.HTML object>"
      ]
     },
     "metadata": {},
     "output_type": "display_data"
    },
    {
     "name": "stdout",
     "output_type": "stream",
     "text": [
      "start query q3, application id app-20250408232504-0000\n",
      "Start time : 3157660.859836286\n"
     ]
    },
    {
     "name": "stderr",
     "output_type": "stream",
     "text": [
      "                                                                                \r"
     ]
    },
    {
     "data": {
      "text/html": [
       "Completed Query. Time(sec): <font size=6pt color=red>4.457313</font>"
      ],
      "text/plain": [
       "<IPython.core.display.HTML object>"
      ]
     },
     "metadata": {},
     "output_type": "display_data"
    },
    {
     "name": "stdout",
     "output_type": "stream",
     "text": [
      "start query q4, application id app-20250408232504-0000\n",
      "Start time : 3157665.38484106\n"
     ]
    },
    {
     "name": "stderr",
     "output_type": "stream",
     "text": [
      "                                                                                \r"
     ]
    },
    {
     "data": {
      "text/html": [
       "Completed Query. Time(sec): <font size=6pt color=red>4.470593</font>"
      ],
      "text/plain": [
       "<IPython.core.display.HTML object>"
      ]
     },
     "metadata": {},
     "output_type": "display_data"
    },
    {
     "name": "stdout",
     "output_type": "stream",
     "text": [
      "start query q5, application id app-20250408232504-0000\n",
      "Start time : 3157669.911268717\n"
     ]
    },
    {
     "name": "stderr",
     "output_type": "stream",
     "text": [
      "                                                                                \r"
     ]
    },
    {
     "data": {
      "text/html": [
       "Completed Query. Time(sec): <font size=6pt color=red>9.149302</font>"
      ],
      "text/plain": [
       "<IPython.core.display.HTML object>"
      ]
     },
     "metadata": {},
     "output_type": "display_data"
    },
    {
     "name": "stdout",
     "output_type": "stream",
     "text": [
      "start query q6, application id app-20250408232504-0000\n",
      "Start time : 3157679.117239583\n"
     ]
    },
    {
     "name": "stderr",
     "output_type": "stream",
     "text": [
      "                                                                                \r"
     ]
    },
    {
     "data": {
      "text/html": [
       "Completed Query. Time(sec): <font size=6pt color=red>1.265029</font>"
      ],
      "text/plain": [
       "<IPython.core.display.HTML object>"
      ]
     },
     "metadata": {},
     "output_type": "display_data"
    },
    {
     "name": "stdout",
     "output_type": "stream",
     "text": [
      "start query q7, application id app-20250408232504-0000\n",
      "Start time : 3157680.494231713\n"
     ]
    },
    {
     "name": "stderr",
     "output_type": "stream",
     "text": [
      "                                                                                \r"
     ]
    },
    {
     "data": {
      "text/html": [
       "Completed Query. Time(sec): <font size=6pt color=red>9.394020</font>"
      ],
      "text/plain": [
       "<IPython.core.display.HTML object>"
      ]
     },
     "metadata": {},
     "output_type": "display_data"
    },
    {
     "name": "stdout",
     "output_type": "stream",
     "text": [
      "start query q8, application id app-20250408232504-0000\n",
      "Start time : 3157689.983482988\n"
     ]
    },
    {
     "name": "stderr",
     "output_type": "stream",
     "text": [
      "                                                                                \r"
     ]
    },
    {
     "data": {
      "text/html": [
       "Completed Query. Time(sec): <font size=6pt color=red>8.162286</font>"
      ],
      "text/plain": [
       "<IPython.core.display.HTML object>"
      ]
     },
     "metadata": {},
     "output_type": "display_data"
    },
    {
     "name": "stdout",
     "output_type": "stream",
     "text": [
      "start query q9, application id app-20250408232504-0000\n",
      "Start time : 3157698.213414298\n"
     ]
    },
    {
     "name": "stderr",
     "output_type": "stream",
     "text": [
      "                                                                                \r"
     ]
    },
    {
     "data": {
      "text/html": [
       "Completed Query. Time(sec): <font size=6pt color=red>9.595391</font>"
      ],
      "text/plain": [
       "<IPython.core.display.HTML object>"
      ]
     },
     "metadata": {},
     "output_type": "display_data"
    },
    {
     "name": "stdout",
     "output_type": "stream",
     "text": [
      "start query q10, application id app-20250408232504-0000\n",
      "Start time : 3157707.862851417\n"
     ]
    },
    {
     "name": "stderr",
     "output_type": "stream",
     "text": [
      "                                                                                \r"
     ]
    },
    {
     "data": {
      "text/html": [
       "Completed Query. Time(sec): <font size=6pt color=red>5.198450</font>"
      ],
      "text/plain": [
       "<IPython.core.display.HTML object>"
      ]
     },
     "metadata": {},
     "output_type": "display_data"
    },
    {
     "name": "stdout",
     "output_type": "stream",
     "text": [
      "start query q11, application id app-20250408232504-0000\n",
      "Start time : 3157713.128071688\n"
     ]
    },
    {
     "name": "stderr",
     "output_type": "stream",
     "text": [
      "                                                                                \r"
     ]
    },
    {
     "data": {
      "text/html": [
       "Completed Query. Time(sec): <font size=6pt color=red>3.657466</font>"
      ],
      "text/plain": [
       "<IPython.core.display.HTML object>"
      ]
     },
     "metadata": {},
     "output_type": "display_data"
    },
    {
     "name": "stdout",
     "output_type": "stream",
     "text": [
      "start query q12, application id app-20250408232504-0000\n",
      "Start time : 3157716.835364441\n"
     ]
    },
    {
     "name": "stderr",
     "output_type": "stream",
     "text": [
      "                                                                                \r"
     ]
    },
    {
     "data": {
      "text/html": [
       "Completed Query. Time(sec): <font size=6pt color=red>3.735162</font>"
      ],
      "text/plain": [
       "<IPython.core.display.HTML object>"
      ]
     },
     "metadata": {},
     "output_type": "display_data"
    },
    {
     "name": "stdout",
     "output_type": "stream",
     "text": [
      "start query q13, application id app-20250408232504-0000\n",
      "Start time : 3157720.601609927\n"
     ]
    },
    {
     "name": "stderr",
     "output_type": "stream",
     "text": [
      "                                                                                \r"
     ]
    },
    {
     "data": {
      "text/html": [
       "Completed Query. Time(sec): <font size=6pt color=red>4.654566</font>"
      ],
      "text/plain": [
       "<IPython.core.display.HTML object>"
      ]
     },
     "metadata": {},
     "output_type": "display_data"
    },
    {
     "name": "stdout",
     "output_type": "stream",
     "text": [
      "start query q14, application id app-20250408232504-0000\n",
      "Start time : 3157725.289641529\n"
     ]
    },
    {
     "name": "stderr",
     "output_type": "stream",
     "text": [
      "                                                                                \r"
     ]
    },
    {
     "data": {
      "text/html": [
       "Completed Query. Time(sec): <font size=6pt color=red>2.111985</font>"
      ],
      "text/plain": [
       "<IPython.core.display.HTML object>"
      ]
     },
     "metadata": {},
     "output_type": "display_data"
    },
    {
     "name": "stdout",
     "output_type": "stream",
     "text": [
      "start query q15, application id app-20250408232504-0000\n",
      "Start time : 3157727.501044003\n"
     ]
    },
    {
     "name": "stderr",
     "output_type": "stream",
     "text": [
      "                                                                                \r"
     ]
    },
    {
     "data": {
      "text/html": [
       "Completed Query. Time(sec): <font size=6pt color=red>4.430543</font>"
      ],
      "text/plain": [
       "<IPython.core.display.HTML object>"
      ]
     },
     "metadata": {},
     "output_type": "display_data"
    },
    {
     "name": "stdout",
     "output_type": "stream",
     "text": [
      "start query q16, application id app-20250408232504-0000\n",
      "Start time : 3157731.975916747\n"
     ]
    },
    {
     "name": "stderr",
     "output_type": "stream",
     "text": [
      "                                                                                \r"
     ]
    },
    {
     "data": {
      "text/html": [
       "Completed Query. Time(sec): <font size=6pt color=red>4.590605</font>"
      ],
      "text/plain": [
       "<IPython.core.display.HTML object>"
      ]
     },
     "metadata": {},
     "output_type": "display_data"
    },
    {
     "name": "stdout",
     "output_type": "stream",
     "text": [
      "start query q17, application id app-20250408232504-0000\n",
      "Start time : 3157736.600842477\n"
     ]
    },
    {
     "name": "stderr",
     "output_type": "stream",
     "text": [
      "                                                                                \r"
     ]
    },
    {
     "data": {
      "text/html": [
       "Completed Query. Time(sec): <font size=6pt color=red>5.222884</font>"
      ],
      "text/plain": [
       "<IPython.core.display.HTML object>"
      ]
     },
     "metadata": {},
     "output_type": "display_data"
    },
    {
     "name": "stdout",
     "output_type": "stream",
     "text": [
      "start query q18, application id app-20250408232504-0000\n",
      "Start time : 3157741.868164683\n"
     ]
    },
    {
     "name": "stderr",
     "output_type": "stream",
     "text": [
      "[Stage 315:================================================>      (15 + 2) / 17]\r"
     ]
    }
   ],
   "source": [
    "bm.test_tpc.power_run(explain=False, print_result=False, load_table=True, action=lambda df: df.collect())"
   ]
  },
  {
   "cell_type": "code",
   "execution_count": 9,
   "metadata": {
    "scrolled": true
   },
   "outputs": [
    {
     "name": "stdout",
     "output_type": "stream",
     "text": [
      "{'q1': {'query_name': 'q1', 'application_id': 'app-20250408232504-0000', 'application_time_taken': 9.57947343075648, 'query_status': 'pass', 'start_time': 1744154749.8456852}, 'q2': {'query_name': 'q2', 'application_id': 'app-20250408232504-0000', 'application_time_taken': 7.913997981697321, 'query_status': 'pass', 'start_time': 1744154759.7395751}, 'q3': {'query_name': 'q3', 'application_id': 'app-20250408232504-0000', 'application_time_taken': 4.457312548067421, 'query_status': 'pass', 'start_time': 1744154767.7121496}, 'q4': {'query_name': 'q4', 'application_id': 'app-20250408232504-0000', 'application_time_taken': 4.47059272415936, 'query_status': 'pass', 'start_time': 1744154772.237155}, 'q5': {'query_name': 'q5', 'application_id': 'app-20250408232504-0000', 'application_time_taken': 9.149302499834448, 'query_status': 'pass', 'start_time': 1744154776.7635832}, 'q6': {'query_name': 'q6', 'application_id': 'app-20250408232504-0000', 'application_time_taken': 1.2650287300348282, 'query_status': 'pass', 'start_time': 1744154785.9695542}, 'q7': {'query_name': 'q7', 'application_id': 'app-20250408232504-0000', 'application_time_taken': 9.394019932951778, 'query_status': 'pass', 'start_time': 1744154787.3465457}, 'q8': {'query_name': 'q8', 'application_id': 'app-20250408232504-0000', 'application_time_taken': 8.162286336999387, 'query_status': 'pass', 'start_time': 1744154796.8357975}, 'q9': {'query_name': 'q9', 'application_id': 'app-20250408232504-0000', 'application_time_taken': 9.59539092797786, 'query_status': 'pass', 'start_time': 1744154805.0657227}, 'q10': {'query_name': 'q10', 'application_id': 'app-20250408232504-0000', 'application_time_taken': 5.198449841700494, 'query_status': 'pass', 'start_time': 1744154814.715165}, 'q11': {'query_name': 'q11', 'application_id': 'app-20250408232504-0000', 'application_time_taken': 3.6574662388302386, 'query_status': 'pass', 'start_time': 1744154819.9803855}, 'q12': {'query_name': 'q12', 'application_id': 'app-20250408232504-0000', 'application_time_taken': 3.73516157688573, 'query_status': 'pass', 'start_time': 1744154823.687678}, 'q13': {'query_name': 'q13', 'application_id': 'app-20250408232504-0000', 'application_time_taken': 4.654565816745162, 'query_status': 'pass', 'start_time': 1744154827.4539232}, 'q14': {'query_name': 'q14', 'application_id': 'app-20250408232504-0000', 'application_time_taken': 2.111985260155052, 'query_status': 'pass', 'start_time': 1744154832.1419559}, 'q15': {'query_name': 'q15', 'application_id': 'app-20250408232504-0000', 'application_time_taken': 4.430543067399412, 'query_status': 'pass', 'start_time': 1744154834.3533583}, 'q16': {'query_name': 'q16', 'application_id': 'app-20250408232504-0000', 'application_time_taken': 4.590604810975492, 'query_status': 'pass', 'start_time': 1744154838.8282313}, 'q17': {'query_name': 'q17', 'application_id': 'app-20250408232504-0000', 'application_time_taken': 5.222883793991059, 'query_status': 'pass', 'start_time': 1744154843.4531567}, 'q18': {'query_name': 'q18', 'application_id': 'app-20250408232504-0000', 'application_time_taken': 9.954709086567163, 'query_status': 'pass', 'start_time': 1744154848.7204783}, 'q19': {'query_name': 'q19', 'application_id': 'app-20250408232504-0000', 'application_time_taken': 2.002273631747812, 'query_status': 'pass', 'start_time': 1744154858.728881}, 'q20': {'query_name': 'q20', 'application_id': 'app-20250408232504-0000', 'application_time_taken': 4.438570815138519, 'query_status': 'pass', 'start_time': 1744154860.7893472}, 'q21': {'query_name': 'q21', 'application_id': 'app-20250408232504-0000', 'application_time_taken': 13.543386179953814, 'query_status': 'pass', 'start_time': 1744154865.2816913}, 'q22': {'query_name': 'q22', 'application_id': 'app-20250408232504-0000', 'application_time_taken': 3.444723299238831, 'query_status': 'pass', 'start_time': 1744154878.8803132}}\n",
      "\n",
      "total duration:\n",
      "130.97272853180766\n",
      "\n",
      "app-20250408232504-0000\n",
      "9.57947343075648\n",
      "7.913997981697321\n",
      "4.457312548067421\n",
      "4.47059272415936\n",
      "9.149302499834448\n",
      "1.2650287300348282\n",
      "9.394019932951778\n",
      "8.162286336999387\n",
      "9.59539092797786\n",
      "5.198449841700494\n",
      "3.6574662388302386\n",
      "3.73516157688573\n",
      "4.654565816745162\n",
      "2.111985260155052\n",
      "4.430543067399412\n",
      "4.590604810975492\n",
      "5.222883793991059\n",
      "9.954709086567163\n",
      "2.002273631747812\n",
      "4.438570815138519\n",
      "13.543386179953814\n",
      "3.444723299238831\n"
     ]
    }
   ],
   "source": [
    "bm.test_tpc.print_result()"
   ]
  },
  {
   "cell_type": "code",
   "execution_count": 10,
   "metadata": {},
   "outputs": [
    {
     "name": "stdout",
     "output_type": "stream",
     "text": [
      "mkdir: cannot create directory ‘/opt/spark/work-dir/profile/app-20250408232504-0000/worker1’: File exists\n",
      "appid is  app-20250408232504-0000\n",
      "saved to /opt/spark/work-dir/profile/\n"
     ]
    }
   ],
   "source": [
    "bm.collect_profile()"
   ]
  },
  {
   "cell_type": "code",
   "execution_count": 12,
   "metadata": {},
   "outputs": [],
   "source": [
    "import gzip\n",
    "with open('/opt/spark/work-dir/profile/app-20250408232504-0000/app-20250408232504-0000', 'rb') as f_in, \\\n",
    "    gzip.open('/opt/spark/work-dir/profile/app-20250408232504-0000/app-20250408232504-0000.gz', 'wb') as f_out:\n",
    "    f_out.writelines(f_in)"
   ]
  },
  {
   "cell_type": "code",
   "execution_count": null,
   "metadata": {},
   "outputs": [],
   "source": []
  },
  {
   "cell_type": "code",
   "execution_count": null,
   "metadata": {},
   "outputs": [],
   "source": []
  }
 ],
 "metadata": {
  "celltoolbar": "Tags",
  "hide_input": false,
  "kernelspec": {
   "display_name": "Python 3 (ipykernel)",
   "language": "python",
   "name": "python3"
  },
  "language_info": {
   "codemirror_mode": {
    "name": "ipython",
    "version": 3
   },
   "file_extension": ".py",
   "mimetype": "text/x-python",
   "name": "python",
   "nbconvert_exporter": "python",
   "pygments_lexer": "ipython3",
   "version": "3.9.21"
  },
  "nbTranslate": {
   "displayLangs": [
    "*"
   ],
   "hotkey": "alt-t",
   "langInMainMenu": true,
   "sourceLang": "en",
   "targetLang": "fr",
   "useGoogleTranslate": true
  },
  "toc": {
   "base_numbering": 1,
   "nav_menu": {},
   "number_sections": true,
   "sideBar": false,
   "skip_h1_title": false,
   "title_cell": "Table of Contents",
   "title_sidebar": "Contents",
   "toc_cell": false,
   "toc_position": {
    "height": "428.672px",
    "left": "1641.91px",
    "top": "111.125px",
    "width": "456.969px"
   },
   "toc_section_display": false,
   "toc_window_display": true
  },
  "varInspector": {
   "cols": {
    "lenName": 16,
    "lenType": 16,
    "lenVar": 40
   },
   "kernels_config": {
    "python": {
     "delete_cmd_postfix": "",
     "delete_cmd_prefix": "del ",
     "library": "var_list.py",
     "varRefreshCmd": "print(var_dic_list())"
    },
    "r": {
     "delete_cmd_postfix": ") ",
     "delete_cmd_prefix": "rm(",
     "library": "var_list.r",
     "varRefreshCmd": "cat(var_dic_list()) "
    }
   },
   "types_to_exclude": [
    "module",
    "function",
    "builtin_function_or_method",
    "instance",
    "_Feature"
   ],
   "window_display": false
  }
 },
 "nbformat": 4,
 "nbformat_minor": 4
}
