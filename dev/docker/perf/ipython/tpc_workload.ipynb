{
 "cells": [
  {
   "cell_type": "markdown",
   "metadata": {},
   "source": [
    "# initialization"
   ]
  },
  {
   "cell_type": "code",
   "execution_count": 1,
   "metadata": {},
   "outputs": [],
   "source": [
    "import os"
   ]
  },
  {
   "cell_type": "code",
   "execution_count": 2,
   "metadata": {
    "scrolled": true
   },
   "outputs": [
    {
     "name": "stdout",
     "output_type": "stream",
     "text": [
      "env: PYSPARK_SUBMIT_ARGS=--driver-java-options -Dio.netty.tryReflectionSetAccessible=true --conf spark.executor.extraJavaOptions=-Dio.netty.tryReflectionSetAccessible=true pyspark-shell\n"
     ]
    }
   ],
   "source": [
    "%env PYSPARK_SUBMIT_ARGS=--driver-java-options -Dio.netty.tryReflectionSetAccessible=true --conf spark.executor.extraJavaOptions=-Dio.netty.tryReflectionSetAccessible=true pyspark-shell"
   ]
  },
  {
   "cell_type": "code",
   "execution_count": 3,
   "metadata": {},
   "outputs": [
    {
     "data": {
      "text/plain": [
       "'/opt/gluten/jars/gluten-velox-bundle.jar'"
      ]
     },
     "execution_count": 3,
     "metadata": {},
     "output_type": "execute_result"
    }
   ],
   "source": [
    "\",\".join([\"/opt/gluten/jars/\"+l for l in os.listdir(\"/opt/gluten/jars/\")])"
   ]
  },
  {
   "cell_type": "code",
   "execution_count": 4,
   "metadata": {
    "tags": [
     "parameters"
    ]
   },
   "outputs": [],
   "source": [
    "# Local path to gluten jar.\n",
    "gluten_target_jar=\",\".join([\"/opt/gluten/jars/\"+l for l in os.listdir(\"/opt/gluten/jars/\")])\n",
    "\n",
    "# Select workload. Can be either 'tpch' or 'tpcds'.\n",
    "workload='tpch'\n",
    "\n",
    "# Run with gluten. If False, run Spark.\n",
    "run_gluten=True\n",
    "\n",
    "# TPC tables\n",
    "#tpch_tabledir='/opt/spark/database/tpch_sf10_parquet_zstd'\n",
    "#tpcds_tabledir='/opt/spark/database/tpch_sf10_parquet_zstd'\n",
    "\n",
    "tabledir = 's3a://presto-workload/tpch_sf100_parquet_zstd/'\n",
    "\n",
    "# TPC queries\n",
    "#tpch_query_path='/opt/spark/tpch-queries'\n",
    "#tpcds_query_path='/opt/spark/tpcds-queries'\n",
    "\n",
    "tpc_query_path = '/opt/spark/tpch-queries/'\n",
    "\n",
    "# Parallelism\n",
    "executors_per_node=1\n",
    "\n",
    "#gluten_tpch_task_per_core=2\n",
    "#gluten_tpcds_task_per_core=4\n",
    "#spark_tpch_task_per_core=8\n",
    "#spark_tpcds_task_per_core=8\n",
    "\n",
    "task_per_core=2\n",
    "\n",
    "# Offheap ratio. 0 to disable offheap for Spark.\n",
    "# onheap:offheap = 1:2\n",
    "#spark_offheap_ratio=2.0\n",
    "# onheap:offheap = 1:7\n",
    "#gluten_offheap_ratio=7.0\n",
    "\n",
    "offheap_ratio = 7.0\n",
    "\n",
    "# spark.io.compression.codec\n",
    "spark_codec='lz4'\n",
    "# spark.gluten.sql.columnar.shuffle.codec\n",
    "gluten_codec='lz4'"
   ]
  },
  {
   "cell_type": "code",
   "execution_count": 5,
   "metadata": {
    "scrolled": true
   },
   "outputs": [
    {
     "name": "stdout",
     "output_type": "stream",
     "text": [
      "home: /home/spark\n",
      "cwd: /opt/spark/work-dir/ipython\n"
     ]
    },
    {
     "data": {
      "text/html": [
       "<div>\n",
       "<style scoped>\n",
       "    .dataframe tbody tr th:only-of-type {\n",
       "        vertical-align: middle;\n",
       "    }\n",
       "\n",
       "    .dataframe tbody tr th {\n",
       "        vertical-align: top;\n",
       "    }\n",
       "\n",
       "    .dataframe thead th {\n",
       "        text-align: right;\n",
       "    }\n",
       "</style>\n",
       "<table border=\"1\" class=\"dataframe\">\n",
       "  <thead>\n",
       "    <tr style=\"text-align: right;\">\n",
       "      <th></th>\n",
       "      <th>Environment Variable</th>\n",
       "      <th>Value</th>\n",
       "    </tr>\n",
       "  </thead>\n",
       "  <tbody>\n",
       "    <tr>\n",
       "      <th>0</th>\n",
       "      <td>HOSTNAME</td>\n",
       "      <td>ip-10-167-102-54.ec2.internal</td>\n",
       "    </tr>\n",
       "    <tr>\n",
       "      <th>1</th>\n",
       "      <td>SHARED_LIBS</td>\n",
       "      <td>/shared-libs</td>\n",
       "    </tr>\n",
       "    <tr>\n",
       "      <th>2</th>\n",
       "      <td>JAVA_HOME</td>\n",
       "      <td>/usr/lib/jvm/java-17-openjdk</td>\n",
       "    </tr>\n",
       "    <tr>\n",
       "      <th>3</th>\n",
       "      <td>VCPKG_BINARY_SOURCES</td>\n",
       "      <td>clear;files,/var/cache/vcpkg,readwrite</td>\n",
       "    </tr>\n",
       "    <tr>\n",
       "      <th>4</th>\n",
       "      <td>PWD</td>\n",
       "      <td>/opt/spark/work-dir</td>\n",
       "    </tr>\n",
       "    <tr>\n",
       "      <th>5</th>\n",
       "      <td>HOME</td>\n",
       "      <td>/home/spark</td>\n",
       "    </tr>\n",
       "    <tr>\n",
       "      <th>6</th>\n",
       "      <td>CCACHE_DIR</td>\n",
       "      <td>/root/.cache/ccache</td>\n",
       "    </tr>\n",
       "    <tr>\n",
       "      <th>7</th>\n",
       "      <td>GCC_TOOL</td>\n",
       "      <td>/opt/rh/gcc-toolset-11</td>\n",
       "    </tr>\n",
       "    <tr>\n",
       "      <th>8</th>\n",
       "      <td>SPARK_HOME</td>\n",
       "      <td>/opt/spark</td>\n",
       "    </tr>\n",
       "    <tr>\n",
       "      <th>9</th>\n",
       "      <td>TERM</td>\n",
       "      <td>xterm-color</td>\n",
       "    </tr>\n",
       "    <tr>\n",
       "      <th>10</th>\n",
       "      <td>SPARK_NO_DAEMONIZE</td>\n",
       "      <td>true</td>\n",
       "    </tr>\n",
       "    <tr>\n",
       "      <th>11</th>\n",
       "      <td>SHLVL</td>\n",
       "      <td>1</td>\n",
       "    </tr>\n",
       "    <tr>\n",
       "      <th>12</th>\n",
       "      <td>PATH</td>\n",
       "      <td>/usr/local/bin:/opt/spark/bin:/bin:/usr/lib/jvm/java-1.8.0-openjdk/bin:/usr/local/sbin:/usr/local/bin:/usr/sbin:/usr/bin:/sbin:/bin:/usr/lib/maven/bin</td>\n",
       "    </tr>\n",
       "    <tr>\n",
       "      <th>13</th>\n",
       "      <td>_</td>\n",
       "      <td>/usr/local/bin/jupyter</td>\n",
       "    </tr>\n",
       "    <tr>\n",
       "      <th>14</th>\n",
       "      <td>LC_CTYPE</td>\n",
       "      <td>C.UTF-8</td>\n",
       "    </tr>\n",
       "    <tr>\n",
       "      <th>15</th>\n",
       "      <td>JPY_PARENT_PID</td>\n",
       "      <td>12</td>\n",
       "    </tr>\n",
       "    <tr>\n",
       "      <th>16</th>\n",
       "      <td>PYDEVD_USE_FRAME_EVAL</td>\n",
       "      <td>NO</td>\n",
       "    </tr>\n",
       "    <tr>\n",
       "      <th>17</th>\n",
       "      <td>CLICOLOR</td>\n",
       "      <td>1</td>\n",
       "    </tr>\n",
       "    <tr>\n",
       "      <th>18</th>\n",
       "      <td>FORCE_COLOR</td>\n",
       "      <td>1</td>\n",
       "    </tr>\n",
       "    <tr>\n",
       "      <th>19</th>\n",
       "      <td>CLICOLOR_FORCE</td>\n",
       "      <td>1</td>\n",
       "    </tr>\n",
       "    <tr>\n",
       "      <th>20</th>\n",
       "      <td>PAGER</td>\n",
       "      <td>cat</td>\n",
       "    </tr>\n",
       "    <tr>\n",
       "      <th>21</th>\n",
       "      <td>GIT_PAGER</td>\n",
       "      <td>cat</td>\n",
       "    </tr>\n",
       "    <tr>\n",
       "      <th>22</th>\n",
       "      <td>MPLBACKEND</td>\n",
       "      <td>module://matplotlib_inline.backend_inline</td>\n",
       "    </tr>\n",
       "    <tr>\n",
       "      <th>23</th>\n",
       "      <td>PYSPARK_SUBMIT_ARGS</td>\n",
       "      <td>--driver-java-options -Dio.netty.tryReflectionSetAccessible=true --conf spark.executor.extraJavaOptions=-Dio.netty.tryReflectionSetAccessible=true pyspark-shell</td>\n",
       "    </tr>\n",
       "  </tbody>\n",
       "</table>\n",
       "</div>"
      ],
      "text/plain": [
       "     Environment Variable  \\\n",
       "0                HOSTNAME   \n",
       "1             SHARED_LIBS   \n",
       "2               JAVA_HOME   \n",
       "3    VCPKG_BINARY_SOURCES   \n",
       "4                     PWD   \n",
       "5                    HOME   \n",
       "6              CCACHE_DIR   \n",
       "7                GCC_TOOL   \n",
       "8              SPARK_HOME   \n",
       "9                    TERM   \n",
       "10     SPARK_NO_DAEMONIZE   \n",
       "11                  SHLVL   \n",
       "12                   PATH   \n",
       "13                      _   \n",
       "14               LC_CTYPE   \n",
       "15         JPY_PARENT_PID   \n",
       "16  PYDEVD_USE_FRAME_EVAL   \n",
       "17               CLICOLOR   \n",
       "18            FORCE_COLOR   \n",
       "19         CLICOLOR_FORCE   \n",
       "20                  PAGER   \n",
       "21              GIT_PAGER   \n",
       "22             MPLBACKEND   \n",
       "23    PYSPARK_SUBMIT_ARGS   \n",
       "\n",
       "                                                                                                                                                               Value  \n",
       "0                                                                                                                                      ip-10-167-102-54.ec2.internal  \n",
       "1                                                                                                                                                       /shared-libs  \n",
       "2                                                                                                                                       /usr/lib/jvm/java-17-openjdk  \n",
       "3                                                                                                                             clear;files,/var/cache/vcpkg,readwrite  \n",
       "4                                                                                                                                                /opt/spark/work-dir  \n",
       "5                                                                                                                                                        /home/spark  \n",
       "6                                                                                                                                                /root/.cache/ccache  \n",
       "7                                                                                                                                             /opt/rh/gcc-toolset-11  \n",
       "8                                                                                                                                                         /opt/spark  \n",
       "9                                                                                                                                                        xterm-color  \n",
       "10                                                                                                                                                              true  \n",
       "11                                                                                                                                                                 1  \n",
       "12            /usr/local/bin:/opt/spark/bin:/bin:/usr/lib/jvm/java-1.8.0-openjdk/bin:/usr/local/sbin:/usr/local/bin:/usr/sbin:/usr/bin:/sbin:/bin:/usr/lib/maven/bin  \n",
       "13                                                                                                                                            /usr/local/bin/jupyter  \n",
       "14                                                                                                                                                           C.UTF-8  \n",
       "15                                                                                                                                                                12  \n",
       "16                                                                                                                                                                NO  \n",
       "17                                                                                                                                                                 1  \n",
       "18                                                                                                                                                                 1  \n",
       "19                                                                                                                                                                 1  \n",
       "20                                                                                                                                                               cat  \n",
       "21                                                                                                                                                               cat  \n",
       "22                                                                                                                         module://matplotlib_inline.backend_inline  \n",
       "23  --driver-java-options -Dio.netty.tryReflectionSetAccessible=true --conf spark.executor.extraJavaOptions=-Dio.netty.tryReflectionSetAccessible=true pyspark-shell  "
      ]
     },
     "metadata": {},
     "output_type": "display_data"
    },
    {
     "name": "stdout",
     "output_type": "stream",
     "text": [
      "localhost: ip-10-167-102-54.ec2.internal\n",
      "ip: 10.167.102.54\n",
      "Spark version from SPARK_HOME: 3.5.2\n"
     ]
    }
   ],
   "source": [
    "%run ./native_sql_initialize.ipynb"
   ]
  },
  {
   "cell_type": "markdown",
   "metadata": {},
   "source": [
    "# Application Level Configuration"
   ]
  },
  {
   "cell_type": "code",
   "execution_count": 6,
   "metadata": {},
   "outputs": [
    {
     "data": {
      "text/plain": [
       "<pyspark.conf.SparkConf at 0x7f27d792ea00>"
      ]
     },
     "execution_count": 6,
     "metadata": {},
     "output_type": "execute_result"
    }
   ],
   "source": [
    "if run_gluten:\n",
    "    sct=GlutenSparkContext(executors_per_node, task_per_core, gluten_target_jar, offheap_ratio)\n",
    "    sct.conf.set('spark.gluten.sql.columnar.shuffle.codec', gluten_codec)\n",
    "else:\n",
    "    sct=VanillaSparkContext(executors_per_node, task_per_core, gluten_target_jar, offheap_ratio)\n",
    "    sct.conf.set('spark.io.compression.codec', spark_codec)\n",
    "\n",
    "#for s3 access\n",
    "sct.conf.set('spark.hadoop.fs.s3a.aws.credentials.provider', 'org.apache.hadoop.fs.s3a.SimpleAWSCredentialsProvider')\n",
    "sct.conf.set('spark.hadoop.fs.s3a.access.key', '')\n",
    "sct.conf.set('spark.hadoop.fs.s3a.secret.key', '')\n",
    "sct.conf.set('spark.hadoop.fs.s3a.endpoint', '')\n",
    "\n"
   ]
  },
  {
   "cell_type": "code",
   "execution_count": 7,
   "metadata": {
    "scrolled": true
   },
   "outputs": [
    {
     "name": "stdout",
     "output_type": "stream",
     "text": [
      "\n",
      "            executors per node: 1\n",
      "            parallelism: 16\n",
      "            executor memory: 1704m\n",
      "            offheap memory: 11932m\n",
      "        \n",
      "spark.serializer:  org.apache.spark.serializer.KryoSerializer\n",
      "master:  spark://ip-10-167-102-54.ec2.internal:7077\n"
     ]
    },
    {
     "name": "stderr",
     "output_type": "stream",
     "text": [
      "Setting default log level to \"WARN\".\n",
      "To adjust logging level use sc.setLogLevel(newLevel). For SparkR, use setLogLevel(newLevel).\n",
      "25/05/17 05:32:40 WARN NativeCodeLoader: Unable to load native-hadoop library for your platform... using builtin-java classes where applicable\n",
      "25/05/17 05:32:41 WARN VeloxListenerApi: Memory overhead is set to 2048MiB which is smaller than the recommended size 3579MiB. This may cause OOM.\n",
      "W20250517 05:32:42.509517  1575 MemoryArbitrator.cpp:84] Query memory capacity[1.50GB] is set for NOOP arbitrator which has no capacity enforcement\n",
      "/opt/spark/python/pyspark/sql/context.py:113: FutureWarning: Deprecated in 3.0.0. Use SparkSession.builder.getOrCreate() instead.\n",
      "  warnings.warn(\n"
     ]
    },
    {
     "name": "stdout",
     "output_type": "stream",
     "text": [
      "appid:  app-20250517053242-0003\n",
      "SparkConf:\n"
     ]
    },
    {
     "data": {
      "text/html": [
       "<div>\n",
       "<style scoped>\n",
       "    .dataframe tbody tr th:only-of-type {\n",
       "        vertical-align: middle;\n",
       "    }\n",
       "\n",
       "    .dataframe tbody tr th {\n",
       "        vertical-align: top;\n",
       "    }\n",
       "\n",
       "    .dataframe thead th {\n",
       "        text-align: right;\n",
       "    }\n",
       "</style>\n",
       "<table border=\"1\" class=\"dataframe\">\n",
       "  <thead>\n",
       "    <tr style=\"text-align: right;\">\n",
       "      <th></th>\n",
       "      <th>key</th>\n",
       "      <th>value</th>\n",
       "    </tr>\n",
       "  </thead>\n",
       "  <tbody>\n",
       "    <tr>\n",
       "      <th>0</th>\n",
       "      <td>spark.eventLog.enabled</td>\n",
       "      <td>true</td>\n",
       "    </tr>\n",
       "    <tr>\n",
       "      <th>1</th>\n",
       "      <td>spark.executor.memoryOverhead</td>\n",
       "      <td>2048m</td>\n",
       "    </tr>\n",
       "    <tr>\n",
       "      <th>2</th>\n",
       "      <td>spark.master</td>\n",
       "      <td>spark://ip-10-167-102-54.ec2.internal:7077</td>\n",
       "    </tr>\n",
       "    <tr>\n",
       "      <th>3</th>\n",
       "      <td>spark.sql.catalog.iceberg.uri</td>\n",
       "      <td>thrift://a74b6e20f132e4eac840a591d5caf0ba-c3bc190f0aee9cb5.elb.us-east-1.amazonaws.com:9083</td>\n",
       "    </tr>\n",
       "    <tr>\n",
       "      <th>4</th>\n",
       "      <td>spark.hadoop.fs.s3a.aws.credentials.provider</td>\n",
       "      <td>org.apache.hadoop.fs.s3a.SimpleAWSCredentialsProvider</td>\n",
       "    </tr>\n",
       "    <tr>\n",
       "      <th>5</th>\n",
       "      <td>spark.executor.extraClassPath</td>\n",
       "      <td>/opt/gluten/jars/gluten-velox-bundle.jar</td>\n",
       "    </tr>\n",
       "    <tr>\n",
       "      <th>6</th>\n",
       "      <td>spark.sql.catalog.spark_catalog</td>\n",
       "      <td>org.apache.iceberg.spark.SparkSessionCatalog</td>\n",
       "    </tr>\n",
       "    <tr>\n",
       "      <th>7</th>\n",
       "      <td>spark.driver.extraClassPath</td>\n",
       "      <td>/opt/gluten/jars/gluten-velox-bundle.jar</td>\n",
       "    </tr>\n",
       "    <tr>\n",
       "      <th>8</th>\n",
       "      <td>spark.hadoop.fs.s3a.endpoint</td>\n",
       "      <td>https://s3.us-east-1.amazonaws.com</td>\n",
       "    </tr>\n",
       "    <tr>\n",
       "      <th>9</th>\n",
       "      <td>spark.gluten.sql.columnar.shuffle.codec</td>\n",
       "      <td>lz4</td>\n",
       "    </tr>\n",
       "    <tr>\n",
       "      <th>10</th>\n",
       "      <td>spark.sql.hive.metastore.jars</td>\n",
       "      <td>maven</td>\n",
       "    </tr>\n",
       "    <tr>\n",
       "      <th>11</th>\n",
       "      <td>spark.sql.shuffle.partitions</td>\n",
       "      <td>16</td>\n",
       "    </tr>\n",
       "    <tr>\n",
       "      <th>12</th>\n",
       "      <td>spark.executor.extraJavaOptions</td>\n",
       "      <td>-Djava.net.preferIPv6Addresses=false -XX:+IgnoreUnrecognizedVMOptions --add-opens=java.base/java.lang=ALL-UNNAMED --add-opens=java.base/java.lang.invoke=ALL-UNNAMED --add-opens=java.base/java.lang.reflect=ALL-UNNAMED --add-opens=java.base/java.io=ALL-UNNAMED --add-opens=java.base/java.net=ALL-UNNAMED --add-opens=java.base/java.nio=ALL-UNNAMED --add-opens=java.base/java.util=ALL-UNNAMED --add-opens=java.base/java.util.concurrent=ALL-UNNAMED --add-opens=java.base/java.util.concurrent.atomic=ALL-UNNAMED --add-opens=java.base/jdk.internal.ref=ALL-UNNAMED --add-opens=java.base/sun.nio.ch=ALL-UNNAMED --add-opens=java.base/sun.nio.cs=ALL-UNNAMED --add-opens=java.base/sun.security.action=ALL-UNNAMED --add-opens=java.base/sun.util.calendar=ALL-UNNAMED --add-opens=java.security.jgss/sun.security.krb5=ALL-UNNAMED -Djdk.reflect.useDirectMethodHandle=false -Dio.netty.tryReflectionSetAccessible=true</td>\n",
       "    </tr>\n",
       "    <tr>\n",
       "      <th>13</th>\n",
       "      <td>spark.cleaner.periodicGC.interval</td>\n",
       "      <td>10s</td>\n",
       "    </tr>\n",
       "    <tr>\n",
       "      <th>14</th>\n",
       "      <td>spark.serializer</td>\n",
       "      <td>org.apache.spark.serializer.KryoSerializer</td>\n",
       "    </tr>\n",
       "    <tr>\n",
       "      <th>15</th>\n",
       "      <td>spark.gluten.memory.conservative.task.offHeap.size.in.bytes</td>\n",
       "      <td>781975552</td>\n",
       "    </tr>\n",
       "    <tr>\n",
       "      <th>16</th>\n",
       "      <td>spark.default.parallelism</td>\n",
       "      <td>56</td>\n",
       "    </tr>\n",
       "    <tr>\n",
       "      <th>17</th>\n",
       "      <td>spark.eventLog.dir</td>\n",
       "      <td>/opt/spark/events</td>\n",
       "    </tr>\n",
       "    <tr>\n",
       "      <th>18</th>\n",
       "      <td>spark.gluten.sql.columnar.backend.velox.IOThreads</td>\n",
       "      <td>21</td>\n",
       "    </tr>\n",
       "    <tr>\n",
       "      <th>19</th>\n",
       "      <td>spark.executorEnv.PYTHONPATH</td>\n",
       "      <td>/opt/sparkpython:/opt/spark/python/lib/py4j-0.10.9.7-src.zip</td>\n",
       "    </tr>\n",
       "    <tr>\n",
       "      <th>20</th>\n",
       "      <td>spark.ui.reverseProxy</td>\n",
       "      <td>true</td>\n",
       "    </tr>\n",
       "    <tr>\n",
       "      <th>21</th>\n",
       "      <td>spark.app.submitTime</td>\n",
       "      <td>1747459960328</td>\n",
       "    </tr>\n",
       "    <tr>\n",
       "      <th>22</th>\n",
       "      <td>spark.executor.id</td>\n",
       "      <td>driver</td>\n",
       "    </tr>\n",
       "    <tr>\n",
       "      <th>23</th>\n",
       "      <td>spark.hadoop.hive.metastore.uris</td>\n",
       "      <td>thrift://a74b6e20f132e4eac840a591d5caf0ba-c3bc190f0aee9cb5.elb.us-east-1.amazonaws.com:9083</td>\n",
       "    </tr>\n",
       "    <tr>\n",
       "      <th>24</th>\n",
       "      <td>spark.metrics.appStatusSource.enabled</td>\n",
       "      <td>true</td>\n",
       "    </tr>\n",
       "    <tr>\n",
       "      <th>25</th>\n",
       "      <td>spark.gluten.numTaskSlotsPerExecutor</td>\n",
       "      <td>8</td>\n",
       "    </tr>\n",
       "    <tr>\n",
       "      <th>26</th>\n",
       "      <td>spark.sql.catalog.iceberg</td>\n",
       "      <td>org.apache.iceberg.spark.SparkCatalog</td>\n",
       "    </tr>\n",
       "    <tr>\n",
       "      <th>27</th>\n",
       "      <td>spark.sql.catalogImplementation</td>\n",
       "      <td>hive</td>\n",
       "    </tr>\n",
       "    <tr>\n",
       "      <th>28</th>\n",
       "      <td>spark.gluten.sql.columnar.coalesce.batches</td>\n",
       "      <td>true</td>\n",
       "    </tr>\n",
       "    <tr>\n",
       "      <th>29</th>\n",
       "      <td>spark.executor.instances</td>\n",
       "      <td>1</td>\n",
       "    </tr>\n",
       "    <tr>\n",
       "      <th>30</th>\n",
       "      <td>spark.gluten.memory.overAcquiredMemoryRatio</td>\n",
       "      <td>0</td>\n",
       "    </tr>\n",
       "    <tr>\n",
       "      <th>31</th>\n",
       "      <td>spark.driver.maxResultSize</td>\n",
       "      <td>4g</td>\n",
       "    </tr>\n",
       "    <tr>\n",
       "      <th>32</th>\n",
       "      <td>spark.gluten.sql.columnar.backend.velox.maxCoalescedDistanceBytes</td>\n",
       "      <td>1048576</td>\n",
       "    </tr>\n",
       "    <tr>\n",
       "      <th>33</th>\n",
       "      <td>spark.gluten.sql.columnar.joinOptimizationLevel</td>\n",
       "      <td>18</td>\n",
       "    </tr>\n",
       "    <tr>\n",
       "      <th>34</th>\n",
       "      <td>spark.gluten.sql.columnar.backend.velox.loadQuantum</td>\n",
       "      <td>268435456</td>\n",
       "    </tr>\n",
       "    <tr>\n",
       "      <th>35</th>\n",
       "      <td>spark.gluten.sql.columnar.backend.velox.prefetchRowGroups</td>\n",
       "      <td>1</td>\n",
       "    </tr>\n",
       "    <tr>\n",
       "      <th>36</th>\n",
       "      <td>spark.driver.port</td>\n",
       "      <td>39309</td>\n",
       "    </tr>\n",
       "    <tr>\n",
       "      <th>37</th>\n",
       "      <td>spark.sql.optimizer.runtime.bloomFilter.applicationSideScanSizeThreshold</td>\n",
       "      <td>0</td>\n",
       "    </tr>\n",
       "    <tr>\n",
       "      <th>38</th>\n",
       "      <td>spark.plugins</td>\n",
       "      <td>org.apache.gluten.GlutenPlugin</td>\n",
       "    </tr>\n",
       "    <tr>\n",
       "      <th>39</th>\n",
       "      <td>spark.gluten.sql.debug</td>\n",
       "      <td>false</td>\n",
       "    </tr>\n",
       "    <tr>\n",
       "      <th>40</th>\n",
       "      <td>spark.gluten.memoryOverhead.size.in.bytes</td>\n",
       "      <td>2147483648</td>\n",
       "    </tr>\n",
       "    <tr>\n",
       "      <th>41</th>\n",
       "      <td>spark.driver.memoryOverhead</td>\n",
       "      <td>5g</td>\n",
       "    </tr>\n",
       "    <tr>\n",
       "      <th>42</th>\n",
       "      <td>spark.kryoserializer.buffer.max</td>\n",
       "      <td>512m</td>\n",
       "    </tr>\n",
       "    <tr>\n",
       "      <th>43</th>\n",
       "      <td>spark.sql.files.maxPartitionBytes</td>\n",
       "      <td>4g</td>\n",
       "    </tr>\n",
       "    <tr>\n",
       "      <th>44</th>\n",
       "      <td>spark.sql.adaptive.enabled</td>\n",
       "      <td>True</td>\n",
       "    </tr>\n",
       "    <tr>\n",
       "      <th>45</th>\n",
       "      <td>spark.gluten.sql.columnar.backend.velox.cacheEnabled</td>\n",
       "      <td>false</td>\n",
       "    </tr>\n",
       "    <tr>\n",
       "      <th>46</th>\n",
       "      <td>spark.app.id</td>\n",
       "      <td>app-20250517053242-0003</td>\n",
       "    </tr>\n",
       "    <tr>\n",
       "      <th>47</th>\n",
       "      <td>spark.hadoop.fs.s3a.connection.ssl.enabled</td>\n",
       "      <td>true</td>\n",
       "    </tr>\n",
       "    <tr>\n",
       "      <th>48</th>\n",
       "      <td>spark.executorEnv.LD_PRELOAD</td>\n",
       "      <td>will</td>\n",
       "    </tr>\n",
       "    <tr>\n",
       "      <th>49</th>\n",
       "      <td>spark.gluten.sql.columnar.physicalJoinOptimizeEnable</td>\n",
       "      <td>true</td>\n",
       "    </tr>\n",
       "    <tr>\n",
       "      <th>50</th>\n",
       "      <td>spark.gluten.sql.columnar.physicalJoinOptimizationLevel</td>\n",
       "      <td>18</td>\n",
       "    </tr>\n",
       "    <tr>\n",
       "      <th>51</th>\n",
       "      <td>spark.app.startTime</td>\n",
       "      <td>1747459960467</td>\n",
       "    </tr>\n",
       "    <tr>\n",
       "      <th>52</th>\n",
       "      <td>spark.io.compression.codec</td>\n",
       "      <td>lz4</td>\n",
       "    </tr>\n",
       "    <tr>\n",
       "      <th>53</th>\n",
       "      <td>spark.gluten.sql.columnar.forceShuffledHashJoin</td>\n",
       "      <td>True</td>\n",
       "    </tr>\n",
       "    <tr>\n",
       "      <th>54</th>\n",
       "      <td>spark.hadoop.fs.s3a.access.key</td>\n",
       "      <td></td>\n",
       "    </tr>\n",
       "    <tr>\n",
       "      <th>55</th>\n",
       "      <td>spark.sql.autoBroadcastJoinThreshold</td>\n",
       "      <td>10m</td>\n",
       "    </tr>\n",
       "    <tr>\n",
       "      <th>56</th>\n",
       "      <td>spark.serializer.objectStreamReset</td>\n",
       "      <td>100</td>\n",
       "    </tr>\n",
       "    <tr>\n",
       "      <th>57</th>\n",
       "      <td>spark.submit.deployMode</td>\n",
       "      <td>client</td>\n",
       "    </tr>\n",
       "    <tr>\n",
       "      <th>58</th>\n",
       "      <td>spark.gluten.sql.columnar.backend.velox.memCacheSize</td>\n",
       "      <td>134217728</td>\n",
       "    </tr>\n",
       "    <tr>\n",
       "      <th>59</th>\n",
       "      <td>spark.memory.offHeap.enabled</td>\n",
       "      <td>True</td>\n",
       "    </tr>\n",
       "    <tr>\n",
       "      <th>60</th>\n",
       "      <td>spark.memory.offHeap.size</td>\n",
       "      <td>11932m</td>\n",
       "    </tr>\n",
       "    <tr>\n",
       "      <th>61</th>\n",
       "      <td>spark.executor.cores</td>\n",
       "      <td>8</td>\n",
       "    </tr>\n",
       "    <tr>\n",
       "      <th>62</th>\n",
       "      <td>spark.gluten.sql.columnar.logicalJoinOptimizeEnable</td>\n",
       "      <td>true</td>\n",
       "    </tr>\n",
       "    <tr>\n",
       "      <th>63</th>\n",
       "      <td>spark.hadoop.fs.s3a.secret.key</td>\n",
       "      <td></td>\n",
       "    </tr>\n",
       "    <tr>\n",
       "      <th>64</th>\n",
       "      <td>spark.gluten.sql.columnar.backend.velox.maxCoalescedBytes</td>\n",
       "      <td>67108864</td>\n",
       "    </tr>\n",
       "    <tr>\n",
       "      <th>65</th>\n",
       "      <td>spark.executor.memory</td>\n",
       "      <td>1704m</td>\n",
       "    </tr>\n",
       "    <tr>\n",
       "      <th>66</th>\n",
       "      <td>spark.hadoop.fs.s3a.use.instance.credentials</td>\n",
       "      <td>true</td>\n",
       "    </tr>\n",
       "    <tr>\n",
       "      <th>67</th>\n",
       "      <td>spark.sql.hive.metastore.version</td>\n",
       "      <td>3.1.3</td>\n",
       "    </tr>\n",
       "    <tr>\n",
       "      <th>68</th>\n",
       "      <td>spark.sql.optimizer.dynamicPartitionPruning.enabled</td>\n",
       "      <td>True</td>\n",
       "    </tr>\n",
       "    <tr>\n",
       "      <th>69</th>\n",
       "      <td>spark.shuffle.manager</td>\n",
       "      <td>org.apache.spark.shuffle.sort.ColumnarShuffleManager</td>\n",
       "    </tr>\n",
       "    <tr>\n",
       "      <th>70</th>\n",
       "      <td>spark.gluten.sql.columnar.backend.lib</td>\n",
       "      <td>velox</td>\n",
       "    </tr>\n",
       "    <tr>\n",
       "      <th>71</th>\n",
       "      <td>spark.driver.extraJavaOptions</td>\n",
       "      <td>-Djava.net.preferIPv6Addresses=false -XX:+IgnoreUnrecognizedVMOptions --add-opens=java.base/java.lang=ALL-UNNAMED --add-opens=java.base/java.lang.invoke=ALL-UNNAMED --add-opens=java.base/java.lang.reflect=ALL-UNNAMED --add-opens=java.base/java.io=ALL-UNNAMED --add-opens=java.base/java.net=ALL-UNNAMED --add-opens=java.base/java.nio=ALL-UNNAMED --add-opens=java.base/java.util=ALL-UNNAMED --add-opens=java.base/java.util.concurrent=ALL-UNNAMED --add-opens=java.base/java.util.concurrent.atomic=ALL-UNNAMED --add-opens=java.base/jdk.internal.ref=ALL-UNNAMED --add-opens=java.base/sun.nio.ch=ALL-UNNAMED --add-opens=java.base/sun.nio.cs=ALL-UNNAMED --add-opens=java.base/sun.security.action=ALL-UNNAMED --add-opens=java.base/sun.util.calendar=ALL-UNNAMED --add-opens=java.security.jgss/sun.security.krb5=ALL-UNNAMED -Djdk.reflect.useDirectMethodHandle=false -Dio.netty.tryReflectionSetAccessible=true</td>\n",
       "    </tr>\n",
       "    <tr>\n",
       "      <th>72</th>\n",
       "      <td>spark.driver.memory</td>\n",
       "      <td>1024m</td>\n",
       "    </tr>\n",
       "    <tr>\n",
       "      <th>73</th>\n",
       "      <td>spark.gluten.memory.offHeap.size.in.bytes</td>\n",
       "      <td>12511608832</td>\n",
       "    </tr>\n",
       "    <tr>\n",
       "      <th>74</th>\n",
       "      <td>spark.gluten.sql.columnar.maxBatchSize</td>\n",
       "      <td>4096</td>\n",
       "    </tr>\n",
       "    <tr>\n",
       "      <th>75</th>\n",
       "      <td>spark.app.name</td>\n",
       "      <td>gluten_tpch_spark352</td>\n",
       "    </tr>\n",
       "    <tr>\n",
       "      <th>76</th>\n",
       "      <td>spark.gluten.memory.task.offHeap.size.in.bytes</td>\n",
       "      <td>1563951104</td>\n",
       "    </tr>\n",
       "    <tr>\n",
       "      <th>77</th>\n",
       "      <td>spark.gluten.sql.columnar.backend.velox.ssdCacheSize</td>\n",
       "      <td>0</td>\n",
       "    </tr>\n",
       "    <tr>\n",
       "      <th>78</th>\n",
       "      <td>spark.rdd.compress</td>\n",
       "      <td>True</td>\n",
       "    </tr>\n",
       "    <tr>\n",
       "      <th>79</th>\n",
       "      <td>spark.sql.broadcastTimeout</td>\n",
       "      <td>4800</td>\n",
       "    </tr>\n",
       "    <tr>\n",
       "      <th>80</th>\n",
       "      <td>spark.task.cpus</td>\n",
       "      <td>1</td>\n",
       "    </tr>\n",
       "    <tr>\n",
       "      <th>81</th>\n",
       "      <td>spark.driver.host</td>\n",
       "      <td>ip-10-167-102-54.ec2.internal</td>\n",
       "    </tr>\n",
       "    <tr>\n",
       "      <th>82</th>\n",
       "      <td>spark.gluten.sql.columnar.backend.velox.SplitPreloadPerDriver</td>\n",
       "      <td>0</td>\n",
       "    </tr>\n",
       "    <tr>\n",
       "      <th>83</th>\n",
       "      <td>spark.sql.extensions</td>\n",
       "      <td>org.apache.iceberg.spark.extensions.IcebergSparkSessionExtensions,org.apache.gluten.extension.GlutenSessionExtensions</td>\n",
       "    </tr>\n",
       "    <tr>\n",
       "      <th>84</th>\n",
       "      <td>spark.submit.pyFiles</td>\n",
       "      <td></td>\n",
       "    </tr>\n",
       "    <tr>\n",
       "      <th>85</th>\n",
       "      <td>spark.kryo.unsafe</td>\n",
       "      <td>False</td>\n",
       "    </tr>\n",
       "    <tr>\n",
       "      <th>86</th>\n",
       "      <td>spark.sql.adaptive.customCostEvaluatorClass</td>\n",
       "      <td>org.apache.spark.sql.execution.adaptive.GlutenCostEvaluator</td>\n",
       "    </tr>\n",
       "    <tr>\n",
       "      <th>87</th>\n",
       "      <td>spark.sql.catalog.iceberg.type</td>\n",
       "      <td>hive</td>\n",
       "    </tr>\n",
       "    <tr>\n",
       "      <th>88</th>\n",
       "      <td>spark.ui.showConsoleProgress</td>\n",
       "      <td>true</td>\n",
       "    </tr>\n",
       "    <tr>\n",
       "      <th>89</th>\n",
       "      <td>spark.sql.catalog.spark_catalog.type</td>\n",
       "      <td>hive</td>\n",
       "    </tr>\n",
       "    <tr>\n",
       "      <th>90</th>\n",
       "      <td>spark.sql.optimizer.runtime.bloomFilter.enabled</td>\n",
       "      <td>true</td>\n",
       "    </tr>\n",
       "    <tr>\n",
       "      <th>91</th>\n",
       "      <td>spark.ui.proxyBase</td>\n",
       "      <td>/proxy/app-20250517053242-0003</td>\n",
       "    </tr>\n",
       "  </tbody>\n",
       "</table>\n",
       "</div>"
      ],
      "text/plain": [
       "                                                                         key  \\\n",
       "0                                                     spark.eventLog.enabled   \n",
       "1                                              spark.executor.memoryOverhead   \n",
       "2                                                               spark.master   \n",
       "3                                              spark.sql.catalog.iceberg.uri   \n",
       "4                               spark.hadoop.fs.s3a.aws.credentials.provider   \n",
       "5                                              spark.executor.extraClassPath   \n",
       "6                                            spark.sql.catalog.spark_catalog   \n",
       "7                                                spark.driver.extraClassPath   \n",
       "8                                               spark.hadoop.fs.s3a.endpoint   \n",
       "9                                    spark.gluten.sql.columnar.shuffle.codec   \n",
       "10                                             spark.sql.hive.metastore.jars   \n",
       "11                                              spark.sql.shuffle.partitions   \n",
       "12                                           spark.executor.extraJavaOptions   \n",
       "13                                         spark.cleaner.periodicGC.interval   \n",
       "14                                                          spark.serializer   \n",
       "15               spark.gluten.memory.conservative.task.offHeap.size.in.bytes   \n",
       "16                                                 spark.default.parallelism   \n",
       "17                                                        spark.eventLog.dir   \n",
       "18                         spark.gluten.sql.columnar.backend.velox.IOThreads   \n",
       "19                                              spark.executorEnv.PYTHONPATH   \n",
       "20                                                     spark.ui.reverseProxy   \n",
       "21                                                      spark.app.submitTime   \n",
       "22                                                         spark.executor.id   \n",
       "23                                          spark.hadoop.hive.metastore.uris   \n",
       "24                                     spark.metrics.appStatusSource.enabled   \n",
       "25                                      spark.gluten.numTaskSlotsPerExecutor   \n",
       "26                                                 spark.sql.catalog.iceberg   \n",
       "27                                           spark.sql.catalogImplementation   \n",
       "28                                spark.gluten.sql.columnar.coalesce.batches   \n",
       "29                                                  spark.executor.instances   \n",
       "30                               spark.gluten.memory.overAcquiredMemoryRatio   \n",
       "31                                                spark.driver.maxResultSize   \n",
       "32         spark.gluten.sql.columnar.backend.velox.maxCoalescedDistanceBytes   \n",
       "33                           spark.gluten.sql.columnar.joinOptimizationLevel   \n",
       "34                       spark.gluten.sql.columnar.backend.velox.loadQuantum   \n",
       "35                 spark.gluten.sql.columnar.backend.velox.prefetchRowGroups   \n",
       "36                                                         spark.driver.port   \n",
       "37  spark.sql.optimizer.runtime.bloomFilter.applicationSideScanSizeThreshold   \n",
       "38                                                             spark.plugins   \n",
       "39                                                    spark.gluten.sql.debug   \n",
       "40                                 spark.gluten.memoryOverhead.size.in.bytes   \n",
       "41                                               spark.driver.memoryOverhead   \n",
       "42                                           spark.kryoserializer.buffer.max   \n",
       "43                                         spark.sql.files.maxPartitionBytes   \n",
       "44                                                spark.sql.adaptive.enabled   \n",
       "45                      spark.gluten.sql.columnar.backend.velox.cacheEnabled   \n",
       "46                                                              spark.app.id   \n",
       "47                                spark.hadoop.fs.s3a.connection.ssl.enabled   \n",
       "48                                              spark.executorEnv.LD_PRELOAD   \n",
       "49                      spark.gluten.sql.columnar.physicalJoinOptimizeEnable   \n",
       "50                   spark.gluten.sql.columnar.physicalJoinOptimizationLevel   \n",
       "51                                                       spark.app.startTime   \n",
       "52                                                spark.io.compression.codec   \n",
       "53                           spark.gluten.sql.columnar.forceShuffledHashJoin   \n",
       "54                                            spark.hadoop.fs.s3a.access.key   \n",
       "55                                      spark.sql.autoBroadcastJoinThreshold   \n",
       "56                                        spark.serializer.objectStreamReset   \n",
       "57                                                   spark.submit.deployMode   \n",
       "58                      spark.gluten.sql.columnar.backend.velox.memCacheSize   \n",
       "59                                              spark.memory.offHeap.enabled   \n",
       "60                                                 spark.memory.offHeap.size   \n",
       "61                                                      spark.executor.cores   \n",
       "62                       spark.gluten.sql.columnar.logicalJoinOptimizeEnable   \n",
       "63                                            spark.hadoop.fs.s3a.secret.key   \n",
       "64                 spark.gluten.sql.columnar.backend.velox.maxCoalescedBytes   \n",
       "65                                                     spark.executor.memory   \n",
       "66                              spark.hadoop.fs.s3a.use.instance.credentials   \n",
       "67                                          spark.sql.hive.metastore.version   \n",
       "68                       spark.sql.optimizer.dynamicPartitionPruning.enabled   \n",
       "69                                                     spark.shuffle.manager   \n",
       "70                                     spark.gluten.sql.columnar.backend.lib   \n",
       "71                                             spark.driver.extraJavaOptions   \n",
       "72                                                       spark.driver.memory   \n",
       "73                                 spark.gluten.memory.offHeap.size.in.bytes   \n",
       "74                                    spark.gluten.sql.columnar.maxBatchSize   \n",
       "75                                                            spark.app.name   \n",
       "76                            spark.gluten.memory.task.offHeap.size.in.bytes   \n",
       "77                      spark.gluten.sql.columnar.backend.velox.ssdCacheSize   \n",
       "78                                                        spark.rdd.compress   \n",
       "79                                                spark.sql.broadcastTimeout   \n",
       "80                                                           spark.task.cpus   \n",
       "81                                                         spark.driver.host   \n",
       "82             spark.gluten.sql.columnar.backend.velox.SplitPreloadPerDriver   \n",
       "83                                                      spark.sql.extensions   \n",
       "84                                                      spark.submit.pyFiles   \n",
       "85                                                         spark.kryo.unsafe   \n",
       "86                               spark.sql.adaptive.customCostEvaluatorClass   \n",
       "87                                            spark.sql.catalog.iceberg.type   \n",
       "88                                              spark.ui.showConsoleProgress   \n",
       "89                                      spark.sql.catalog.spark_catalog.type   \n",
       "90                           spark.sql.optimizer.runtime.bloomFilter.enabled   \n",
       "91                                                        spark.ui.proxyBase   \n",
       "\n",
       "                                                                                                                                                                                                                                                                                                                                                                                                                                                                                                                                                                                                                                                                                                                                                                                                                                                                                                                                 value  \n",
       "0                                                                                                                                                                                                                                                                                                                                                                                                                                                                                                                                                                                                                                                                                                                                                                                                                                                                                                                                 true  \n",
       "1                                                                                                                                                                                                                                                                                                                                                                                                                                                                                                                                                                                                                                                                                                                                                                                                                                                                                                                                2048m  \n",
       "2                                                                                                                                                                                                                                                                                                                                                                                                                                                                                                                                                                                                                                                                                                                                                                                                                                                                                           spark://ip-10-167-102-54.ec2.internal:7077  \n",
       "3                                                                                                                                                                                                                                                                                                                                                                                                                                                                                                                                                                                                                                                                                                                                                                                                                                          thrift://a74b6e20f132e4eac840a591d5caf0ba-c3bc190f0aee9cb5.elb.us-east-1.amazonaws.com:9083  \n",
       "4                                                                                                                                                                                                                                                                                                                                                                                                                                                                                                                                                                                                                                                                                                                                                                                                                                                                                org.apache.hadoop.fs.s3a.SimpleAWSCredentialsProvider  \n",
       "5                                                                                                                                                                                                                                                                                                                                                                                                                                                                                                                                                                                                                                                                                                                                                                                                                                                                                             /opt/gluten/jars/gluten-velox-bundle.jar  \n",
       "6                                                                                                                                                                                                                                                                                                                                                                                                                                                                                                                                                                                                                                                                                                                                                                                                                                                                                         org.apache.iceberg.spark.SparkSessionCatalog  \n",
       "7                                                                                                                                                                                                                                                                                                                                                                                                                                                                                                                                                                                                                                                                                                                                                                                                                                                                                             /opt/gluten/jars/gluten-velox-bundle.jar  \n",
       "8                                                                                                                                                                                                                                                                                                                                                                                                                                                                                                                                                                                                                                                                                                                                                                                                                                                                                                   https://s3.us-east-1.amazonaws.com  \n",
       "9                                                                                                                                                                                                                                                                                                                                                                                                                                                                                                                                                                                                                                                                                                                                                                                                                                                                                                                                  lz4  \n",
       "10                                                                                                                                                                                                                                                                                                                                                                                                                                                                                                                                                                                                                                                                                                                                                                                                                                                                                                                               maven  \n",
       "11                                                                                                                                                                                                                                                                                                                                                                                                                                                                                                                                                                                                                                                                                                                                                                                                                                                                                                                                  16  \n",
       "12  -Djava.net.preferIPv6Addresses=false -XX:+IgnoreUnrecognizedVMOptions --add-opens=java.base/java.lang=ALL-UNNAMED --add-opens=java.base/java.lang.invoke=ALL-UNNAMED --add-opens=java.base/java.lang.reflect=ALL-UNNAMED --add-opens=java.base/java.io=ALL-UNNAMED --add-opens=java.base/java.net=ALL-UNNAMED --add-opens=java.base/java.nio=ALL-UNNAMED --add-opens=java.base/java.util=ALL-UNNAMED --add-opens=java.base/java.util.concurrent=ALL-UNNAMED --add-opens=java.base/java.util.concurrent.atomic=ALL-UNNAMED --add-opens=java.base/jdk.internal.ref=ALL-UNNAMED --add-opens=java.base/sun.nio.ch=ALL-UNNAMED --add-opens=java.base/sun.nio.cs=ALL-UNNAMED --add-opens=java.base/sun.security.action=ALL-UNNAMED --add-opens=java.base/sun.util.calendar=ALL-UNNAMED --add-opens=java.security.jgss/sun.security.krb5=ALL-UNNAMED -Djdk.reflect.useDirectMethodHandle=false -Dio.netty.tryReflectionSetAccessible=true  \n",
       "13                                                                                                                                                                                                                                                                                                                                                                                                                                                                                                                                                                                                                                                                                                                                                                                                                                                                                                                                 10s  \n",
       "14                                                                                                                                                                                                                                                                                                                                                                                                                                                                                                                                                                                                                                                                                                                                                                                                                                                                                          org.apache.spark.serializer.KryoSerializer  \n",
       "15                                                                                                                                                                                                                                                                                                                                                                                                                                                                                                                                                                                                                                                                                                                                                                                                                                                                                                                           781975552  \n",
       "16                                                                                                                                                                                                                                                                                                                                                                                                                                                                                                                                                                                                                                                                                                                                                                                                                                                                                                                                  56  \n",
       "17                                                                                                                                                                                                                                                                                                                                                                                                                                                                                                                                                                                                                                                                                                                                                                                                                                                                                                                   /opt/spark/events  \n",
       "18                                                                                                                                                                                                                                                                                                                                                                                                                                                                                                                                                                                                                                                                                                                                                                                                                                                                                                                                  21  \n",
       "19                                                                                                                                                                                                                                                                                                                                                                                                                                                                                                                                                                                                                                                                                                                                                                                                                                                                        /opt/sparkpython:/opt/spark/python/lib/py4j-0.10.9.7-src.zip  \n",
       "20                                                                                                                                                                                                                                                                                                                                                                                                                                                                                                                                                                                                                                                                                                                                                                                                                                                                                                                                true  \n",
       "21                                                                                                                                                                                                                                                                                                                                                                                                                                                                                                                                                                                                                                                                                                                                                                                                                                                                                                                       1747459960328  \n",
       "22                                                                                                                                                                                                                                                                                                                                                                                                                                                                                                                                                                                                                                                                                                                                                                                                                                                                                                                              driver  \n",
       "23                                                                                                                                                                                                                                                                                                                                                                                                                                                                                                                                                                                                                                                                                                                                                                                                                                         thrift://a74b6e20f132e4eac840a591d5caf0ba-c3bc190f0aee9cb5.elb.us-east-1.amazonaws.com:9083  \n",
       "24                                                                                                                                                                                                                                                                                                                                                                                                                                                                                                                                                                                                                                                                                                                                                                                                                                                                                                                                true  \n",
       "25                                                                                                                                                                                                                                                                                                                                                                                                                                                                                                                                                                                                                                                                                                                                                                                                                                                                                                                                   8  \n",
       "26                                                                                                                                                                                                                                                                                                                                                                                                                                                                                                                                                                                                                                                                                                                                                                                                                                                                                               org.apache.iceberg.spark.SparkCatalog  \n",
       "27                                                                                                                                                                                                                                                                                                                                                                                                                                                                                                                                                                                                                                                                                                                                                                                                                                                                                                                                hive  \n",
       "28                                                                                                                                                                                                                                                                                                                                                                                                                                                                                                                                                                                                                                                                                                                                                                                                                                                                                                                                true  \n",
       "29                                                                                                                                                                                                                                                                                                                                                                                                                                                                                                                                                                                                                                                                                                                                                                                                                                                                                                                                   1  \n",
       "30                                                                                                                                                                                                                                                                                                                                                                                                                                                                                                                                                                                                                                                                                                                                                                                                                                                                                                                                   0  \n",
       "31                                                                                                                                                                                                                                                                                                                                                                                                                                                                                                                                                                                                                                                                                                                                                                                                                                                                                                                                  4g  \n",
       "32                                                                                                                                                                                                                                                                                                                                                                                                                                                                                                                                                                                                                                                                                                                                                                                                                                                                                                                             1048576  \n",
       "33                                                                                                                                                                                                                                                                                                                                                                                                                                                                                                                                                                                                                                                                                                                                                                                                                                                                                                                                  18  \n",
       "34                                                                                                                                                                                                                                                                                                                                                                                                                                                                                                                                                                                                                                                                                                                                                                                                                                                                                                                           268435456  \n",
       "35                                                                                                                                                                                                                                                                                                                                                                                                                                                                                                                                                                                                                                                                                                                                                                                                                                                                                                                                   1  \n",
       "36                                                                                                                                                                                                                                                                                                                                                                                                                                                                                                                                                                                                                                                                                                                                                                                                                                                                                                                               39309  \n",
       "37                                                                                                                                                                                                                                                                                                                                                                                                                                                                                                                                                                                                                                                                                                                                                                                                                                                                                                                                   0  \n",
       "38                                                                                                                                                                                                                                                                                                                                                                                                                                                                                                                                                                                                                                                                                                                                                                                                                                                                                                      org.apache.gluten.GlutenPlugin  \n",
       "39                                                                                                                                                                                                                                                                                                                                                                                                                                                                                                                                                                                                                                                                                                                                                                                                                                                                                                                               false  \n",
       "40                                                                                                                                                                                                                                                                                                                                                                                                                                                                                                                                                                                                                                                                                                                                                                                                                                                                                                                          2147483648  \n",
       "41                                                                                                                                                                                                                                                                                                                                                                                                                                                                                                                                                                                                                                                                                                                                                                                                                                                                                                                                  5g  \n",
       "42                                                                                                                                                                                                                                                                                                                                                                                                                                                                                                                                                                                                                                                                                                                                                                                                                                                                                                                                512m  \n",
       "43                                                                                                                                                                                                                                                                                                                                                                                                                                                                                                                                                                                                                                                                                                                                                                                                                                                                                                                                  4g  \n",
       "44                                                                                                                                                                                                                                                                                                                                                                                                                                                                                                                                                                                                                                                                                                                                                                                                                                                                                                                                True  \n",
       "45                                                                                                                                                                                                                                                                                                                                                                                                                                                                                                                                                                                                                                                                                                                                                                                                                                                                                                                               false  \n",
       "46                                                                                                                                                                                                                                                                                                                                                                                                                                                                                                                                                                                                                                                                                                                                                                                                                                                                                                             app-20250517053242-0003  \n",
       "47                                                                                                                                                                                                                                                                                                                                                                                                                                                                                                                                                                                                                                                                                                                                                                                                                                                                                                                                true  \n",
       "48                                                                                                                                                                                                                                                                                                                                                                                                                                                                                                                                                                                                                                                                                                                                                                                                                                                                                                                                will  \n",
       "49                                                                                                                                                                                                                                                                                                                                                                                                                                                                                                                                                                                                                                                                                                                                                                                                                                                                                                                                true  \n",
       "50                                                                                                                                                                                                                                                                                                                                                                                                                                                                                                                                                                                                                                                                                                                                                                                                                                                                                                                                  18  \n",
       "51                                                                                                                                                                                                                                                                                                                                                                                                                                                                                                                                                                                                                                                                                                                                                                                                                                                                                                                       1747459960467  \n",
       "52                                                                                                                                                                                                                                                                                                                                                                                                                                                                                                                                                                                                                                                                                                                                                                                                                                                                                                                                 lz4  \n",
       "53                                                                                                                                                                                                                                                                                                                                                                                                                                                                                                                                                                                                                                                                                                                                                                                                                                                                                                                                True  \n",
       "54                                                                                                                                                                                                                                                                                                                                                                                                                                                                                                                                                                                                                                                                                                                                                                                                                                                                                                                  \n",
       "55                                                                                                                                                                                                                                                                                                                                                                                                                                                                                                                                                                                                                                                                                                                                                                                                                                                                                                                                 10m  \n",
       "56                                                                                                                                                                                                                                                                                                                                                                                                                                                                                                                                                                                                                                                                                                                                                                                                                                                                                                                                 100  \n",
       "57                                                                                                                                                                                                                                                                                                                                                                                                                                                                                                                                                                                                                                                                                                                                                                                                                                                                                                                              client  \n",
       "58                                                                                                                                                                                                                                                                                                                                                                                                                                                                                                                                                                                                                                                                                                                                                                                                                                                                                                                           134217728  \n",
       "59                                                                                                                                                                                                                                                                                                                                                                                                                                                                                                                                                                                                                                                                                                                                                                                                                                                                                                                                True  \n",
       "60                                                                                                                                                                                                                                                                                                                                                                                                                                                                                                                                                                                                                                                                                                                                                                                                                                                                                                                              11932m  \n",
       "61                                                                                                                                                                                                                                                                                                                                                                                                                                                                                                                                                                                                                                                                                                                                                                                                                                                                                                                                   8  \n",
       "62                                                                                                                                                                                                                                                                                                                                                                                                                                                                                                                                                                                                                                                                                                                                                                                                                                                                                                                                true  \n",
       "63                                                                                                                                                                                                                                                                                                                                                                                                                                                                                                                                                                                                                                                                                                                                                                                                                                                                                             \n",
       "64                                                                                                                                                                                                                                                                                                                                                                                                                                                                                                                                                                                                                                                                                                                                                                                                                                                                                                                            67108864  \n",
       "65                                                                                                                                                                                                                                                                                                                                                                                                                                                                                                                                                                                                                                                                                                                                                                                                                                                                                                                               1704m  \n",
       "66                                                                                                                                                                                                                                                                                                                                                                                                                                                                                                                                                                                                                                                                                                                                                                                                                                                                                                                                true  \n",
       "67                                                                                                                                                                                                                                                                                                                                                                                                                                                                                                                                                                                                                                                                                                                                                                                                                                                                                                                               3.1.3  \n",
       "68                                                                                                                                                                                                                                                                                                                                                                                                                                                                                                                                                                                                                                                                                                                                                                                                                                                                                                                                True  \n",
       "69                                                                                                                                                                                                                                                                                                                                                                                                                                                                                                                                                                                                                                                                                                                                                                                                                                                                                org.apache.spark.shuffle.sort.ColumnarShuffleManager  \n",
       "70                                                                                                                                                                                                                                                                                                                                                                                                                                                                                                                                                                                                                                                                                                                                                                                                                                                                                                                               velox  \n",
       "71  -Djava.net.preferIPv6Addresses=false -XX:+IgnoreUnrecognizedVMOptions --add-opens=java.base/java.lang=ALL-UNNAMED --add-opens=java.base/java.lang.invoke=ALL-UNNAMED --add-opens=java.base/java.lang.reflect=ALL-UNNAMED --add-opens=java.base/java.io=ALL-UNNAMED --add-opens=java.base/java.net=ALL-UNNAMED --add-opens=java.base/java.nio=ALL-UNNAMED --add-opens=java.base/java.util=ALL-UNNAMED --add-opens=java.base/java.util.concurrent=ALL-UNNAMED --add-opens=java.base/java.util.concurrent.atomic=ALL-UNNAMED --add-opens=java.base/jdk.internal.ref=ALL-UNNAMED --add-opens=java.base/sun.nio.ch=ALL-UNNAMED --add-opens=java.base/sun.nio.cs=ALL-UNNAMED --add-opens=java.base/sun.security.action=ALL-UNNAMED --add-opens=java.base/sun.util.calendar=ALL-UNNAMED --add-opens=java.security.jgss/sun.security.krb5=ALL-UNNAMED -Djdk.reflect.useDirectMethodHandle=false -Dio.netty.tryReflectionSetAccessible=true  \n",
       "72                                                                                                                                                                                                                                                                                                                                                                                                                                                                                                                                                                                                                                                                                                                                                                                                                                                                                                                               1024m  \n",
       "73                                                                                                                                                                                                                                                                                                                                                                                                                                                                                                                                                                                                                                                                                                                                                                                                                                                                                                                         12511608832  \n",
       "74                                                                                                                                                                                                                                                                                                                                                                                                                                                                                                                                                                                                                                                                                                                                                                                                                                                                                                                                4096  \n",
       "75                                                                                                                                                                                                                                                                                                                                                                                                                                                                                                                                                                                                                                                                                                                                                                                                                                                                                                                gluten_tpch_spark352  \n",
       "76                                                                                                                                                                                                                                                                                                                                                                                                                                                                                                                                                                                                                                                                                                                                                                                                                                                                                                                          1563951104  \n",
       "77                                                                                                                                                                                                                                                                                                                                                                                                                                                                                                                                                                                                                                                                                                                                                                                                                                                                                                                                   0  \n",
       "78                                                                                                                                                                                                                                                                                                                                                                                                                                                                                                                                                                                                                                                                                                                                                                                                                                                                                                                                True  \n",
       "79                                                                                                                                                                                                                                                                                                                                                                                                                                                                                                                                                                                                                                                                                                                                                                                                                                                                                                                                4800  \n",
       "80                                                                                                                                                                                                                                                                                                                                                                                                                                                                                                                                                                                                                                                                                                                                                                                                                                                                                                                                   1  \n",
       "81                                                                                                                                                                                                                                                                                                                                                                                                                                                                                                                                                                                                                                                                                                                                                                                                                                                                                                       ip-10-167-102-54.ec2.internal  \n",
       "82                                                                                                                                                                                                                                                                                                                                                                                                                                                                                                                                                                                                                                                                                                                                                                                                                                                                                                                                   0  \n",
       "83                                                                                                                                                                                                                                                                                                                                                                                                                                                                                                                                                                                                                                                                                                                                                                                                               org.apache.iceberg.spark.extensions.IcebergSparkSessionExtensions,org.apache.gluten.extension.GlutenSessionExtensions  \n",
       "84                                                                                                                                                                                                                                                                                                                                                                                                                                                                                                                                                                                                                                                                                                                                                                                                                                                                                                                                      \n",
       "85                                                                                                                                                                                                                                                                                                                                                                                                                                                                                                                                                                                                                                                                                                                                                                                                                                                                                                                               False  \n",
       "86                                                                                                                                                                                                                                                                                                                                                                                                                                                                                                                                                                                                                                                                                                                                                                                                                                                                         org.apache.spark.sql.execution.adaptive.GlutenCostEvaluator  \n",
       "87                                                                                                                                                                                                                                                                                                                                                                                                                                                                                                                                                                                                                                                                                                                                                                                                                                                                                                                                hive  \n",
       "88                                                                                                                                                                                                                                                                                                                                                                                                                                                                                                                                                                                                                                                                                                                                                                                                                                                                                                                                true  \n",
       "89                                                                                                                                                                                                                                                                                                                                                                                                                                                                                                                                                                                                                                                                                                                                                                                                                                                                                                                                hive  \n",
       "90                                                                                                                                                                                                                                                                                                                                                                                                                                                                                                                                                                                                                                                                                                                                                                                                                                                                                                                                true  \n",
       "91                                                                                                                                                                                                                                                                                                                                                                                                                                                                                                                                                                                                                                                                                                                                                                                                                                                                                                      /proxy/app-20250517053242-0003  "
      ]
     },
     "metadata": {},
     "output_type": "display_data"
    },
    {
     "name": "stdout",
     "output_type": "stream",
     "text": [
      "start run:  app-20250517053242-0003\n",
      "http://10.167.102.54:18080/history/app-20250517053242-0003/jobs/\n"
     ]
    }
   ],
   "source": [
    "if workload.lower()==\"tpch\":\n",
    "    bm=TPCHBenchmark(sct, tabledir, 'parquet', tpc_query_path)\n",
    "else:\n",
    "    bm=TPCDSBenchmark(sct, tabledir, 'parquet', tpc_query_path)\n",
    "bm.initialize()"
   ]
  },
  {
   "cell_type": "markdown",
   "metadata": {},
   "source": [
    "# Run Workload"
   ]
  },
  {
   "cell_type": "code",
   "execution_count": 9,
   "metadata": {
    "scrolled": true
   },
   "outputs": [
    {
     "name": "stdout",
     "output_type": "stream",
     "text": [
      "Loading all tables: ['customer', 'lineitem', 'nation', 'orders', 'part', 'partsupp', 'region', 'supplier']\n"
     ]
    },
    {
     "name": "stderr",
     "output_type": "stream",
     "text": [
      "                                                                                \r"
     ]
    },
    {
     "name": "stdout",
     "output_type": "stream",
     "text": [
      "start query q1, application id app-20250517053242-0003\n",
      "Start time : 16331.875452369\n"
     ]
    },
    {
     "name": "stderr",
     "output_type": "stream",
     "text": [
      "                                                                                \r"
     ]
    },
    {
     "data": {
      "text/html": [
       "Completed Query. Time(sec): <font size=6pt color=red>27.586772</font>"
      ],
      "text/plain": [
       "<IPython.core.display.HTML object>"
      ]
     },
     "metadata": {},
     "output_type": "display_data"
    },
    {
     "name": "stdout",
     "output_type": "stream",
     "text": [
      "start query q2, application id app-20250517053242-0003\n",
      "Start time : 16359.563025608\n"
     ]
    },
    {
     "name": "stderr",
     "output_type": "stream",
     "text": [
      "                                                                                \r"
     ]
    },
    {
     "data": {
      "text/html": [
       "Completed Query. Time(sec): <font size=6pt color=red>17.682915</font>"
      ],
      "text/plain": [
       "<IPython.core.display.HTML object>"
      ]
     },
     "metadata": {},
     "output_type": "display_data"
    },
    {
     "name": "stdout",
     "output_type": "stream",
     "text": [
      "start query q3, application id app-20250517053242-0003\n",
      "Start time : 16377.281476317\n"
     ]
    },
    {
     "name": "stderr",
     "output_type": "stream",
     "text": [
      "                                                                                \r"
     ]
    },
    {
     "data": {
      "text/html": [
       "Completed Query. Time(sec): <font size=6pt color=red>32.651490</font>"
      ],
      "text/plain": [
       "<IPython.core.display.HTML object>"
      ]
     },
     "metadata": {},
     "output_type": "display_data"
    },
    {
     "name": "stdout",
     "output_type": "stream",
     "text": [
      "start query q4, application id app-20250517053242-0003\n",
      "Start time : 16409.977656464\n"
     ]
    },
    {
     "name": "stderr",
     "output_type": "stream",
     "text": [
      "                                                                                \r"
     ]
    },
    {
     "data": {
      "text/html": [
       "Completed Query. Time(sec): <font size=6pt color=red>24.433712</font>"
      ],
      "text/plain": [
       "<IPython.core.display.HTML object>"
      ]
     },
     "metadata": {},
     "output_type": "display_data"
    },
    {
     "name": "stdout",
     "output_type": "stream",
     "text": [
      "start query q5, application id app-20250517053242-0003\n",
      "Start time : 16434.438175327\n"
     ]
    },
    {
     "name": "stderr",
     "output_type": "stream",
     "text": [
      "                                                                                \r"
     ]
    },
    {
     "data": {
      "text/html": [
       "Completed Query. Time(sec): <font size=6pt color=red>91.241689</font>"
      ],
      "text/plain": [
       "<IPython.core.display.HTML object>"
      ]
     },
     "metadata": {},
     "output_type": "display_data"
    },
    {
     "name": "stdout",
     "output_type": "stream",
     "text": [
      "start query q6, application id app-20250517053242-0003\n",
      "Start time : 16525.707325259\n"
     ]
    },
    {
     "name": "stderr",
     "output_type": "stream",
     "text": [
      "                                                                                \r"
     ]
    },
    {
     "data": {
      "text/html": [
       "Completed Query. Time(sec): <font size=6pt color=red>8.312620</font>"
      ],
      "text/plain": [
       "<IPython.core.display.HTML object>"
      ]
     },
     "metadata": {},
     "output_type": "display_data"
    },
    {
     "name": "stdout",
     "output_type": "stream",
     "text": [
      "start query q7, application id app-20250517053242-0003\n",
      "Start time : 16534.074603044\n"
     ]
    },
    {
     "name": "stderr",
     "output_type": "stream",
     "text": [
      "                                                                                \r"
     ]
    },
    {
     "data": {
      "text/html": [
       "Completed Query. Time(sec): <font size=6pt color=red>31.835601</font>"
      ],
      "text/plain": [
       "<IPython.core.display.HTML object>"
      ]
     },
     "metadata": {},
     "output_type": "display_data"
    },
    {
     "name": "stdout",
     "output_type": "stream",
     "text": [
      "start query q8, application id app-20250517053242-0003\n",
      "Start time : 16565.963947898\n"
     ]
    },
    {
     "name": "stderr",
     "output_type": "stream",
     "text": [
      "                                                                                \r"
     ]
    },
    {
     "data": {
      "text/html": [
       "Completed Query. Time(sec): <font size=6pt color=red>113.227921</font>"
      ],
      "text/plain": [
       "<IPython.core.display.HTML object>"
      ]
     },
     "metadata": {},
     "output_type": "display_data"
    },
    {
     "name": "stdout",
     "output_type": "stream",
     "text": [
      "start query q9, application id app-20250517053242-0003\n",
      "Start time : 16679.220376947\n"
     ]
    },
    {
     "name": "stderr",
     "output_type": "stream",
     "text": [
      "                                                                                \r"
     ]
    },
    {
     "data": {
      "text/html": [
       "Completed Query. Time(sec): <font size=6pt color=red>155.625348</font>"
      ],
      "text/plain": [
       "<IPython.core.display.HTML object>"
      ]
     },
     "metadata": {},
     "output_type": "display_data"
    },
    {
     "name": "stdout",
     "output_type": "stream",
     "text": [
      "start query q10, application id app-20250517053242-0003\n",
      "Start time : 16834.873311573\n"
     ]
    },
    {
     "name": "stderr",
     "output_type": "stream",
     "text": [
      "                                                                                \r"
     ]
    },
    {
     "data": {
      "text/html": [
       "Completed Query. Time(sec): <font size=6pt color=red>29.146461</font>"
      ],
      "text/plain": [
       "<IPython.core.display.HTML object>"
      ]
     },
     "metadata": {},
     "output_type": "display_data"
    },
    {
     "name": "stdout",
     "output_type": "stream",
     "text": [
      "start query q11, application id app-20250517053242-0003\n",
      "Start time : 16864.064834181\n"
     ]
    },
    {
     "name": "stderr",
     "output_type": "stream",
     "text": [
      "                                                                                \r"
     ]
    },
    {
     "data": {
      "text/html": [
       "Completed Query. Time(sec): <font size=6pt color=red>13.373936</font>"
      ],
      "text/plain": [
       "<IPython.core.display.HTML object>"
      ]
     },
     "metadata": {},
     "output_type": "display_data"
    },
    {
     "name": "stdout",
     "output_type": "stream",
     "text": [
      "start query q12, application id app-20250517053242-0003\n",
      "Start time : 16877.4600629\n"
     ]
    },
    {
     "name": "stderr",
     "output_type": "stream",
     "text": [
      "                                                                                \r"
     ]
    },
    {
     "data": {
      "text/html": [
       "Completed Query. Time(sec): <font size=6pt color=red>17.947563</font>"
      ],
      "text/plain": [
       "<IPython.core.display.HTML object>"
      ]
     },
     "metadata": {},
     "output_type": "display_data"
    },
    {
     "name": "stdout",
     "output_type": "stream",
     "text": [
      "start query q13, application id app-20250517053242-0003\n",
      "Start time : 16895.426310715\n"
     ]
    },
    {
     "name": "stderr",
     "output_type": "stream",
     "text": [
      "                                                                                \r"
     ]
    },
    {
     "data": {
      "text/html": [
       "Completed Query. Time(sec): <font size=6pt color=red>25.382921</font>"
      ],
      "text/plain": [
       "<IPython.core.display.HTML object>"
      ]
     },
     "metadata": {},
     "output_type": "display_data"
    },
    {
     "name": "stdout",
     "output_type": "stream",
     "text": [
      "start query q14, application id app-20250517053242-0003\n",
      "Start time : 16920.826513756\n"
     ]
    },
    {
     "name": "stderr",
     "output_type": "stream",
     "text": [
      "                                                                                \r"
     ]
    },
    {
     "data": {
      "text/html": [
       "Completed Query. Time(sec): <font size=6pt color=red>12.453831</font>"
      ],
      "text/plain": [
       "<IPython.core.display.HTML object>"
      ]
     },
     "metadata": {},
     "output_type": "display_data"
    },
    {
     "name": "stdout",
     "output_type": "stream",
     "text": [
      "start query q15, application id app-20250517053242-0003\n",
      "Start time : 16933.346628294\n"
     ]
    },
    {
     "name": "stderr",
     "output_type": "stream",
     "text": [
      "                                                                                \r"
     ]
    },
    {
     "data": {
      "text/html": [
       "Completed Query. Time(sec): <font size=6pt color=red>26.739598</font>"
      ],
      "text/plain": [
       "<IPython.core.display.HTML object>"
      ]
     },
     "metadata": {},
     "output_type": "display_data"
    },
    {
     "name": "stdout",
     "output_type": "stream",
     "text": [
      "start query q16, application id app-20250517053242-0003\n",
      "Start time : 16960.113311134\n"
     ]
    },
    {
     "name": "stderr",
     "output_type": "stream",
     "text": [
      "                                                                                \r"
     ]
    },
    {
     "data": {
      "text/html": [
       "Completed Query. Time(sec): <font size=6pt color=red>9.166449</font>"
      ],
      "text/plain": [
       "<IPython.core.display.HTML object>"
      ]
     },
     "metadata": {},
     "output_type": "display_data"
    },
    {
     "name": "stdout",
     "output_type": "stream",
     "text": [
      "start query q17, application id app-20250517053242-0003\n",
      "Start time : 16969.301284052\n"
     ]
    },
    {
     "name": "stderr",
     "output_type": "stream",
     "text": [
      "                                                                                \r"
     ]
    },
    {
     "data": {
      "text/html": [
       "Completed Query. Time(sec): <font size=6pt color=red>108.200151</font>"
      ],
      "text/plain": [
       "<IPython.core.display.HTML object>"
      ]
     },
     "metadata": {},
     "output_type": "display_data"
    },
    {
     "name": "stdout",
     "output_type": "stream",
     "text": [
      "start query q18, application id app-20250517053242-0003\n",
      "Start time : 17077.526507092\n"
     ]
    },
    {
     "name": "stderr",
     "output_type": "stream",
     "text": [
      "                                                                                \r"
     ]
    },
    {
     "data": {
      "text/html": [
       "Completed Query. Time(sec): <font size=6pt color=red>120.099109</font>"
      ],
      "text/plain": [
       "<IPython.core.display.HTML object>"
      ]
     },
     "metadata": {},
     "output_type": "display_data"
    },
    {
     "name": "stdout",
     "output_type": "stream",
     "text": [
      "start query q19, application id app-20250517053242-0003\n",
      "Start time : 17197.64954849\n"
     ]
    },
    {
     "name": "stderr",
     "output_type": "stream",
     "text": [
      "                                                                                \r"
     ]
    },
    {
     "data": {
      "text/html": [
       "Completed Query. Time(sec): <font size=6pt color=red>12.695137</font>"
      ],
      "text/plain": [
       "<IPython.core.display.HTML object>"
      ]
     },
     "metadata": {},
     "output_type": "display_data"
    },
    {
     "name": "stdout",
     "output_type": "stream",
     "text": [
      "start query q20, application id app-20250517053242-0003\n",
      "Start time : 17210.376327304\n"
     ]
    },
    {
     "name": "stderr",
     "output_type": "stream",
     "text": [
      "                                                                                \r"
     ]
    },
    {
     "data": {
      "text/html": [
       "Completed Query. Time(sec): <font size=6pt color=red>20.732082</font>"
      ],
      "text/plain": [
       "<IPython.core.display.HTML object>"
      ]
     },
     "metadata": {},
     "output_type": "display_data"
    },
    {
     "name": "stdout",
     "output_type": "stream",
     "text": [
      "start query q21, application id app-20250517053242-0003\n",
      "Start time : 17231.146678051\n"
     ]
    },
    {
     "name": "stderr",
     "output_type": "stream",
     "text": [
      "                                                                                \r"
     ]
    },
    {
     "data": {
      "text/html": [
       "Completed Query. Time(sec): <font size=6pt color=red>292.374650</font>"
      ],
      "text/plain": [
       "<IPython.core.display.HTML object>"
      ]
     },
     "metadata": {},
     "output_type": "display_data"
    },
    {
     "name": "stdout",
     "output_type": "stream",
     "text": [
      "start query q22, application id app-20250517053242-0003\n",
      "Start time : 17523.552843788\n"
     ]
    },
    {
     "name": "stderr",
     "output_type": "stream",
     "text": [
      "                                                                                \r"
     ]
    },
    {
     "data": {
      "text/html": [
       "Completed Query. Time(sec): <font size=6pt color=red>10.281172</font>"
      ],
      "text/plain": [
       "<IPython.core.display.HTML object>"
      ]
     },
     "metadata": {},
     "output_type": "display_data"
    }
   ],
   "source": [
    "bm.test_tpc.power_run(explain=False, print_result=False, load_table=True, action=lambda df: df.collect())"
   ]
  },
  {
   "cell_type": "code",
   "execution_count": null,
   "metadata": {},
   "outputs": [],
   "source": []
  },
  {
   "cell_type": "code",
   "execution_count": null,
   "metadata": {},
   "outputs": [],
   "source": []
  },
  {
   "cell_type": "code",
   "execution_count": 10,
   "metadata": {
    "scrolled": true
   },
   "outputs": [
    {
     "name": "stdout",
     "output_type": "stream",
     "text": [
      "{'q1': {'query_name': 'q1', 'application_id': 'app-20250517053242-0003', 'application_time_taken': 27.58677217100012, 'query_status': 'pass', 'start_time': 1747460114.2523649}, 'q2': {'query_name': 'q2', 'application_id': 'app-20250517053242-0003', 'application_time_taken': 17.682914708999306, 'query_status': 'pass', 'start_time': 1747460141.9399388}, 'q3': {'query_name': 'q3', 'application_id': 'app-20250517053242-0003', 'application_time_taken': 32.651489861998925, 'query_status': 'pass', 'start_time': 1747460159.6583893}, 'q4': {'query_name': 'q4', 'application_id': 'app-20250517053242-0003', 'application_time_taken': 24.433711993999168, 'query_status': 'pass', 'start_time': 1747460192.3545694}, 'q5': {'query_name': 'q5', 'application_id': 'app-20250517053242-0003', 'application_time_taken': 91.24168911599918, 'query_status': 'pass', 'start_time': 1747460216.8150887}, 'q6': {'query_name': 'q6', 'application_id': 'app-20250517053242-0003', 'application_time_taken': 8.312620381999295, 'query_status': 'pass', 'start_time': 1747460308.084238}, 'q7': {'query_name': 'q7', 'application_id': 'app-20250517053242-0003', 'application_time_taken': 31.835600902002625, 'query_status': 'pass', 'start_time': 1747460316.4515162}, 'q8': {'query_name': 'q8', 'application_id': 'app-20250517053242-0003', 'application_time_taken': 113.2279205900013, 'query_status': 'pass', 'start_time': 1747460348.3408608}, 'q9': {'query_name': 'q9', 'application_id': 'app-20250517053242-0003', 'application_time_taken': 155.625348218, 'query_status': 'pass', 'start_time': 1747460461.5972905}, 'q10': {'query_name': 'q10', 'application_id': 'app-20250517053242-0003', 'application_time_taken': 29.14646087499932, 'query_status': 'pass', 'start_time': 1747460617.250225}, 'q11': {'query_name': 'q11', 'application_id': 'app-20250517053242-0003', 'application_time_taken': 13.373936346997652, 'query_status': 'pass', 'start_time': 1747460646.4417477}, 'q12': {'query_name': 'q12', 'application_id': 'app-20250517053242-0003', 'application_time_taken': 17.947562677996757, 'query_status': 'pass', 'start_time': 1747460659.8369763}, 'q13': {'query_name': 'q13', 'application_id': 'app-20250517053242-0003', 'application_time_taken': 25.38292051299868, 'query_status': 'pass', 'start_time': 1747460677.8032243}, 'q14': {'query_name': 'q14', 'application_id': 'app-20250517053242-0003', 'application_time_taken': 12.453830785998434, 'query_status': 'pass', 'start_time': 1747460703.2034273}, 'q15': {'query_name': 'q15', 'application_id': 'app-20250517053242-0003', 'application_time_taken': 26.73959820500022, 'query_status': 'pass', 'start_time': 1747460715.7235417}, 'q16': {'query_name': 'q16', 'application_id': 'app-20250517053242-0003', 'application_time_taken': 9.166448695003055, 'query_status': 'pass', 'start_time': 1747460742.4902244}, 'q17': {'query_name': 'q17', 'application_id': 'app-20250517053242-0003', 'application_time_taken': 108.20015119100208, 'query_status': 'pass', 'start_time': 1747460751.6781971}, 'q18': {'query_name': 'q18', 'application_id': 'app-20250517053242-0003', 'application_time_taken': 120.09910945600132, 'query_status': 'pass', 'start_time': 1747460859.9034207}, 'q19': {'query_name': 'q19', 'application_id': 'app-20250517053242-0003', 'application_time_taken': 12.695136940998054, 'query_status': 'pass', 'start_time': 1747460980.0264618}, 'q20': {'query_name': 'q20', 'application_id': 'app-20250517053242-0003', 'application_time_taken': 20.732081742000446, 'query_status': 'pass', 'start_time': 1747460992.7532408}, 'q21': {'query_name': 'q21', 'application_id': 'app-20250517053242-0003', 'application_time_taken': 292.3746496629974, 'query_status': 'pass', 'start_time': 1747461013.5235913}, 'q22': {'query_name': 'q22', 'application_id': 'app-20250517053242-0003', 'application_time_taken': 10.281171882001217, 'query_status': 'pass', 'start_time': 1747461305.929757}}\n",
      "\n",
      "total duration:\n",
      "1201.1911269179946\n",
      "\n",
      "app-20250517053242-0003\n",
      "27.58677217100012\n",
      "17.682914708999306\n",
      "32.651489861998925\n",
      "24.433711993999168\n",
      "91.24168911599918\n",
      "8.312620381999295\n",
      "31.835600902002625\n",
      "113.2279205900013\n",
      "155.625348218\n",
      "29.14646087499932\n",
      "13.373936346997652\n",
      "17.947562677996757\n",
      "25.38292051299868\n",
      "12.453830785998434\n",
      "26.73959820500022\n",
      "9.166448695003055\n",
      "108.20015119100208\n",
      "120.09910945600132\n",
      "12.695136940998054\n",
      "20.732081742000446\n",
      "292.3746496629974\n",
      "10.281171882001217\n"
     ]
    }
   ],
   "source": [
    "bm.test_tpc.print_result()"
   ]
  },
  {
   "cell_type": "code",
   "execution_count": 11,
   "metadata": {},
   "outputs": [
    {
     "name": "stdout",
     "output_type": "stream",
     "text": [
      "appid is  app-20250517053242-0003\n",
      "saved to /opt/spark/work-dir/profile/\n"
     ]
    }
   ],
   "source": [
    "bm.collect_profile()"
   ]
  },
  {
   "cell_type": "code",
   "execution_count": null,
   "metadata": {},
   "outputs": [],
   "source": []
  },
  {
   "cell_type": "code",
   "execution_count": 10,
   "metadata": {},
   "outputs": [],
   "source": [
    "bm.sct.sc.stop()"
   ]
  },
  {
   "cell_type": "code",
   "execution_count": null,
   "metadata": {},
   "outputs": [],
   "source": []
  }
 ],
 "metadata": {
  "celltoolbar": "Tags",
  "hide_input": false,
  "kernelspec": {
   "display_name": "Python 3 (ipykernel)",
   "language": "python",
   "name": "python3"
  },
  "language_info": {
   "codemirror_mode": {
    "name": "ipython",
    "version": 3
   },
   "file_extension": ".py",
   "mimetype": "text/x-python",
   "name": "python",
   "nbconvert_exporter": "python",
   "pygments_lexer": "ipython3",
   "version": "3.9.6"
  },
  "nbTranslate": {
   "displayLangs": [
    "*"
   ],
   "hotkey": "alt-t",
   "langInMainMenu": true,
   "sourceLang": "en",
   "targetLang": "fr",
   "useGoogleTranslate": true
  },
  "toc": {
   "base_numbering": 1,
   "nav_menu": {},
   "number_sections": true,
   "sideBar": false,
   "skip_h1_title": false,
   "title_cell": "Table of Contents",
   "title_sidebar": "Contents",
   "toc_cell": false,
   "toc_position": {
    "height": "428.667px",
    "left": "2147.91px",
    "top": "439.125px",
    "width": "158.698px"
   },
   "toc_section_display": false,
   "toc_window_display": true
  },
  "varInspector": {
   "cols": {
    "lenName": 16,
    "lenType": 16,
    "lenVar": 40
   },
   "kernels_config": {
    "python": {
     "delete_cmd_postfix": "",
     "delete_cmd_prefix": "del ",
     "library": "var_list.py",
     "varRefreshCmd": "print(var_dic_list())"
    },
    "r": {
     "delete_cmd_postfix": ") ",
     "delete_cmd_prefix": "rm(",
     "library": "var_list.r",
     "varRefreshCmd": "cat(var_dic_list()) "
    }
   },
   "types_to_exclude": [
    "module",
    "function",
    "builtin_function_or_method",
    "instance",
    "_Feature"
   ],
   "window_display": false
  }
 },
 "nbformat": 4,
 "nbformat_minor": 4
}
