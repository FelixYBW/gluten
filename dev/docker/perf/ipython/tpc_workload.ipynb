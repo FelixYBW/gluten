{
 "cells": [
  {
   "cell_type": "markdown",
   "metadata": {},
   "source": [
    "# initialization"
   ]
  },
  {
   "cell_type": "code",
   "execution_count": 1,
   "metadata": {},
   "outputs": [
    {
     "name": "stdout",
     "output_type": "stream",
     "text": [
      "env: PYSPARK_SUBMIT_ARGS=--driver-java-options -Dio.netty.tryReflectionSetAccessible=true --conf spark.executor.extraJavaOptions=-Dio.netty.tryReflectionSetAccessible=true pyspark-shell\n"
     ]
    }
   ],
   "source": [
    "%env PYSPARK_SUBMIT_ARGS=--driver-java-options -Dio.netty.tryReflectionSetAccessible=true --conf spark.executor.extraJavaOptions=-Dio.netty.tryReflectionSetAccessible=true pyspark-shell"
   ]
  },
  {
   "cell_type": "code",
   "execution_count": 2,
   "metadata": {
    "tags": [
     "parameters"
    ]
   },
   "outputs": [],
   "source": [
    "# Local path to gluten jar.\n",
    "gluten_target_jar='/opt/gluten/jars/gluten-velox-bundle-spark3.5_2.12-linux_amd64-1.5.0-SNAPSHOT.jar'\n",
    "\n",
    "# Select workload. Can be either 'tpch' or 'tpcds'.\n",
    "workload='tpch'\n",
    "\n",
    "# Run with gluten. If False, run Spark.\n",
    "run_gluten=True\n",
    "\n",
    "# TPC tables\n",
    "#tpch_tabledir='/opt/spark/database/tpch_sf10_parquet_zstd'\n",
    "#tpcds_tabledir='/opt/spark/database/tpch_sf10_parquet_zstd'\n",
    "\n",
    "tabledir = '/opt/spark/database/tpch_sf100_parquet_zstd'\n",
    "\n",
    "# TPC queries\n",
    "#tpch_query_path='/opt/spark/tpch-queries'\n",
    "#tpcds_query_path='/opt/spark/tpcds-queries'\n",
    "\n",
    "tpc_query_path = '/opt/spark/tpch-queries/'\n",
    "\n",
    "# Parallelism\n",
    "executors_per_node=1\n",
    "\n",
    "#gluten_tpch_task_per_core=2\n",
    "#gluten_tpcds_task_per_core=4\n",
    "#spark_tpch_task_per_core=8\n",
    "#spark_tpcds_task_per_core=8\n",
    "\n",
    "task_per_core=2\n",
    "\n",
    "# Offheap ratio. 0 to disable offheap for Spark.\n",
    "# onheap:offheap = 1:2\n",
    "#spark_offheap_ratio=2.0\n",
    "# onheap:offheap = 1:7\n",
    "#gluten_offheap_ratio=7.0\n",
    "\n",
    "offheap_ratio = 7.0\n",
    "\n",
    "# spark.io.compression.codec\n",
    "spark_codec='lz4'\n",
    "# spark.gluten.sql.columnar.shuffle.codec\n",
    "gluten_codec='lz4'"
   ]
  },
  {
   "cell_type": "code",
   "execution_count": 3,
   "metadata": {
    "scrolled": true
   },
   "outputs": [
    {
     "name": "stdout",
     "output_type": "stream",
     "text": [
      "home: /home/spark\n",
      "cwd: /opt/spark/work-dir/ipython\n"
     ]
    },
    {
     "data": {
      "text/html": [
       "<div>\n",
       "<style scoped>\n",
       "    .dataframe tbody tr th:only-of-type {\n",
       "        vertical-align: middle;\n",
       "    }\n",
       "\n",
       "    .dataframe tbody tr th {\n",
       "        vertical-align: top;\n",
       "    }\n",
       "\n",
       "    .dataframe thead th {\n",
       "        text-align: right;\n",
       "    }\n",
       "</style>\n",
       "<table border=\"1\" class=\"dataframe\">\n",
       "  <thead>\n",
       "    <tr style=\"text-align: right;\">\n",
       "      <th></th>\n",
       "      <th>Environment Variable</th>\n",
       "      <th>Value</th>\n",
       "    </tr>\n",
       "  </thead>\n",
       "  <tbody>\n",
       "    <tr>\n",
       "      <th>0</th>\n",
       "      <td>HOSTNAME</td>\n",
       "      <td>ip-10-167-100-116.ec2.internal</td>\n",
       "    </tr>\n",
       "    <tr>\n",
       "      <th>1</th>\n",
       "      <td>PWD</td>\n",
       "      <td>/opt/spark/work-dir</td>\n",
       "    </tr>\n",
       "    <tr>\n",
       "      <th>2</th>\n",
       "      <td>HOME</td>\n",
       "      <td>/home/spark</td>\n",
       "    </tr>\n",
       "    <tr>\n",
       "      <th>3</th>\n",
       "      <td>TERM</td>\n",
       "      <td>xterm-color</td>\n",
       "    </tr>\n",
       "    <tr>\n",
       "      <th>4</th>\n",
       "      <td>SHLVL</td>\n",
       "      <td>0</td>\n",
       "    </tr>\n",
       "    <tr>\n",
       "      <th>5</th>\n",
       "      <td>SPARK_HOME</td>\n",
       "      <td>/opt/spark</td>\n",
       "    </tr>\n",
       "    <tr>\n",
       "      <th>6</th>\n",
       "      <td>PATH</td>\n",
       "      <td>/bin:/usr/local/sbin:/usr/local/bin:/usr/sbin:...</td>\n",
       "    </tr>\n",
       "    <tr>\n",
       "      <th>7</th>\n",
       "      <td>_</td>\n",
       "      <td>/usr/local/bin/jupyter</td>\n",
       "    </tr>\n",
       "    <tr>\n",
       "      <th>8</th>\n",
       "      <td>LC_CTYPE</td>\n",
       "      <td>C.UTF-8</td>\n",
       "    </tr>\n",
       "    <tr>\n",
       "      <th>9</th>\n",
       "      <td>JPY_PARENT_PID</td>\n",
       "      <td>211</td>\n",
       "    </tr>\n",
       "    <tr>\n",
       "      <th>10</th>\n",
       "      <td>PYDEVD_USE_FRAME_EVAL</td>\n",
       "      <td>NO</td>\n",
       "    </tr>\n",
       "    <tr>\n",
       "      <th>11</th>\n",
       "      <td>CLICOLOR</td>\n",
       "      <td>1</td>\n",
       "    </tr>\n",
       "    <tr>\n",
       "      <th>12</th>\n",
       "      <td>FORCE_COLOR</td>\n",
       "      <td>1</td>\n",
       "    </tr>\n",
       "    <tr>\n",
       "      <th>13</th>\n",
       "      <td>CLICOLOR_FORCE</td>\n",
       "      <td>1</td>\n",
       "    </tr>\n",
       "    <tr>\n",
       "      <th>14</th>\n",
       "      <td>PAGER</td>\n",
       "      <td>cat</td>\n",
       "    </tr>\n",
       "    <tr>\n",
       "      <th>15</th>\n",
       "      <td>GIT_PAGER</td>\n",
       "      <td>cat</td>\n",
       "    </tr>\n",
       "    <tr>\n",
       "      <th>16</th>\n",
       "      <td>MPLBACKEND</td>\n",
       "      <td>module://matplotlib_inline.backend_inline</td>\n",
       "    </tr>\n",
       "    <tr>\n",
       "      <th>17</th>\n",
       "      <td>PYSPARK_SUBMIT_ARGS</td>\n",
       "      <td>--driver-java-options -Dio.netty.tryReflection...</td>\n",
       "    </tr>\n",
       "  </tbody>\n",
       "</table>\n",
       "</div>"
      ],
      "text/plain": [
       "     Environment Variable                                              Value\n",
       "0                HOSTNAME                     ip-10-167-100-116.ec2.internal\n",
       "1                     PWD                                /opt/spark/work-dir\n",
       "2                    HOME                                        /home/spark\n",
       "3                    TERM                                        xterm-color\n",
       "4                   SHLVL                                                  0\n",
       "5              SPARK_HOME                                         /opt/spark\n",
       "6                    PATH  /bin:/usr/local/sbin:/usr/local/bin:/usr/sbin:...\n",
       "7                       _                             /usr/local/bin/jupyter\n",
       "8                LC_CTYPE                                            C.UTF-8\n",
       "9          JPY_PARENT_PID                                                211\n",
       "10  PYDEVD_USE_FRAME_EVAL                                                 NO\n",
       "11               CLICOLOR                                                  1\n",
       "12            FORCE_COLOR                                                  1\n",
       "13         CLICOLOR_FORCE                                                  1\n",
       "14                  PAGER                                                cat\n",
       "15              GIT_PAGER                                                cat\n",
       "16             MPLBACKEND          module://matplotlib_inline.backend_inline\n",
       "17    PYSPARK_SUBMIT_ARGS  --driver-java-options -Dio.netty.tryReflection..."
      ]
     },
     "metadata": {},
     "output_type": "display_data"
    },
    {
     "name": "stdout",
     "output_type": "stream",
     "text": [
      "localhost: ip-10-167-100-116.ec2.internal\n",
      "ip: 10.167.100.116\n",
      "Spark version from SPARK_HOME: 3.5.2\n"
     ]
    }
   ],
   "source": [
    "%run ./native_sql_initialize.ipynb"
   ]
  },
  {
   "cell_type": "markdown",
   "metadata": {},
   "source": [
    "# Application Level Configuration"
   ]
  },
  {
   "cell_type": "code",
   "execution_count": 4,
   "metadata": {},
   "outputs": [],
   "source": [
    "if run_gluten:\n",
    "    sct=GlutenSparkContext(executors_per_node, task_per_core, gluten_target_jar, offheap_ratio)\n",
    "    sct.conf.set('spark.gluten.sql.columnar.shuffle.codec', gluten_codec)\n",
    "else:\n",
    "    sct=VanillaSparkContext(executors_per_node, task_per_core, gluten_target_jar, offheap_ratio)\n",
    "    sct.conf.set('spark.io.compression.codec', spark_codec)"
   ]
  },
  {
   "cell_type": "code",
   "execution_count": 5,
   "metadata": {
    "scrolled": false
   },
   "outputs": [
    {
     "name": "stdout",
     "output_type": "stream",
     "text": [
      "\n",
      "            executors per node: 1\n",
      "            parallelism: 16\n",
      "            executor memory: 3807m\n",
      "            offheap memory: 26650m\n",
      "        \n",
      "spark.serializer:  org.apache.spark.serializer.KryoSerializer\n",
      "master:  spark://ip-10-167-100-116.ec2.internal:7077\n"
     ]
    },
    {
     "name": "stderr",
     "output_type": "stream",
     "text": [
      "Setting default log level to \"WARN\".\n",
      "To adjust logging level use sc.setLogLevel(newLevel). For SparkR, use setLogLevel(newLevel).\n",
      "25/05/06 05:58:55 WARN NativeCodeLoader: Unable to load native-hadoop library for your platform... using builtin-java classes where applicable\n",
      "25/05/06 05:58:55 WARN VeloxListenerApi: Memory overhead is set to 2048MiB which is smaller than the recommended size 7995MiB. This may cause OOM.\n",
      "W20250506 05:58:56.629297  1038 MemoryArbitrator.cpp:84] Query memory capacity[1.50GB] is set for NOOP arbitrator which has no capacity enforcement\n",
      "/opt/spark/python/pyspark/sql/context.py:113: FutureWarning: Deprecated in 3.0.0. Use SparkSession.builder.getOrCreate() instead.\n",
      "  warnings.warn(\n"
     ]
    },
    {
     "name": "stdout",
     "output_type": "stream",
     "text": [
      "appid:  app-20250506055856-0001\n",
      "SparkConf:\n"
     ]
    },
    {
     "data": {
      "text/html": [
       "<div>\n",
       "<style scoped>\n",
       "    .dataframe tbody tr th:only-of-type {\n",
       "        vertical-align: middle;\n",
       "    }\n",
       "\n",
       "    .dataframe tbody tr th {\n",
       "        vertical-align: top;\n",
       "    }\n",
       "\n",
       "    .dataframe thead th {\n",
       "        text-align: right;\n",
       "    }\n",
       "</style>\n",
       "<table border=\"1\" class=\"dataframe\">\n",
       "  <thead>\n",
       "    <tr style=\"text-align: right;\">\n",
       "      <th></th>\n",
       "      <th>key</th>\n",
       "      <th>value</th>\n",
       "    </tr>\n",
       "  </thead>\n",
       "  <tbody>\n",
       "    <tr>\n",
       "      <th>0</th>\n",
       "      <td>spark.eventLog.enabled</td>\n",
       "      <td>true</td>\n",
       "    </tr>\n",
       "    <tr>\n",
       "      <th>1</th>\n",
       "      <td>spark.executor.memoryOverhead</td>\n",
       "      <td>2048m</td>\n",
       "    </tr>\n",
       "    <tr>\n",
       "      <th>2</th>\n",
       "      <td>spark.gluten.sql.columnar.shuffle.codec</td>\n",
       "      <td>lz4</td>\n",
       "    </tr>\n",
       "    <tr>\n",
       "      <th>3</th>\n",
       "      <td>spark.sql.hive.metastore.jars</td>\n",
       "      <td>maven</td>\n",
       "    </tr>\n",
       "    <tr>\n",
       "      <th>4</th>\n",
       "      <td>spark.sql.shuffle.partitions</td>\n",
       "      <td>16</td>\n",
       "    </tr>\n",
       "    <tr>\n",
       "      <th>5</th>\n",
       "      <td>spark.executor.extraJavaOptions</td>\n",
       "      <td>-Djava.net.preferIPv6Addresses=false -XX:+Igno...</td>\n",
       "    </tr>\n",
       "    <tr>\n",
       "      <th>6</th>\n",
       "      <td>spark.cleaner.periodicGC.interval</td>\n",
       "      <td>10s</td>\n",
       "    </tr>\n",
       "    <tr>\n",
       "      <th>7</th>\n",
       "      <td>spark.serializer</td>\n",
       "      <td>org.apache.spark.serializer.KryoSerializer</td>\n",
       "    </tr>\n",
       "    <tr>\n",
       "      <th>8</th>\n",
       "      <td>spark.app.submitTime</td>\n",
       "      <td>1746511134830</td>\n",
       "    </tr>\n",
       "    <tr>\n",
       "      <th>9</th>\n",
       "      <td>spark.eventLog.dir</td>\n",
       "      <td>/opt/spark/events</td>\n",
       "    </tr>\n",
       "    <tr>\n",
       "      <th>10</th>\n",
       "      <td>spark.executorEnv.PYTHONPATH</td>\n",
       "      <td>/opt/sparkpython:/opt/spark/python/lib/py4j-0....</td>\n",
       "    </tr>\n",
       "    <tr>\n",
       "      <th>11</th>\n",
       "      <td>spark.driver.port</td>\n",
       "      <td>33241</td>\n",
       "    </tr>\n",
       "    <tr>\n",
       "      <th>12</th>\n",
       "      <td>spark.hadoop.fs.s3a.aws.credentials.provider</td>\n",
       "      <td>org.apache.hadoop.fs.s3a.auth.IAMInstanceCrede...</td>\n",
       "    </tr>\n",
       "    <tr>\n",
       "      <th>13</th>\n",
       "      <td>spark.driver.host</td>\n",
       "      <td>ip-10-167-100-116.ec2.internal</td>\n",
       "    </tr>\n",
       "    <tr>\n",
       "      <th>14</th>\n",
       "      <td>spark.executor.id</td>\n",
       "      <td>driver</td>\n",
       "    </tr>\n",
       "    <tr>\n",
       "      <th>15</th>\n",
       "      <td>spark.sql.extensions</td>\n",
       "      <td>org.apache.gluten.extension.GlutenSessionExten...</td>\n",
       "    </tr>\n",
       "    <tr>\n",
       "      <th>16</th>\n",
       "      <td>spark.gluten.numTaskSlotsPerExecutor</td>\n",
       "      <td>8</td>\n",
       "    </tr>\n",
       "    <tr>\n",
       "      <th>17</th>\n",
       "      <td>spark.executorEnv.LD_PRELOAD</td>\n",
       "      <td>line</td>\n",
       "    </tr>\n",
       "    <tr>\n",
       "      <th>18</th>\n",
       "      <td>spark.sql.catalogImplementation</td>\n",
       "      <td>hive</td>\n",
       "    </tr>\n",
       "    <tr>\n",
       "      <th>19</th>\n",
       "      <td>spark.gluten.sql.columnar.coalesce.batches</td>\n",
       "      <td>true</td>\n",
       "    </tr>\n",
       "    <tr>\n",
       "      <th>20</th>\n",
       "      <td>spark.executor.instances</td>\n",
       "      <td>1</td>\n",
       "    </tr>\n",
       "    <tr>\n",
       "      <th>21</th>\n",
       "      <td>spark.gluten.memory.overAcquiredMemoryRatio</td>\n",
       "      <td>0</td>\n",
       "    </tr>\n",
       "    <tr>\n",
       "      <th>22</th>\n",
       "      <td>spark.driver.maxResultSize</td>\n",
       "      <td>4g</td>\n",
       "    </tr>\n",
       "    <tr>\n",
       "      <th>23</th>\n",
       "      <td>spark.sql.optimizer.runtime.bloomFilter.applic...</td>\n",
       "      <td>0</td>\n",
       "    </tr>\n",
       "    <tr>\n",
       "      <th>24</th>\n",
       "      <td>spark.plugins</td>\n",
       "      <td>org.apache.gluten.GlutenPlugin</td>\n",
       "    </tr>\n",
       "    <tr>\n",
       "      <th>25</th>\n",
       "      <td>spark.gluten.memoryOverhead.size.in.bytes</td>\n",
       "      <td>2147483648</td>\n",
       "    </tr>\n",
       "    <tr>\n",
       "      <th>26</th>\n",
       "      <td>spark.kryoserializer.buffer.max</td>\n",
       "      <td>512m</td>\n",
       "    </tr>\n",
       "    <tr>\n",
       "      <th>27</th>\n",
       "      <td>spark.sql.files.maxPartitionBytes</td>\n",
       "      <td>4g</td>\n",
       "    </tr>\n",
       "    <tr>\n",
       "      <th>28</th>\n",
       "      <td>spark.sql.adaptive.enabled</td>\n",
       "      <td>True</td>\n",
       "    </tr>\n",
       "    <tr>\n",
       "      <th>29</th>\n",
       "      <td>spark.master</td>\n",
       "      <td>spark://ip-10-167-100-116.ec2.internal:7077</td>\n",
       "    </tr>\n",
       "    <tr>\n",
       "      <th>30</th>\n",
       "      <td>spark.executor.memory</td>\n",
       "      <td>3807m</td>\n",
       "    </tr>\n",
       "    <tr>\n",
       "      <th>31</th>\n",
       "      <td>spark.gluten.memory.conservative.task.offHeap....</td>\n",
       "      <td>1746534400</td>\n",
       "    </tr>\n",
       "    <tr>\n",
       "      <th>32</th>\n",
       "      <td>spark.io.compression.codec</td>\n",
       "      <td>lz4</td>\n",
       "    </tr>\n",
       "    <tr>\n",
       "      <th>33</th>\n",
       "      <td>spark.executor.extraClassPath</td>\n",
       "      <td>/opt/gluten/jars/gluten-velox-bundle-spark3.5_...</td>\n",
       "    </tr>\n",
       "    <tr>\n",
       "      <th>34</th>\n",
       "      <td>spark.gluten.sql.columnar.forceShuffledHashJoin</td>\n",
       "      <td>True</td>\n",
       "    </tr>\n",
       "    <tr>\n",
       "      <th>35</th>\n",
       "      <td>spark.sql.autoBroadcastJoinThreshold</td>\n",
       "      <td>10m</td>\n",
       "    </tr>\n",
       "    <tr>\n",
       "      <th>36</th>\n",
       "      <td>spark.serializer.objectStreamReset</td>\n",
       "      <td>100</td>\n",
       "    </tr>\n",
       "    <tr>\n",
       "      <th>37</th>\n",
       "      <td>spark.driver.extraClassPath</td>\n",
       "      <td>/opt/gluten/jars/gluten-velox-bundle-spark3.5_...</td>\n",
       "    </tr>\n",
       "    <tr>\n",
       "      <th>38</th>\n",
       "      <td>spark.submit.deployMode</td>\n",
       "      <td>client</td>\n",
       "    </tr>\n",
       "    <tr>\n",
       "      <th>39</th>\n",
       "      <td>spark.memory.offHeap.enabled</td>\n",
       "      <td>True</td>\n",
       "    </tr>\n",
       "    <tr>\n",
       "      <th>40</th>\n",
       "      <td>spark.executor.cores</td>\n",
       "      <td>8</td>\n",
       "    </tr>\n",
       "    <tr>\n",
       "      <th>41</th>\n",
       "      <td>spark.app.startTime</td>\n",
       "      <td>1746511134972</td>\n",
       "    </tr>\n",
       "    <tr>\n",
       "      <th>42</th>\n",
       "      <td>spark.sql.hive.metastore.version</td>\n",
       "      <td>3.1.3</td>\n",
       "    </tr>\n",
       "    <tr>\n",
       "      <th>43</th>\n",
       "      <td>spark.sql.optimizer.dynamicPartitionPruning.en...</td>\n",
       "      <td>True</td>\n",
       "    </tr>\n",
       "    <tr>\n",
       "      <th>44</th>\n",
       "      <td>spark.shuffle.manager</td>\n",
       "      <td>org.apache.spark.shuffle.sort.ColumnarShuffleM...</td>\n",
       "    </tr>\n",
       "    <tr>\n",
       "      <th>45</th>\n",
       "      <td>spark.gluten.sql.columnar.backend.lib</td>\n",
       "      <td>velox</td>\n",
       "    </tr>\n",
       "    <tr>\n",
       "      <th>46</th>\n",
       "      <td>spark.driver.extraJavaOptions</td>\n",
       "      <td>-Djava.net.preferIPv6Addresses=false -XX:+Igno...</td>\n",
       "    </tr>\n",
       "    <tr>\n",
       "      <th>47</th>\n",
       "      <td>spark.driver.memory</td>\n",
       "      <td>1024m</td>\n",
       "    </tr>\n",
       "    <tr>\n",
       "      <th>48</th>\n",
       "      <td>spark.gluten.sql.columnar.maxBatchSize</td>\n",
       "      <td>4096</td>\n",
       "    </tr>\n",
       "    <tr>\n",
       "      <th>49</th>\n",
       "      <td>spark.app.name</td>\n",
       "      <td>gluten_tpch_spark352</td>\n",
       "    </tr>\n",
       "    <tr>\n",
       "      <th>50</th>\n",
       "      <td>spark.gluten.memory.task.offHeap.size.in.bytes</td>\n",
       "      <td>3493068800</td>\n",
       "    </tr>\n",
       "    <tr>\n",
       "      <th>51</th>\n",
       "      <td>spark.rdd.compress</td>\n",
       "      <td>True</td>\n",
       "    </tr>\n",
       "    <tr>\n",
       "      <th>52</th>\n",
       "      <td>spark.sql.broadcastTimeout</td>\n",
       "      <td>4800</td>\n",
       "    </tr>\n",
       "    <tr>\n",
       "      <th>53</th>\n",
       "      <td>spark.task.cpus</td>\n",
       "      <td>1</td>\n",
       "    </tr>\n",
       "    <tr>\n",
       "      <th>54</th>\n",
       "      <td>spark.memory.offHeap.size</td>\n",
       "      <td>26650m</td>\n",
       "    </tr>\n",
       "    <tr>\n",
       "      <th>55</th>\n",
       "      <td>spark.gluten.memory.offHeap.size.in.bytes</td>\n",
       "      <td>27944550400</td>\n",
       "    </tr>\n",
       "    <tr>\n",
       "      <th>56</th>\n",
       "      <td>spark.app.id</td>\n",
       "      <td>app-20250506055856-0001</td>\n",
       "    </tr>\n",
       "    <tr>\n",
       "      <th>57</th>\n",
       "      <td>spark.submit.pyFiles</td>\n",
       "      <td></td>\n",
       "    </tr>\n",
       "    <tr>\n",
       "      <th>58</th>\n",
       "      <td>spark.kryo.unsafe</td>\n",
       "      <td>False</td>\n",
       "    </tr>\n",
       "    <tr>\n",
       "      <th>59</th>\n",
       "      <td>spark.sql.adaptive.customCostEvaluatorClass</td>\n",
       "      <td>org.apache.spark.sql.execution.adaptive.Gluten...</td>\n",
       "    </tr>\n",
       "    <tr>\n",
       "      <th>60</th>\n",
       "      <td>spark.ui.showConsoleProgress</td>\n",
       "      <td>true</td>\n",
       "    </tr>\n",
       "    <tr>\n",
       "      <th>61</th>\n",
       "      <td>spark.sql.optimizer.runtime.bloomFilter.enabled</td>\n",
       "      <td>true</td>\n",
       "    </tr>\n",
       "  </tbody>\n",
       "</table>\n",
       "</div>"
      ],
      "text/plain": [
       "                                                  key  \\\n",
       "0                              spark.eventLog.enabled   \n",
       "1                       spark.executor.memoryOverhead   \n",
       "2             spark.gluten.sql.columnar.shuffle.codec   \n",
       "3                       spark.sql.hive.metastore.jars   \n",
       "4                        spark.sql.shuffle.partitions   \n",
       "5                     spark.executor.extraJavaOptions   \n",
       "6                   spark.cleaner.periodicGC.interval   \n",
       "7                                    spark.serializer   \n",
       "8                                spark.app.submitTime   \n",
       "9                                  spark.eventLog.dir   \n",
       "10                       spark.executorEnv.PYTHONPATH   \n",
       "11                                  spark.driver.port   \n",
       "12       spark.hadoop.fs.s3a.aws.credentials.provider   \n",
       "13                                  spark.driver.host   \n",
       "14                                  spark.executor.id   \n",
       "15                               spark.sql.extensions   \n",
       "16               spark.gluten.numTaskSlotsPerExecutor   \n",
       "17                       spark.executorEnv.LD_PRELOAD   \n",
       "18                    spark.sql.catalogImplementation   \n",
       "19         spark.gluten.sql.columnar.coalesce.batches   \n",
       "20                           spark.executor.instances   \n",
       "21        spark.gluten.memory.overAcquiredMemoryRatio   \n",
       "22                         spark.driver.maxResultSize   \n",
       "23  spark.sql.optimizer.runtime.bloomFilter.applic...   \n",
       "24                                      spark.plugins   \n",
       "25          spark.gluten.memoryOverhead.size.in.bytes   \n",
       "26                    spark.kryoserializer.buffer.max   \n",
       "27                  spark.sql.files.maxPartitionBytes   \n",
       "28                         spark.sql.adaptive.enabled   \n",
       "29                                       spark.master   \n",
       "30                              spark.executor.memory   \n",
       "31  spark.gluten.memory.conservative.task.offHeap....   \n",
       "32                         spark.io.compression.codec   \n",
       "33                      spark.executor.extraClassPath   \n",
       "34    spark.gluten.sql.columnar.forceShuffledHashJoin   \n",
       "35               spark.sql.autoBroadcastJoinThreshold   \n",
       "36                 spark.serializer.objectStreamReset   \n",
       "37                        spark.driver.extraClassPath   \n",
       "38                            spark.submit.deployMode   \n",
       "39                       spark.memory.offHeap.enabled   \n",
       "40                               spark.executor.cores   \n",
       "41                                spark.app.startTime   \n",
       "42                   spark.sql.hive.metastore.version   \n",
       "43  spark.sql.optimizer.dynamicPartitionPruning.en...   \n",
       "44                              spark.shuffle.manager   \n",
       "45              spark.gluten.sql.columnar.backend.lib   \n",
       "46                      spark.driver.extraJavaOptions   \n",
       "47                                spark.driver.memory   \n",
       "48             spark.gluten.sql.columnar.maxBatchSize   \n",
       "49                                     spark.app.name   \n",
       "50     spark.gluten.memory.task.offHeap.size.in.bytes   \n",
       "51                                 spark.rdd.compress   \n",
       "52                         spark.sql.broadcastTimeout   \n",
       "53                                    spark.task.cpus   \n",
       "54                          spark.memory.offHeap.size   \n",
       "55          spark.gluten.memory.offHeap.size.in.bytes   \n",
       "56                                       spark.app.id   \n",
       "57                               spark.submit.pyFiles   \n",
       "58                                  spark.kryo.unsafe   \n",
       "59        spark.sql.adaptive.customCostEvaluatorClass   \n",
       "60                       spark.ui.showConsoleProgress   \n",
       "61    spark.sql.optimizer.runtime.bloomFilter.enabled   \n",
       "\n",
       "                                                value  \n",
       "0                                                true  \n",
       "1                                               2048m  \n",
       "2                                                 lz4  \n",
       "3                                               maven  \n",
       "4                                                  16  \n",
       "5   -Djava.net.preferIPv6Addresses=false -XX:+Igno...  \n",
       "6                                                 10s  \n",
       "7          org.apache.spark.serializer.KryoSerializer  \n",
       "8                                       1746511134830  \n",
       "9                                   /opt/spark/events  \n",
       "10  /opt/sparkpython:/opt/spark/python/lib/py4j-0....  \n",
       "11                                              33241  \n",
       "12  org.apache.hadoop.fs.s3a.auth.IAMInstanceCrede...  \n",
       "13                     ip-10-167-100-116.ec2.internal  \n",
       "14                                             driver  \n",
       "15  org.apache.gluten.extension.GlutenSessionExten...  \n",
       "16                                                  8  \n",
       "17                                               line  \n",
       "18                                               hive  \n",
       "19                                               true  \n",
       "20                                                  1  \n",
       "21                                                  0  \n",
       "22                                                 4g  \n",
       "23                                                  0  \n",
       "24                     org.apache.gluten.GlutenPlugin  \n",
       "25                                         2147483648  \n",
       "26                                               512m  \n",
       "27                                                 4g  \n",
       "28                                               True  \n",
       "29        spark://ip-10-167-100-116.ec2.internal:7077  \n",
       "30                                              3807m  \n",
       "31                                         1746534400  \n",
       "32                                                lz4  \n",
       "33  /opt/gluten/jars/gluten-velox-bundle-spark3.5_...  \n",
       "34                                               True  \n",
       "35                                                10m  \n",
       "36                                                100  \n",
       "37  /opt/gluten/jars/gluten-velox-bundle-spark3.5_...  \n",
       "38                                             client  \n",
       "39                                               True  \n",
       "40                                                  8  \n",
       "41                                      1746511134972  \n",
       "42                                              3.1.3  \n",
       "43                                               True  \n",
       "44  org.apache.spark.shuffle.sort.ColumnarShuffleM...  \n",
       "45                                              velox  \n",
       "46  -Djava.net.preferIPv6Addresses=false -XX:+Igno...  \n",
       "47                                              1024m  \n",
       "48                                               4096  \n",
       "49                               gluten_tpch_spark352  \n",
       "50                                         3493068800  \n",
       "51                                               True  \n",
       "52                                               4800  \n",
       "53                                                  1  \n",
       "54                                             26650m  \n",
       "55                                        27944550400  \n",
       "56                            app-20250506055856-0001  \n",
       "57                                                     \n",
       "58                                              False  \n",
       "59  org.apache.spark.sql.execution.adaptive.Gluten...  \n",
       "60                                               true  \n",
       "61                                               true  "
      ]
     },
     "metadata": {},
     "output_type": "display_data"
    },
    {
     "name": "stdout",
     "output_type": "stream",
     "text": [
      "start run:  app-20250506055856-0001\n",
      "http://10.167.100.116:18080/history/app-20250506055856-0001/jobs/\n"
     ]
    }
   ],
   "source": [
    "if workload.lower()==\"tpch\":\n",
    "    bm=TPCHBenchmark(sct, tabledir, 'parquet', tpc_query_path)\n",
    "else:\n",
    "    bm=TPCDSBenchmark(sct, tabledir, 'parquet', tpc_query_path)\n",
    "bm.initialize()"
   ]
  },
  {
   "cell_type": "code",
   "execution_count": null,
   "metadata": {},
   "outputs": [],
   "source": []
  },
  {
   "cell_type": "markdown",
   "metadata": {},
   "source": [
    "# Run Workload"
   ]
  },
  {
   "cell_type": "code",
   "execution_count": 6,
   "metadata": {
    "scrolled": true
   },
   "outputs": [
    {
     "name": "stdout",
     "output_type": "stream",
     "text": [
      "Loading all tables: ['customer', 'lineitem', 'nation', 'orders', 'part', 'partsupp', 'region', 'supplier']\n"
     ]
    },
    {
     "name": "stderr",
     "output_type": "stream",
     "text": [
      "                                                                                \r"
     ]
    },
    {
     "name": "stdout",
     "output_type": "stream",
     "text": [
      "start query q1, application id app-20250506055856-0001\n",
      "Start time : 18478.817360843\n"
     ]
    },
    {
     "name": "stderr",
     "output_type": "stream",
     "text": [
      "                                                                                \r"
     ]
    },
    {
     "data": {
      "text/html": [
       "Completed Query. Time(sec): <font size=6pt color=red>22.824918</font>"
      ],
      "text/plain": [
       "<IPython.core.display.HTML object>"
      ]
     },
     "metadata": {},
     "output_type": "display_data"
    },
    {
     "name": "stdout",
     "output_type": "stream",
     "text": [
      "start query q2, application id app-20250506055856-0001\n",
      "Start time : 18501.717931269\n"
     ]
    },
    {
     "name": "stderr",
     "output_type": "stream",
     "text": [
      "                                                                                \r"
     ]
    },
    {
     "data": {
      "text/html": [
       "Completed Query. Time(sec): <font size=6pt color=red>10.801455</font>"
      ],
      "text/plain": [
       "<IPython.core.display.HTML object>"
      ]
     },
     "metadata": {},
     "output_type": "display_data"
    },
    {
     "name": "stdout",
     "output_type": "stream",
     "text": [
      "start query q3, application id app-20250506055856-0001\n",
      "Start time : 18512.545979805\n"
     ]
    },
    {
     "name": "stderr",
     "output_type": "stream",
     "text": [
      "                                                                                \r"
     ]
    },
    {
     "data": {
      "text/html": [
       "Completed Query. Time(sec): <font size=6pt color=red>22.370196</font>"
      ],
      "text/plain": [
       "<IPython.core.display.HTML object>"
      ]
     },
     "metadata": {},
     "output_type": "display_data"
    },
    {
     "name": "stdout",
     "output_type": "stream",
     "text": [
      "start query q4, application id app-20250506055856-0001\n",
      "Start time : 18534.952470136\n"
     ]
    },
    {
     "name": "stderr",
     "output_type": "stream",
     "text": [
      "                                                                                \r"
     ]
    },
    {
     "data": {
      "text/html": [
       "Completed Query. Time(sec): <font size=6pt color=red>18.054632</font>"
      ],
      "text/plain": [
       "<IPython.core.display.HTML object>"
      ]
     },
     "metadata": {},
     "output_type": "display_data"
    },
    {
     "name": "stdout",
     "output_type": "stream",
     "text": [
      "start query q5, application id app-20250506055856-0001\n",
      "Start time : 18553.028454347\n"
     ]
    },
    {
     "name": "stderr",
     "output_type": "stream",
     "text": [
      "                                                                                \r"
     ]
    },
    {
     "data": {
      "text/html": [
       "Completed Query. Time(sec): <font size=6pt color=red>78.141104</font>"
      ],
      "text/plain": [
       "<IPython.core.display.HTML object>"
      ]
     },
     "metadata": {},
     "output_type": "display_data"
    },
    {
     "name": "stdout",
     "output_type": "stream",
     "text": [
      "start query q6, application id app-20250506055856-0001\n",
      "Start time : 18631.195446464\n"
     ]
    },
    {
     "name": "stderr",
     "output_type": "stream",
     "text": [
      "                                                                                \r"
     ]
    },
    {
     "data": {
      "text/html": [
       "Completed Query. Time(sec): <font size=6pt color=red>4.764243</font>"
      ],
      "text/plain": [
       "<IPython.core.display.HTML object>"
      ]
     },
     "metadata": {},
     "output_type": "display_data"
    },
    {
     "name": "stdout",
     "output_type": "stream",
     "text": [
      "start query q7, application id app-20250506055856-0001\n",
      "Start time : 18636.104593034\n"
     ]
    },
    {
     "name": "stderr",
     "output_type": "stream",
     "text": [
      "                                                                                \r"
     ]
    },
    {
     "data": {
      "text/html": [
       "Completed Query. Time(sec): <font size=6pt color=red>22.898820</font>"
      ],
      "text/plain": [
       "<IPython.core.display.HTML object>"
      ]
     },
     "metadata": {},
     "output_type": "display_data"
    },
    {
     "name": "stdout",
     "output_type": "stream",
     "text": [
      "start query q8, application id app-20250506055856-0001\n",
      "Start time : 18659.03967255\n"
     ]
    },
    {
     "name": "stderr",
     "output_type": "stream",
     "text": [
      "                                                                                \r"
     ]
    },
    {
     "data": {
      "text/html": [
       "Completed Query. Time(sec): <font size=6pt color=red>104.805221</font>"
      ],
      "text/plain": [
       "<IPython.core.display.HTML object>"
      ]
     },
     "metadata": {},
     "output_type": "display_data"
    },
    {
     "name": "stdout",
     "output_type": "stream",
     "text": [
      "start query q9, application id app-20250506055856-0001\n",
      "Start time : 18763.867253386\n"
     ]
    },
    {
     "name": "stderr",
     "output_type": "stream",
     "text": [
      "                                                                                \r"
     ]
    },
    {
     "data": {
      "text/html": [
       "Completed Query. Time(sec): <font size=6pt color=red>159.263351</font>"
      ],
      "text/plain": [
       "<IPython.core.display.HTML object>"
      ]
     },
     "metadata": {},
     "output_type": "display_data"
    },
    {
     "name": "stdout",
     "output_type": "stream",
     "text": [
      "start query q10, application id app-20250506055856-0001\n",
      "Start time : 18923.15048357\n"
     ]
    },
    {
     "name": "stderr",
     "output_type": "stream",
     "text": [
      "                                                                                \r"
     ]
    },
    {
     "data": {
      "text/html": [
       "Completed Query. Time(sec): <font size=6pt color=red>37.072720</font>"
      ],
      "text/plain": [
       "<IPython.core.display.HTML object>"
      ]
     },
     "metadata": {},
     "output_type": "display_data"
    },
    {
     "name": "stdout",
     "output_type": "stream",
     "text": [
      "start query q11, application id app-20250506055856-0001\n",
      "Start time : 18960.277868257\n"
     ]
    },
    {
     "name": "stderr",
     "output_type": "stream",
     "text": [
      "                                                                                \r"
     ]
    },
    {
     "data": {
      "text/html": [
       "Completed Query. Time(sec): <font size=6pt color=red>13.871584</font>"
      ],
      "text/plain": [
       "<IPython.core.display.HTML object>"
      ]
     },
     "metadata": {},
     "output_type": "display_data"
    },
    {
     "name": "stdout",
     "output_type": "stream",
     "text": [
      "start query q12, application id app-20250506055856-0001\n",
      "Start time : 18974.166358476\n"
     ]
    },
    {
     "name": "stderr",
     "output_type": "stream",
     "text": [
      "                                                                                \r"
     ]
    },
    {
     "data": {
      "text/html": [
       "Completed Query. Time(sec): <font size=6pt color=red>17.521227</font>"
      ],
      "text/plain": [
       "<IPython.core.display.HTML object>"
      ]
     },
     "metadata": {},
     "output_type": "display_data"
    },
    {
     "name": "stdout",
     "output_type": "stream",
     "text": [
      "start query q13, application id app-20250506055856-0001\n",
      "Start time : 18991.703109794\n"
     ]
    },
    {
     "name": "stderr",
     "output_type": "stream",
     "text": [
      "                                                                                \r"
     ]
    },
    {
     "data": {
      "text/html": [
       "Completed Query. Time(sec): <font size=6pt color=red>34.651308</font>"
      ],
      "text/plain": [
       "<IPython.core.display.HTML object>"
      ]
     },
     "metadata": {},
     "output_type": "display_data"
    },
    {
     "name": "stdout",
     "output_type": "stream",
     "text": [
      "start query q14, application id app-20250506055856-0001\n",
      "Start time : 19026.37073698\n"
     ]
    },
    {
     "name": "stderr",
     "output_type": "stream",
     "text": [
      "                                                                                \r"
     ]
    },
    {
     "data": {
      "text/html": [
       "Completed Query. Time(sec): <font size=6pt color=red>7.289420</font>"
      ],
      "text/plain": [
       "<IPython.core.display.HTML object>"
      ]
     },
     "metadata": {},
     "output_type": "display_data"
    },
    {
     "name": "stdout",
     "output_type": "stream",
     "text": [
      "start query q15, application id app-20250506055856-0001\n",
      "Start time : 19033.790560885\n"
     ]
    },
    {
     "name": "stderr",
     "output_type": "stream",
     "text": [
      "                                                                                \r"
     ]
    },
    {
     "data": {
      "text/html": [
       "Completed Query. Time(sec): <font size=6pt color=red>18.726404</font>"
      ],
      "text/plain": [
       "<IPython.core.display.HTML object>"
      ]
     },
     "metadata": {},
     "output_type": "display_data"
    },
    {
     "name": "stdout",
     "output_type": "stream",
     "text": [
      "start query q16, application id app-20250506055856-0001\n",
      "Start time : 19052.534243341\n"
     ]
    },
    {
     "name": "stderr",
     "output_type": "stream",
     "text": [
      "                                                                                \r"
     ]
    },
    {
     "data": {
      "text/html": [
       "Completed Query. Time(sec): <font size=6pt color=red>6.704409</font>"
      ],
      "text/plain": [
       "<IPython.core.display.HTML object>"
      ]
     },
     "metadata": {},
     "output_type": "display_data"
    },
    {
     "name": "stdout",
     "output_type": "stream",
     "text": [
      "start query q17, application id app-20250506055856-0001\n",
      "Start time : 19059.256723015\n"
     ]
    },
    {
     "name": "stderr",
     "output_type": "stream",
     "text": [
      "                                                                                \r"
     ]
    },
    {
     "data": {
      "text/html": [
       "Completed Query. Time(sec): <font size=6pt color=red>88.881774</font>"
      ],
      "text/plain": [
       "<IPython.core.display.HTML object>"
      ]
     },
     "metadata": {},
     "output_type": "display_data"
    },
    {
     "name": "stdout",
     "output_type": "stream",
     "text": [
      "start query q18, application id app-20250506055856-0001\n",
      "Start time : 19148.156279809\n"
     ]
    },
    {
     "name": "stderr",
     "output_type": "stream",
     "text": [
      "                                                                                \r"
     ]
    },
    {
     "data": {
      "text/html": [
       "Completed Query. Time(sec): <font size=6pt color=red>111.842093</font>"
      ],
      "text/plain": [
       "<IPython.core.display.HTML object>"
      ]
     },
     "metadata": {},
     "output_type": "display_data"
    },
    {
     "name": "stdout",
     "output_type": "stream",
     "text": [
      "start query q19, application id app-20250506055856-0001\n",
      "Start time : 19260.013995246\n"
     ]
    },
    {
     "name": "stderr",
     "output_type": "stream",
     "text": [
      "                                                                                \r"
     ]
    },
    {
     "data": {
      "text/html": [
       "Completed Query. Time(sec): <font size=6pt color=red>8.588934</font>"
      ],
      "text/plain": [
       "<IPython.core.display.HTML object>"
      ]
     },
     "metadata": {},
     "output_type": "display_data"
    },
    {
     "name": "stdout",
     "output_type": "stream",
     "text": [
      "start query q20, application id app-20250506055856-0001\n",
      "Start time : 19268.627049336\n"
     ]
    },
    {
     "name": "stderr",
     "output_type": "stream",
     "text": [
      "                                                                                \r"
     ]
    },
    {
     "data": {
      "text/html": [
       "Completed Query. Time(sec): <font size=6pt color=red>13.307015</font>"
      ],
      "text/plain": [
       "<IPython.core.display.HTML object>"
      ]
     },
     "metadata": {},
     "output_type": "display_data"
    },
    {
     "name": "stdout",
     "output_type": "stream",
     "text": [
      "start query q21, application id app-20250506055856-0001\n",
      "Start time : 19281.96264492\n"
     ]
    },
    {
     "name": "stderr",
     "output_type": "stream",
     "text": [
      "                                                                                \r"
     ]
    },
    {
     "data": {
      "text/html": [
       "Completed Query. Time(sec): <font size=6pt color=red>281.396654</font>"
      ],
      "text/plain": [
       "<IPython.core.display.HTML object>"
      ]
     },
     "metadata": {},
     "output_type": "display_data"
    },
    {
     "name": "stdout",
     "output_type": "stream",
     "text": [
      "start query q22, application id app-20250506055856-0001\n",
      "Start time : 19563.381574946\n"
     ]
    },
    {
     "name": "stderr",
     "output_type": "stream",
     "text": [
      "                                                                                \r"
     ]
    },
    {
     "data": {
      "text/html": [
       "Completed Query. Time(sec): <font size=6pt color=red>8.323583</font>"
      ],
      "text/plain": [
       "<IPython.core.display.HTML object>"
      ]
     },
     "metadata": {},
     "output_type": "display_data"
    }
   ],
   "source": [
    "bm.test_tpc.power_run(explain=False, print_result=False, load_table=True, action=lambda df: df.collect())"
   ]
  },
  {
   "cell_type": "code",
   "execution_count": 7,
   "metadata": {
    "scrolled": true
   },
   "outputs": [
    {
     "name": "stdout",
     "output_type": "stream",
     "text": [
      "{'q1': {'query_name': 'q1', 'application_id': 'app-20250506055856-0001', 'application_time_taken': 22.824918061000062, 'query_status': 'pass', 'start_time': 1746511209.859102}, 'q2': {'query_name': 'q2', 'application_id': 'app-20250506055856-0001', 'application_time_taken': 10.801454642001772, 'query_status': 'pass', 'start_time': 1746511232.7596726}, 'q3': {'query_name': 'q3', 'application_id': 'app-20250506055856-0001', 'application_time_taken': 22.370196338000824, 'query_status': 'pass', 'start_time': 1746511243.5877209}, 'q4': {'query_name': 'q4', 'application_id': 'app-20250506055856-0001', 'application_time_taken': 18.054631803999655, 'query_status': 'pass', 'start_time': 1746511265.9942107}, 'q5': {'query_name': 'q5', 'application_id': 'app-20250506055856-0001', 'application_time_taken': 78.1411037939979, 'query_status': 'pass', 'start_time': 1746511284.0701957}, 'q6': {'query_name': 'q6', 'application_id': 'app-20250506055856-0001', 'application_time_taken': 4.764243353998609, 'query_status': 'pass', 'start_time': 1746511362.2371879}, 'q7': {'query_name': 'q7', 'application_id': 'app-20250506055856-0001', 'application_time_taken': 22.89881995199903, 'query_status': 'pass', 'start_time': 1746511367.146334}, 'q8': {'query_name': 'q8', 'application_id': 'app-20250506055856-0001', 'application_time_taken': 104.80522146400108, 'query_status': 'pass', 'start_time': 1746511390.0814133}, 'q9': {'query_name': 'q9', 'application_id': 'app-20250506055856-0001', 'application_time_taken': 159.26335125399783, 'query_status': 'pass', 'start_time': 1746511494.9089937}, 'q10': {'query_name': 'q10', 'application_id': 'app-20250506055856-0001', 'application_time_taken': 37.072720071999356, 'query_status': 'pass', 'start_time': 1746511654.1922252}, 'q11': {'query_name': 'q11', 'application_id': 'app-20250506055856-0001', 'application_time_taken': 13.87158389400065, 'query_status': 'pass', 'start_time': 1746511691.3196092}, 'q12': {'query_name': 'q12', 'application_id': 'app-20250506055856-0001', 'application_time_taken': 17.52122706100272, 'query_status': 'pass', 'start_time': 1746511705.2081}, 'q13': {'query_name': 'q13', 'application_id': 'app-20250506055856-0001', 'application_time_taken': 34.65130793199933, 'query_status': 'pass', 'start_time': 1746511722.7448514}, 'q14': {'query_name': 'q14', 'application_id': 'app-20250506055856-0001', 'application_time_taken': 7.289420291999704, 'query_status': 'pass', 'start_time': 1746511757.4124784}, 'q15': {'query_name': 'q15', 'application_id': 'app-20250506055856-0001', 'application_time_taken': 18.726403921999008, 'query_status': 'pass', 'start_time': 1746511764.8323014}, 'q16': {'query_name': 'q16', 'application_id': 'app-20250506055856-0001', 'application_time_taken': 6.704409403999307, 'query_status': 'pass', 'start_time': 1746511783.575985}, 'q17': {'query_name': 'q17', 'application_id': 'app-20250506055856-0001', 'application_time_taken': 88.88177390299825, 'query_status': 'pass', 'start_time': 1746511790.2984638}, 'q18': {'query_name': 'q18', 'application_id': 'app-20250506055856-0001', 'application_time_taken': 111.84209268499762, 'query_status': 'pass', 'start_time': 1746511879.1980214}, 'q19': {'query_name': 'q19', 'application_id': 'app-20250506055856-0001', 'application_time_taken': 8.588934404997417, 'query_status': 'pass', 'start_time': 1746511991.0557368}, 'q20': {'query_name': 'q20', 'application_id': 'app-20250506055856-0001', 'application_time_taken': 13.307015337002667, 'query_status': 'pass', 'start_time': 1746511999.6687906}, 'q21': {'query_name': 'q21', 'application_id': 'app-20250506055856-0001', 'application_time_taken': 281.39665423800034, 'query_status': 'pass', 'start_time': 1746512013.0043855}, 'q22': {'query_name': 'q22', 'application_id': 'app-20250506055856-0001', 'application_time_taken': 8.323582978999184, 'query_status': 'pass', 'start_time': 1746512294.4233162}}\n",
      "\n",
      "total duration:\n",
      "1092.1010667869923\n",
      "\n",
      "app-20250506055856-0001\n",
      "22.824918061000062\n",
      "10.801454642001772\n",
      "22.370196338000824\n",
      "18.054631803999655\n",
      "78.1411037939979\n",
      "4.764243353998609\n",
      "22.89881995199903\n",
      "104.80522146400108\n",
      "159.26335125399783\n",
      "37.072720071999356\n",
      "13.87158389400065\n",
      "17.52122706100272\n",
      "34.65130793199933\n",
      "7.289420291999704\n",
      "18.726403921999008\n",
      "6.704409403999307\n",
      "88.88177390299825\n",
      "111.84209268499762\n",
      "8.588934404997417\n",
      "13.307015337002667\n",
      "281.39665423800034\n",
      "8.323582978999184\n"
     ]
    }
   ],
   "source": [
    "bm.test_tpc.print_result()"
   ]
  },
  {
   "cell_type": "code",
   "execution_count": 8,
   "metadata": {},
   "outputs": [
    {
     "name": "stdout",
     "output_type": "stream",
     "text": [
      "appid is  app-20250506055856-0001\n",
      "saved to /opt/spark/work-dir/profile/\n"
     ]
    }
   ],
   "source": [
    "bm.collect_profile()"
   ]
  },
  {
   "cell_type": "code",
   "execution_count": 10,
   "metadata": {},
   "outputs": [
    {
     "ename": "FileNotFoundError",
     "evalue": "[Errno 2] No such file or directory: '/opt/spark/work-dir/profile/app-20250506055856-0001/app-20250506055856-0001'",
     "output_type": "error",
     "traceback": [
      "\u001b[0;31m---------------------------------------------------------------------------\u001b[0m",
      "\u001b[0;31mFileNotFoundError\u001b[0m                         Traceback (most recent call last)",
      "Cell \u001b[0;32mIn[10], line 2\u001b[0m\n\u001b[1;32m      1\u001b[0m \u001b[38;5;28;01mimport\u001b[39;00m\u001b[38;5;250m \u001b[39m\u001b[38;5;21;01mgzip\u001b[39;00m\n\u001b[0;32m----> 2\u001b[0m \u001b[38;5;28;01mwith\u001b[39;00m \u001b[38;5;28;43mopen\u001b[39;49m\u001b[43m(\u001b[49m\u001b[38;5;124;43mf\u001b[39;49m\u001b[38;5;124;43m'\u001b[39;49m\u001b[38;5;124;43m/opt/spark/work-dir/profile/\u001b[39;49m\u001b[38;5;132;43;01m{\u001b[39;49;00m\u001b[43mbm\u001b[49m\u001b[38;5;241;43m.\u001b[39;49m\u001b[43mappid\u001b[49m\u001b[38;5;132;43;01m}\u001b[39;49;00m\u001b[38;5;124;43m/\u001b[39;49m\u001b[38;5;132;43;01m{\u001b[39;49;00m\u001b[43mbm\u001b[49m\u001b[38;5;241;43m.\u001b[39;49m\u001b[43mappid\u001b[49m\u001b[38;5;132;43;01m}\u001b[39;49;00m\u001b[38;5;124;43m'\u001b[39;49m\u001b[43m,\u001b[49m\u001b[43m \u001b[49m\u001b[38;5;124;43m'\u001b[39;49m\u001b[38;5;124;43mrb\u001b[39;49m\u001b[38;5;124;43m'\u001b[39;49m\u001b[43m)\u001b[49m \u001b[38;5;28;01mas\u001b[39;00m f_in, \\\n\u001b[1;32m      3\u001b[0m     gzip\u001b[38;5;241m.\u001b[39mopen(\u001b[38;5;124mf\u001b[39m\u001b[38;5;124m'\u001b[39m\u001b[38;5;124m/opt/spark/work-dir/profile/\u001b[39m\u001b[38;5;132;01m{\u001b[39;00mbm\u001b[38;5;241m.\u001b[39mappid\u001b[38;5;132;01m}\u001b[39;00m\u001b[38;5;124m/\u001b[39m\u001b[38;5;132;01m{\u001b[39;00mbm\u001b[38;5;241m.\u001b[39mappid\u001b[38;5;132;01m}\u001b[39;00m\u001b[38;5;124m.gz\u001b[39m\u001b[38;5;124m'\u001b[39m, \u001b[38;5;124m'\u001b[39m\u001b[38;5;124mwb\u001b[39m\u001b[38;5;124m'\u001b[39m) \u001b[38;5;28;01mas\u001b[39;00m f_out:\n\u001b[1;32m      4\u001b[0m     f_out\u001b[38;5;241m.\u001b[39mwritelines(f_in)\n",
      "File \u001b[0;32m/usr/local/lib/python3.9/site-packages/IPython/core/interactiveshell.py:310\u001b[0m, in \u001b[0;36m_modified_open\u001b[0;34m(file, *args, **kwargs)\u001b[0m\n\u001b[1;32m    303\u001b[0m \u001b[38;5;28;01mif\u001b[39;00m file \u001b[38;5;129;01min\u001b[39;00m {\u001b[38;5;241m0\u001b[39m, \u001b[38;5;241m1\u001b[39m, \u001b[38;5;241m2\u001b[39m}:\n\u001b[1;32m    304\u001b[0m     \u001b[38;5;28;01mraise\u001b[39;00m \u001b[38;5;167;01mValueError\u001b[39;00m(\n\u001b[1;32m    305\u001b[0m         \u001b[38;5;124mf\u001b[39m\u001b[38;5;124m\"\u001b[39m\u001b[38;5;124mIPython won\u001b[39m\u001b[38;5;124m'\u001b[39m\u001b[38;5;124mt let you open fd=\u001b[39m\u001b[38;5;132;01m{\u001b[39;00mfile\u001b[38;5;132;01m}\u001b[39;00m\u001b[38;5;124m by default \u001b[39m\u001b[38;5;124m\"\u001b[39m\n\u001b[1;32m    306\u001b[0m         \u001b[38;5;124m\"\u001b[39m\u001b[38;5;124mas it is likely to crash IPython. If you know what you are doing, \u001b[39m\u001b[38;5;124m\"\u001b[39m\n\u001b[1;32m    307\u001b[0m         \u001b[38;5;124m\"\u001b[39m\u001b[38;5;124myou can use builtins\u001b[39m\u001b[38;5;124m'\u001b[39m\u001b[38;5;124m open.\u001b[39m\u001b[38;5;124m\"\u001b[39m\n\u001b[1;32m    308\u001b[0m     )\n\u001b[0;32m--> 310\u001b[0m \u001b[38;5;28;01mreturn\u001b[39;00m \u001b[43mio_open\u001b[49m\u001b[43m(\u001b[49m\u001b[43mfile\u001b[49m\u001b[43m,\u001b[49m\u001b[43m \u001b[49m\u001b[38;5;241;43m*\u001b[39;49m\u001b[43margs\u001b[49m\u001b[43m,\u001b[49m\u001b[43m \u001b[49m\u001b[38;5;241;43m*\u001b[39;49m\u001b[38;5;241;43m*\u001b[39;49m\u001b[43mkwargs\u001b[49m\u001b[43m)\u001b[49m\n",
      "\u001b[0;31mFileNotFoundError\u001b[0m: [Errno 2] No such file or directory: '/opt/spark/work-dir/profile/app-20250506055856-0001/app-20250506055856-0001'"
     ]
    }
   ],
   "source": [
    "import gzip\n",
    "with open(f'/opt/spark/work-dir/profile/{bm.appid}/{bm.appid}', 'rb') as f_in, \\\n",
    "    gzip.open(f'/opt/spark/work-dir/profile/{bm.appid}/{bm.appid}.gz', 'wb') as f_out:\n",
    "    f_out.writelines(f_in)"
   ]
  },
  {
   "cell_type": "code",
   "execution_count": null,
   "metadata": {},
   "outputs": [],
   "source": []
  }
 ],
 "metadata": {
  "celltoolbar": "Tags",
  "hide_input": false,
  "kernelspec": {
   "display_name": "Python 3 (ipykernel)",
   "language": "python",
   "name": "python3"
  },
  "language_info": {
   "codemirror_mode": {
    "name": "ipython",
    "version": 3
   },
   "file_extension": ".py",
   "mimetype": "text/x-python",
   "name": "python",
   "nbconvert_exporter": "python",
   "pygments_lexer": "ipython3",
   "version": "3.9.21"
  },
  "nbTranslate": {
   "displayLangs": [
    "*"
   ],
   "hotkey": "alt-t",
   "langInMainMenu": true,
   "sourceLang": "en",
   "targetLang": "fr",
   "useGoogleTranslate": true
  },
  "toc": {
   "base_numbering": 1,
   "nav_menu": {},
   "number_sections": true,
   "sideBar": false,
   "skip_h1_title": false,
   "title_cell": "Table of Contents",
   "title_sidebar": "Contents",
   "toc_cell": false,
   "toc_position": {
    "height": "428.672px",
    "left": "1641.91px",
    "top": "111.125px",
    "width": "456.969px"
   },
   "toc_section_display": false,
   "toc_window_display": true
  },
  "varInspector": {
   "cols": {
    "lenName": 16,
    "lenType": 16,
    "lenVar": 40
   },
   "kernels_config": {
    "python": {
     "delete_cmd_postfix": "",
     "delete_cmd_prefix": "del ",
     "library": "var_list.py",
     "varRefreshCmd": "print(var_dic_list())"
    },
    "r": {
     "delete_cmd_postfix": ") ",
     "delete_cmd_prefix": "rm(",
     "library": "var_list.r",
     "varRefreshCmd": "cat(var_dic_list()) "
    }
   },
   "types_to_exclude": [
    "module",
    "function",
    "builtin_function_or_method",
    "instance",
    "_Feature"
   ],
   "window_display": false
  }
 },
 "nbformat": 4,
 "nbformat_minor": 4
}
